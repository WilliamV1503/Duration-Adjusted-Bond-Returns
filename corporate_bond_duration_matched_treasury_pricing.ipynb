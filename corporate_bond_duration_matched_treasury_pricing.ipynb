{
 "cells": [
  {
   "cell_type": "markdown",
   "id": "a55c0b03-e57e-4e91-a864-535f4930ce70",
   "metadata": {},
   "source": [
    "# Corporate Bullet Bond and Duration-Matched Treasury Pricing"
   ]
  },
  {
   "cell_type": "code",
   "execution_count": 1,
   "id": "a420f10f-ddf6-4abe-8bc6-1e7c5835017e",
   "metadata": {},
   "outputs": [],
   "source": [
    "import pandas as pd\n",
    "import numpy as np\n",
    "import os\n",
    "import shutil\n",
    "import json\n",
    "import matplotlib.pyplot as plt\n",
    "from pyspark.sql import SparkSession\n",
    "from pyspark.sql import functions as F\n",
    "from pyspark.sql.types import StructType, StructField, StringType, DateType, TimestampType, FloatType, IntegerType\n",
    "from pyspark.sql.functions import udf\n",
    "from datetime import datetime as dt\n",
    "import calendar\n",
    "from pandas.tseries.offsets import MonthEnd, MonthBegin, BDay, CustomBusinessDay\n",
    "from pandas.tseries.holiday import (AbstractHolidayCalendar, Holiday, USMartinLutherKingJr, USPresidentsDay, USMemorialDay, \n",
    "USLaborDay, USThanksgivingDay, nearest_workday)\n",
    "from scipy.optimize import minimize_scalar, root_scalar\n",
    "import time"
   ]
  },
  {
   "cell_type": "markdown",
   "id": "8241490b-74f7-43cf-b35c-79aabf341ff0",
   "metadata": {},
   "source": [
    "## Spark Functions"
   ]
  },
  {
   "cell_type": "code",
   "execution_count": 2,
   "id": "a3be306c-f68e-4bc5-8d4b-3e5728fbe698",
   "metadata": {},
   "outputs": [],
   "source": [
    "def getWrdsDTypeDict(dirty_str):\n",
    "    '''\n",
    "    Parses string of WRDS Variable Description table copied directly from site\n",
    "    \n",
    "    Parameters:\n",
    "    dirty_str (str): WRDS variable description table text when copied and pasted directly from site\n",
    "    \n",
    "    Returns:\n",
    "    dtype_dict (dict): dictionary where keys are feature names and values are dtypes\n",
    "    '''\n",
    "    dtype_dict = {}\n",
    "    str_lines = dirty_str.split(\"\\n\")\n",
    "    \n",
    "    for line in str_lines:\n",
    "        line_contents = line.split(\"\\t\")\n",
    "        dtype_dict[line_contents[0]] = line_contents[1]\n",
    "        \n",
    "    return dtype_dict\n",
    "\n",
    "\n",
    "def wrdsToSparkDTypeDict(wrds_dtype_dict, force_custom=False):\n",
    "    '''\n",
    "    Converts data types from WRDS Variable Description table to equivalent Spark data type object\n",
    "    \n",
    "    Parameters:\n",
    "    wrds_dtype_dict (dict): dictionary of WRDS variables (keys) and dtypes as they appear in WRDS (values)\n",
    "    force_custom (bool): when True, any WRDS variables that satisfies a certain condition is forced to be cast as different spark dtype than\n",
    "                         suggested by WRDS\n",
    "    \n",
    "    Returns:\n",
    "    spark_dtype_dict (dict): dictionary of WRDS table features (keys) and dtype objects from spark.sql.types (values)\n",
    "    '''\n",
    "    spark_dtype_dict = {}\n",
    "    wrds_to_spark_dtype_map = {\n",
    "        \"Char\": StringType(),\n",
    "        \"Date\": DateType(),\n",
    "        \"Float\": FloatType(),\n",
    "        \"Time\": TimestampType()\n",
    "    }\n",
    "    for feature, wrds_dtype in wrds_dtype_dict.items():\n",
    "        spark_dtype_dict[feature] = wrds_to_spark_dtype_map[wrds_dtype]\n",
    "        if force_custom: \n",
    "            #time variables are interpreted as strings by default by Spark\n",
    "            if feature in [\"trd_exctn_tm\", \"trd_rpt_tm\"]:\n",
    "                spark_dtype_dict[feature] = StringType()\n",
    "            #these variables initially expressed as char type are best cast to ints\n",
    "            if feature in [\"days_to_sttl_ct\", \"naics_code\"]:\n",
    "                spark_dtype_dict[feature] = IntegerType()\n",
    "            \n",
    "    return spark_dtype_dict\n",
    "\n",
    "\n",
    "def getSparkSchema(raw_csv_cols, dirty_wrds_str, force_custom=False):\n",
    "    '''\n",
    "    Obtains Spark DataFrame schema using variable names and WRDS variable description string\n",
    "    \n",
    "    Parameters:\n",
    "    raw_csv_cols (list): column names obtained from reading csv with inferSchema=False (faster)\n",
    "    dirty_wrds_str (str): WRDS variable descriptions table text when copied and pasted directly from site\n",
    "    force_custom (bool): when True, any WRDS table feature that satisfies a certain condition is forced to be cast as different spark dtype \n",
    "                         than suggested by WRDS\n",
    "    \n",
    "    Returns:\n",
    "    (schema, spark_dtype_dict, wrds_dtype_dict) ((StructType, dict, dict)): structype schema for WRDS csv loading, \n",
    "                                                                            dictionary of WRDS table features (keys) and dtype objects from \n",
    "                                                                            spark.sql.types (values), dictionary where keys are feature names \n",
    "                                                                            and values are dtypes\n",
    "    \n",
    "    '''\n",
    "    wrds_dtype_dict = getWrdsDTypeDict(dirty_wrds_str)\n",
    "    spark_dtype_dict = wrdsToSparkDTypeDict(wrds_dtype_dict, force_custom)\n",
    "    schema = StructType([StructField(feature, spark_dtype_dict[feature], True) for feature in raw_csv_cols])\n",
    "    \n",
    "    return schema, spark_dtype_dict, wrds_dtype_dict\n",
    "\n",
    "def sparkDTypeToStrMap(dict_of_dtypes, setting=0):\n",
    "    '''\n",
    "    Creates map that either facilitates saving or loading dictionary of variables and their corresponding Spark data type objects \n",
    "    \n",
    "    Parameters:\n",
    "    dict_of_dtypes (dict): dictionary where values are feature column names from TRACE or Mergent and values are spark dtype objects or \n",
    "                           str representations of them setting (int): 0 = object to string, 1 = string to object\n",
    "    \n",
    "    Returns:\n",
    "    output_dict (dict): dictionary where values are feature column names from TRACE or MERGENT and values are the swapped spark dtype \n",
    "                        objects or str representations of them\n",
    "    '''\n",
    "    output_dict = {}\n",
    "    str_to_obj_map = {\n",
    "        \"StringType\": StringType(),\n",
    "        \"DateType\": DateType(),\n",
    "        \"FloatType\": FloatType(),\n",
    "        \"TimestampType\": TimestampType(),\n",
    "        \"IntegerType\": IntegerType()\n",
    "    }\n",
    "    for key, value in dict_of_dtypes.items():\n",
    "        #setting 1 used when loading a dictionary\n",
    "        if setting == 1:\n",
    "            output_dict[key] = str_to_obj_map[value]\n",
    "        #setting 0 used when saving a dictionary\n",
    "        if setting == 0:\n",
    "            if value == StringType():\n",
    "                output_dict[key] = \"StringType\"\n",
    "            if value == DateType():\n",
    "                output_dict[key] = \"DateType\"\n",
    "            if value == FloatType():\n",
    "                output_dict[key] = \"FloatType\"\n",
    "            if value == TimestampType():\n",
    "                output_dict[key] = \"TimestampType\"\n",
    "            if value == IntegerType():\n",
    "                output_dict[key] = \"IntegerType\"\n",
    "                \n",
    "    return output_dict\n",
    "\n",
    "def getSparkSchema2(list_of_cols, json_folder_path, return_cols_by_origin=False):\n",
    "    '''\n",
    "    Obtain Spark schema from saved dictionary of variable names and data types\n",
    "    \n",
    "    Parameters:\n",
    "    list_of_cols (list): list of variable column names\n",
    "    json_folder_path (str): name of folder in which json files are stored\n",
    "    return_cols_by_origin (bool): if True, returns dictionary where 'TRACE' and 'Mergent' are keys, and each value is the list \n",
    "                                  of variables according to whether they are from the TRACE or Mergent dataset \n",
    "                                  \n",
    "    Returns:\n",
    "    (df_schema, cols_by_origin_dict) (StructType, dict): Spark schema for DataFrame, dictionary of variable lists according to dataset origin\n",
    "    '''\n",
    "    with open(json_folder_path + \"trace_spark_dtype_dict.json\",\"r\") as file:\n",
    "        trace_spark_dtype_str_dict = json.load(file)\n",
    "    trace_spark_dtype_dict = sparkDTypeToStrMap(trace_spark_dtype_str_dict, 1)\n",
    "    \n",
    "    with open(json_folder_path + \"mergent_spark_dtype_dict.json\",\"r\") as file:\n",
    "        mergent_spark_dtype_str_dict = json.load(file)\n",
    "    mergent_spark_dtype_dict = sparkDTypeToStrMap(mergent_spark_dtype_str_dict, 1)\n",
    "\n",
    "    #new dictionary to be used to generate output schema\n",
    "    df_spark_dtype_dict = {}\n",
    "    for col in list_of_cols:\n",
    "        if col in trace_spark_dtype_dict.keys():\n",
    "            df_spark_dtype_dict[col] = trace_spark_dtype_dict[col]\n",
    "            \n",
    "        else:\n",
    "            df_spark_dtype_dict[col] = mergent_spark_dtype_dict[col]\n",
    "            \n",
    "    df_schema = StructType([StructField(col,df_spark_dtype_dict[col], True) for col in df_spark_dtype_dict.keys()])\n",
    "    \n",
    "    if return_cols_by_origin:\n",
    "        cols_by_origin_dict = {}\n",
    "        trace_cols = list(set(list_of_cols) & set(list(trace_spark_dtype_dict.keys())))\n",
    "        mergent_cols = list(set(list_of_cols) & set(list(mergent_spark_dtype_dict.keys())))\n",
    "        cols_by_origin_dict[\"trace\"] = trace_cols\n",
    "        cols_by_origin_dict[\"mergent\"] = mergent_cols\n",
    "        \n",
    "        return df_schema, cols_by_origin_dict\n",
    "        \n",
    "    return df_schema, None\n",
    "\n",
    "def fixNAICSToInt(naics):\n",
    "    '''\n",
    "    If the NAICS code string is smaller than 6 characters, append a 0 (appears to be common entry error)\n",
    "    \n",
    "    Paramters:\n",
    "    naics (str): string of NAICS code\n",
    "    \n",
    "    Returns:\n",
    "    naics_str: naics code string with appended 0\n",
    "    '''\n",
    "    if naics is None:\n",
    "        return None\n",
    "        \n",
    "    naics_str = str(naics)\n",
    "    \n",
    "    if len(naics_str) < 6:\n",
    "        naics_str = naics_str.ljust(6, \"0\")\n",
    "        \n",
    "    return int(naics_str)"
   ]
  },
  {
   "cell_type": "markdown",
   "id": "bdd0ada3-3abe-4a5a-baaa-4eeb41d4e5fc",
   "metadata": {},
   "source": [
    "## Pricing Functions"
   ]
  },
  {
   "cell_type": "code",
   "execution_count": 3,
   "id": "0e8e8425-e79e-4060-bb32-37deb44797f3",
   "metadata": {},
   "outputs": [],
   "source": [
    "class CustomUSHolidayCalendar(AbstractHolidayCalendar):\n",
    "    #class that inherits AbstractHolidayCalendar class, but with rules set to accomodate trading holidays \n",
    "    rules = [\n",
    "        Holiday(\"NewYearsDay\", month=1, day=1, observance=nearest_workday),\n",
    "        USMartinLutherKingJr,\n",
    "        USPresidentsDay,\n",
    "        USMemorialDay,\n",
    "        Holiday(\"Juneteenth\", month=6, day=19, start_date=\"2021-01-01\", observance=nearest_workday),\n",
    "        Holiday(\"IndependenceDay\", month=7, day=4, observance=nearest_workday),\n",
    "        USLaborDay,\n",
    "        USThanksgivingDay, \n",
    "        Holiday(\"Christmas\", month=12, day=25, observance=nearest_workday)\n",
    "    ]\n",
    "    \n",
    "\n",
    "def getTradingDaysObject():\n",
    "    '''\n",
    "    Creates pandas CustomBusinessDay object with trading holiday dates generated over sample period\n",
    "\n",
    "    Returns:\n",
    "    CustomBusinessDay object: object that can differentiate between valid trading days and holidays/weekends\n",
    "    '''\n",
    "    calendar_object = CustomUSHolidayCalendar()\n",
    "    trading_holidays = calendar_object.holidays(start=\"2002-01-01\", end=\"2025-12-31\") \n",
    "    \n",
    "    return CustomBusinessDay(holidays=trading_holidays)\n",
    "    \n",
    "\n",
    "def marketHoursTimestampRestriction(timestamps):\n",
    "    '''\n",
    "    Floors/Caps any trade execution times outside typical market hours to 9:30AM/4:00PM (price distortion may be minimal in current framework,\n",
    "                                                                                         restriction done to keep data points)\n",
    "\n",
    "    Paramters:\n",
    "    timestamps (pd.Series): series of all trade execution timestamps\n",
    "    \n",
    "    Returns:\n",
    "    restricted_timestamps (pd.Series): series of all trade execution timestamps restricted to typical market hours\n",
    "    '''\n",
    "    market_open_timestamps = pd.to_datetime({\n",
    "        \"year\": timestamps.dt.year,\n",
    "        \"month\": timestamps.dt.month,\n",
    "        \"day\": timestamps.dt.day,\n",
    "        \"hour\": 9,\n",
    "        \"minute\": 30,\n",
    "        \"second\": 0\n",
    "    })\n",
    "    market_close_timestamps = pd.to_datetime({\n",
    "        \"year\": timestamps.dt.year,\n",
    "        \"month\": timestamps.dt.month,\n",
    "        \"day\": timestamps.dt.day,\n",
    "        \"hour\": 16,\n",
    "        \"minute\": 0,\n",
    "        \"second\": 0\n",
    "    })\n",
    "    \n",
    "    early_mask = (timestamps.dt.hour < 9) | ((timestamps.dt.hour == 9) & (timestamps.dt.minute < 30))\n",
    "    late_mask = (timestamps.dt.hour > 16) | ((timestamps.dt.hour == 16) & (timestamps.dt.minute > 0))\n",
    "    restricted_timestamps = timestamps.copy()\n",
    "    restricted_timestamps[early_mask] = market_open_timestamps[early_mask]\n",
    "    restricted_timestamps[late_mask] = market_close_timestamps[late_mask]\n",
    "    \n",
    "    return restricted_timestamps\n",
    "    \n",
    "    \n",
    "def get30360PaymentSchedule(dated_date, first_interest_date, last_interest_date, maturity, months_per_period, \n",
    "                            trading_days_cbd_object):\n",
    "    '''\n",
    "    Creates a list of tuples all nominal and actual payment dates of a bond issue given its dated date, first interest date, last interest \n",
    "    date, and maturity date, provided in the Mergent dataset\n",
    "\n",
    "    The actual payment date is the nominal payment date rolled forward to the nearest trading day\n",
    "\n",
    "    Parameters:\n",
    "    dated_date (datetime64[ns]): bond issue dated date\n",
    "    first_interst_date (datetime64[ns]): bond issue first interest payment date\n",
    "    lasT_interest_date (datetime64[ns]): bond issue last interest payment date\n",
    "    maturity (datetime64[ns]): bond issue maturity date\n",
    "    annual_periodicity (int): number of coupon payments per year\n",
    "    trading_days_cbd_obect (CustomBusinessDay object): CustomBusinessDay object that can differentiate between valid trading days and \n",
    "                                                       holidays/weekends\n",
    "    \n",
    "    Returns:\n",
    "    payment_schedule_list (list): list of tuples of bond issue's nominal and actual payment date timestamps\n",
    "    '''\n",
    "    payment_schedule_list = []\n",
    "    temp_pymnt_date = first_interest_date\n",
    "    temp_act_pymnt_date = first_interest_date\n",
    "    \n",
    "    while temp_pymnt_date <= last_interest_date:\n",
    "        temp_act_pymnt_date = trading_days_cbd_object.rollforward(temp_pymnt_date)\n",
    "        payment_schedule_list.append((temp_pymnt_date, temp_act_pymnt_date))\n",
    "        temp_pymnt_date += pd.DateOffset(months=months_per_period)\n",
    "\n",
    "    temp_act_pymnt_date = trading_days_cbd_object.rollforward(maturity)\n",
    "    payment_schedule_list.append((maturity, temp_act_pymnt_date))\n",
    "    \n",
    "    return payment_schedule_list\n",
    "    \n",
    "\n",
    "def group30360PaymentSchedule(group, months_per_period, global_payment_schedule_dict, trading_days_cbd_object):\n",
    "    '''\n",
    "    Mutator function that updates a globally declared dictionary with each bond issue's 30/360 payment schedule list; this function\n",
    "    is applied to groups obtained by grouping a DataFrame by complete_cusip\n",
    "\n",
    "    Parameters:\n",
    "    group (pandas group object): sub DataFrame for corresponding complete_cusip\n",
    "    annual_periodicity (int): number of coupon payments per year\n",
    "    global_payment_schedule_dict (dict): globally declared dictionary to be mutated\n",
    "    trading_days_cbd_obect (CustomBusinessDay object): CustomBusinessDay object that can differentiate between valid trading \n",
    "                                                       days and holidays/weekends\n",
    "    \n",
    "    Returns:\n",
    "    None\n",
    "    '''\n",
    "    row = group.iloc[0]\n",
    "    curr_payment_schedule = get30360PaymentSchedule(\n",
    "        row[\"dated_date\"], \n",
    "        row[\"first_interest_date\"],\n",
    "        row[\"last_interest_date\"],\n",
    "        row[\"maturity\"],\n",
    "        months_per_period,\n",
    "        trading_days_cbd_object\n",
    "    )\n",
    "    global_payment_schedule_dict[row[\"complete_cusip\"]] = curr_payment_schedule\n",
    "    \n",
    "    return None\n",
    "    \n",
    "\n",
    "def savePaymentScheduleDict(file_name, global_payment_schedule_dict):\n",
    "    '''\n",
    "    Saves the globally declared payment schedule dictionary\n",
    "\n",
    "    Parameters: \n",
    "    file_name (str): file name for json file\n",
    "    global_payment_schedule_dict (dict): globally declared dictionary of payment schedules\n",
    "    \n",
    "    Returns:\n",
    "    None\n",
    "    '''\n",
    "    dict_copy = {}\n",
    "    \n",
    "    for complete_cusip, payment_schedule_list in global_payment_schedule_dict.items():\n",
    "        new_list = []\n",
    "        \n",
    "        for timestamp_tuple in payment_schedule_list:\n",
    "            #tuples converted to ISO string format\n",
    "            new_tuple = (timestamp_tuple[0].isoformat(), timestamp_tuple[1].isoformat())\n",
    "            new_list.append(new_tuple)\n",
    "            \n",
    "        dict_copy[complete_cusip] = new_list\n",
    "        \n",
    "    with open(file_name, \"w\") as file:\n",
    "        json.dump(dict_copy, file)\n",
    "    print(\"SAVED PAYMENT SCHEDULE DICT\")\n",
    "    \n",
    "    return None\n",
    "\n",
    "\n",
    "def loadPaymentScheduleDict(file_name):\n",
    "    '''\n",
    "    Loads from json file the globally declared payment schedule dictionary\n",
    "\n",
    "    Parameters:\n",
    "    file_name (str): name of json file to load in\n",
    "    \n",
    "    Returns:\n",
    "    None\n",
    "    '''\n",
    "    with open(file_name, \"r\") as file:\n",
    "        new_payment_schedule_dict = json.load(file)\n",
    "        \n",
    "    for complete_cusip, payment_schedule_list in new_payment_schedule_dict.items():\n",
    "        new_list = []\n",
    "\n",
    "        #json files save tuples as lists\n",
    "        for timestamp_list in payment_schedule_list:\n",
    "            new_tuple = (pd.Timestamp(timestamp_list[0]), pd.Timestamp(timestamp_list[1]))\n",
    "            new_list.append(new_tuple)\n",
    "            \n",
    "        new_payment_schedule_dict[complete_cusip] = new_list\n",
    "        \n",
    "    return new_payment_schedule_dict\n",
    "    \n",
    "\n",
    "def isPaymentDay(payment_date_list, date):\n",
    "    '''\n",
    "    Determines if a timestamp date occurs on a bond issue's actual payment date\n",
    "\n",
    "    Parameters:\n",
    "    payment_date_list (list): list of tuples of bond issue's nominal and actual payment date timestamps\n",
    "    date (datetime64[ns]): date timestamp to be tested \n",
    "    \n",
    "    Returns:\n",
    "    (bool): True if is an actual payment date, False otherwise\n",
    "    '''\n",
    "    for timestamp_tuple in payment_date_list:\n",
    "\n",
    "        temp_act_pymnt_date = timestamp_tuple[1]\n",
    "        is_payment_day = ((date.year == temp_act_pymnt_date.year) and \\\n",
    "                   (date.month == temp_act_pymnt_date.month) and \\\n",
    "                   (date.day == temp_act_pymnt_date.day)\n",
    "                  )\n",
    "        if is_payment_day:\n",
    "            \n",
    "            return True\n",
    "            \n",
    "    return False\n",
    "    \n",
    "\n",
    "def yearsElapsed30360DayCount(start_date, end_date):\n",
    "    '''\n",
    "    Calculates years elapsed between two dates using the ISDA 30U/360 US day count convention with EOM convention always on; \n",
    "    conditions are applied in the order provided by ISDA, carrying any adjusted days over to following conditions\n",
    "    (uses linear intraday accrual with second-level granularity)\n",
    "\n",
    "    Parameters:\n",
    "    start_date (datetime[ns]): start date timestamp\n",
    "    end_date (datetime[ns]): end date timestamp\n",
    "\n",
    "    Returns:\n",
    "    max(0, years_elapsed) (float): time in years between the dates using 30/360 daycount convention\n",
    "    '''\n",
    "    #initial check to avoid negative time differences\n",
    "    if end_date <= start_date:\n",
    "        return 0\n",
    "        \n",
    "    start_year = start_date.year\n",
    "    start_month = start_date.month\n",
    "    start_day = start_date.day\n",
    "    end_year = end_date.year\n",
    "    end_month = end_date.month\n",
    "    end_day = end_date.day\n",
    "    \n",
    "    #first two february ISDA conditions in order\n",
    "    if (start_month == 2) and (start_date.is_month_end):\n",
    "        if (end_month == 2) and (end_date.is_month_end):\n",
    "            end_day = 30\n",
    "        start_day = 30\n",
    "        \n",
    "    #penultimate ISDA condition \n",
    "    if (end_day == 31) and (start_day > 29):\n",
    "        end_day = 30\n",
    "\n",
    "    #final ISDA condition\n",
    "    if start_day == 31:\n",
    "        start_day = 30\n",
    "\n",
    "    year_days_elapsed = (end_year - start_year) * 360\n",
    "    month_days_elapsed = (end_month - start_month) * 30\n",
    "    day_days_elapsed = end_day - start_day\n",
    "    hour_days_elapsed = (end_date.hour - start_date.hour) / 24\n",
    "    minute_days_elapsed = (end_date.minute - start_date.minute) / 1440\n",
    "    second_days_elapsed = (end_date.second - start_date.second) / 86400\n",
    "    \n",
    "    years_elapsed = (year_days_elapsed + \\\n",
    "                    month_days_elapsed + \\\n",
    "                    day_days_elapsed + \\\n",
    "                    hour_days_elapsed + \\\n",
    "                    minute_days_elapsed + \\\n",
    "                    second_days_elapsed\n",
    "                   ) / 360\n",
    "\n",
    "    #final check to avoid any potential negative time differences\n",
    "    return max(0, years_elapsed)\n",
    "\n",
    "def yearsElapsedActualActualDayCount(start_date, end_date):\n",
    "    '''\n",
    "    Calculates years elapsed between two dates using the ISDA Actual/Actual daycount convention; \n",
    "    supports any time difference (uses linear intraday accrual with second-level granularity)\n",
    "\n",
    "    Parameters:\n",
    "    start_date (datetime[ns]): start date timestamp\n",
    "    end_date (datetime[ns]): end date timestamp\n",
    "\n",
    "    Returns:\n",
    "    max(0, years_elapsed) (float): time in years between the dates using Actual/Actual daycount convention\n",
    "    '''\n",
    "    #initial check to avoid negative time differences\n",
    "    if end_date <= start_date:\n",
    "        return 0\n",
    "    \n",
    "    years_elapsed = 0    \n",
    "    temp_date = start_date\n",
    "\n",
    "    #loop that splits different years by January 1st and divides days elapsed by corresponding days per year\n",
    "    while temp_date.year < end_date.year:\n",
    "        next_jan_first = pd.Timestamp(year=temp_date.year + 1, \n",
    "                                      month=1, \n",
    "                                      day=1, \n",
    "                                      hour=0, \n",
    "                                      minute=0, \n",
    "                                      second=0)\n",
    "        days_in_year = 366 if calendar.isleap(temp_date.year) else 365\n",
    "        years_elapsed += (next_jan_first - temp_date).total_seconds() / (days_in_year * 86400)\n",
    "        temp_date = next_jan_first\n",
    "\n",
    "    days_in_year = 366 if calendar.isleap(temp_date.year) else 365\n",
    "    years_elapsed += (end_date - temp_date).total_seconds() / (days_in_year * 86400)\n",
    "\n",
    "    #final check to avoid any potential negative time differences\n",
    "    return max(0, years_elapsed)\n",
    "    \n",
    "\n",
    "def calcAccruedInterest(coupon, periodicity, face_value, dated_date, asof_date, complete_cusip, \n",
    "                        global_payment_schedule_dict):\n",
    "    '''\n",
    "    Calculates Accrued Interest using \"continuously compounded interest received so far\" / \"continuously compounded interest \n",
    "    expected in period\" fraction instead of the \"days elapsed\" / \"days in period\" fraction\n",
    "\n",
    "    Parameters:\n",
    "    coupon (float): annual coupon rate in percentage terms\n",
    "    periodicity (int): coupon payments per year\n",
    "    face_value (float): face value of bond\n",
    "    dated_date (datetime64[ns]): dated date of bond\n",
    "    asof_date (datetime64[ns]): trade execution date and time\n",
    "    complete_cusip (str): complete cusip of bond issue\n",
    "    global_payment_schedule_dict (dict): globally declared dictionary of payment schedules\n",
    "\n",
    "    Returns:\n",
    "    acc_amt (float): accrued interest since last coupon payment (or dated date)\n",
    "    '''\n",
    "    #get bond issue's payment schedule list\n",
    "    pymnt_dt_list = global_payment_schedule_dict[complete_cusip]\n",
    "    maturity = pymnt_dt_list[-1][1]\n",
    "\n",
    "    acc_amt = 0\n",
    "\n",
    "    #set accrued interest to 0 on payment dates\n",
    "    if isPaymentDay(pymnt_dt_list, asof_date):\n",
    "        return acc_amt\n",
    "\n",
    "    #check if trade occurs during a valid interest accrual period\n",
    "    if (asof_date >= dated_date) and (asof_date <= maturity):\n",
    "\n",
    "        reg_cpn = coupon / (periodicity * 100)\n",
    "        #obtain the equivalent annual continuously compounded coupon rate\n",
    "        cont_cpn = periodicity * (np.log(1 + reg_cpn))\n",
    "        yrs_per_period = 1 / periodicity\n",
    "\n",
    "        left_date = None\n",
    "        right_date = None\n",
    "        pymnt_dt_list = [(dated_date, dated_date)] + pymnt_dt_list\n",
    "            \n",
    "        for i in range(1,len(pymnt_dt_list)):\n",
    "            left_date = pymnt_dt_list[i-1][1]\n",
    "            right_date = pymnt_dt_list[i][1]\n",
    "            #determine current payment date interval\n",
    "            if (asof_date >= left_date) and (asof_date <= right_date):\n",
    "                break\n",
    "                \n",
    "        yrs_elapsed = yearsElapsed30360DayCount(left_date, asof_date)\n",
    "\n",
    "        #avoid negative accrued interest values\n",
    "        if yrs_elapsed == 0:\n",
    "            return acc_amt\n",
    "\n",
    "        #accrued interest calculation based on time elapsed in period \n",
    "        acc_amt =  (face_value * reg_cpn) * ((np.exp(cont_cpn * yrs_elapsed) - 1) / \\\n",
    "                                             (np.exp(cont_cpn * yrs_per_period) - 1))\n",
    "            \n",
    "    return acc_amt\n",
    "    \n",
    "\n",
    "def calcAccruedInterestLinear(coupon, periodicity, face_value, dated_date, asof_date, complete_cusip, \n",
    "                              global_payment_schedule_dict):\n",
    "    '''\n",
    "    Calculates Accrued Interest using \"days elapsed\" / \"days in period\" fraction\n",
    "\n",
    "    Parameters:\n",
    "    coupon (float): annual coupon rate in percentage terms\n",
    "    periodicity (int): coupon payments per year\n",
    "    face_value (float): face value of bond\n",
    "    dated_date (datetime64[ns]): dated date of bond\n",
    "    asof_date (datetime64[ns]): trade execution date and time\n",
    "    complete_cusip (str): complete cusip of bond issue\n",
    "    global_payment_schedule_dict (dict): globally declared dictionary of payment schedules\n",
    "\n",
    "    Returns:\n",
    "    acc_amt (float): accrued interest since last coupon payment (or dated date)\n",
    "    '''\n",
    "    #get bond issue's payment schedule list\n",
    "    pymnt_dt_list = global_payment_schedule_dict[complete_cusip]\n",
    "    maturity = pymnt_dt_list[-1][1]\n",
    "\n",
    "    acc_amt = 0\n",
    "\n",
    "    #set accrued interest to 0 on payment dates\n",
    "    if isPaymentDay(pymnt_dt_list, asof_date):\n",
    "        return acc_amt\n",
    "        \n",
    "    #check if trade occurs during a valid interest accrual period\n",
    "    if (asof_date >= dated_date) and (asof_date <= maturity):\n",
    "\n",
    "\n",
    "        reg_cpn = coupon / (periodicity * 100)\n",
    "        #obtain the equivalent annual continuously compounded coupon rate\n",
    "        cont_cpn = periodicity * (np.log(1 + reg_cpn))\n",
    "        yrs_per_period = 1 / periodicity\n",
    "\n",
    "        left_date = None\n",
    "        right_date = None\n",
    "        pymnt_dt_list = [(dated_date, dated_date)] + pymnt_dt_list\n",
    "            \n",
    "        for i in range(1,len(pymnt_dt_list)):\n",
    "            left_date = pymnt_dt_list[i-1][1]\n",
    "            right_date = pymnt_dt_list[i][1]\n",
    "            #determine current payment date interval\n",
    "            if (asof_date >= left_date) and (asof_date <= right_date):\n",
    "                break\n",
    "                \n",
    "        yrs_elapsed = yearsElapsed30360DayCount(left_date, asof_date)\n",
    "\n",
    "        #avoid negative accrued interest values\n",
    "        if yrs_elapsed == 0:\n",
    "            return acc_amt\n",
    "            \n",
    "        #accrued interest calculation based on time elapsed in period \n",
    "        acc_amt =  (face_value * reg_cpn) * (yrs_elapsed/yrs_per_period)\n",
    "            \n",
    "    return acc_amt\n",
    "    \n",
    "\n",
    "def bulletBondPricer(ytm, coupon, periodicity, face_value, asof_date, complete_cusip, global_payment_schedule_dict):\n",
    "    '''\n",
    "    Calculates price of a corporate bond using equivalent continuously compounded yield to maturity\n",
    "\n",
    "    Parameters:\n",
    "    ytm (float): annualized yield to maturity in percentage terms\n",
    "    coupon (float): annual coupon rate in percentage terms\n",
    "    periodicity (int): coupon payments per year\n",
    "    face_value (float): face value of bond\n",
    "    asof_date (datetime64[ns]): trade execution date and time\n",
    "    complete_cusip (str): complete cusip of bond issue\n",
    "    global_payment_schedule_dict (dict): globally declared dictionary of payment schedules\n",
    "\n",
    "    Returns:\n",
    "    trsy_price (float): price of duration-matched Treasury\n",
    "    '''\n",
    "    cpn = coupon / (periodicity * 100)\n",
    "    yld = ytm / (periodicity * 100)\n",
    "    #obtain the equivalent annual continuously compounded yield\n",
    "    cont_yld = periodicity * (np.log(1 + yld))\n",
    "    pymnt_dt_list = global_payment_schedule_dict[complete_cusip]\n",
    "\n",
    "    price = 0\n",
    "\n",
    "    for i in range(len(pymnt_dt_list)):\n",
    "        \n",
    "        if asof_date <= pymnt_dt_list[i][1]:\n",
    "            \n",
    "            yrs_to_cf = yearsElapsed30360DayCount(asof_date, pymnt_dt_list[i][1])\n",
    "            #if the years to next cash flow is 0, skip to next cash flow date\n",
    "            if yrs_to_cf == 0:\n",
    "                continue\n",
    "            #include face value if the date is the maturity date\n",
    "            if i == len(pymnt_dt_list) - 1:\n",
    "                cf = (cpn + 1) * face_value\n",
    "            else:\n",
    "                cf = cpn * face_value\n",
    "            #discount the cash flow using the continuously compounded yield\n",
    "            price += cf * np.exp(-yrs_to_cf * cont_yld)\n",
    "    \n",
    "    return price\n",
    "    \n",
    "\n",
    "def svenssonZeroCouponYield(n_years, beta0, beta1, beta2, beta3, tau1, tau2):\n",
    "    '''\n",
    "    Returns Nelson-Siegel-Svensson Treasury yield curve value for any maturity in years for a given day's parameters\n",
    "\n",
    "    Parameters:\n",
    "    n_years (float): years to maturity input for yield curve\n",
    "    beta0 (float): beta0 parameter for model\n",
    "    beta1 (float): beta1 parameter for model\n",
    "    beta2 (float): beta2 parameter for model\n",
    "    beta3 (float): beta3 parameter for model\n",
    "    tau1 (float): tau1 parameter for model\n",
    "    tau2 (float): tau2 parameter for model\n",
    "\n",
    "    Returns:\n",
    "    yld (float): yield curve value for given parameters \n",
    "    '''\n",
    "    terma = n_years/tau1\n",
    "    termb = n_years/tau2\n",
    "\n",
    "    #bounds to restrict extreme values and avoid numerical errors between the 0 and 1 yr to maturity interval\n",
    "    if abs(terma) < 1e-8:\n",
    "        terma = np.sign(terma) * 1e-8\n",
    "    if abs(termb) < 1e-8:\n",
    "        termb = np.sign(termb) * 1e-8\n",
    "    if abs(terma) > 1e8:\n",
    "        terma = np.sign(terma) * 1e8\n",
    "    if abs(termb) > 1e8:\n",
    "        termb = np.sign(termb) * 1e8\n",
    "\n",
    "    #calculating yield according to model\n",
    "    term1 = beta0\n",
    "    term2 = beta1 * ((1-np.exp(-terma))/terma)\n",
    "    term3 = beta2 * (((1-np.exp(-terma))/terma)-np.exp(-terma))\n",
    "    term4 = beta3 * (((1-np.exp(-termb))/termb)-np.exp(-termb))\n",
    "    yld = term1 + term2 + term3 + term4\n",
    "\n",
    "    return yld\n",
    "    \n",
    "\n",
    "def durationMatchedTreasuryPrice(coupon, periodicity, face_value, asof_date, b0, \n",
    "                                  b1, b2, b3, t1, t2, complete_cusip, global_payment_schedule_dict):\n",
    "    '''\n",
    "    Calculates price of a corporate bond's duration-matched Treasury using the Svensson yield curve paramters\n",
    "    corresponding to the asof_date (pricer proposed by Binsbergen, et al. 2021)\n",
    "\n",
    "    Parameters:\n",
    "    coupon (float): annual coupon rate in percentage terms\n",
    "    periodicity (int): coupon payments per year\n",
    "    face_value (float): face value of bond\n",
    "    asof_date (datetime64[ns]): trade execution date and time\n",
    "    b0 (float): beta0 parameter for Svensson model\n",
    "    b1 (float): beta1 parameter for Svensson model\n",
    "    b2 (float): beta2 parameter for Svensson model\n",
    "    b3 (float): beta3 parameter for Svensson model\n",
    "    t1 (float): tau1 parameter for Svensson model\n",
    "    t2 (float): tau2 parameter for Svensson model\n",
    "    complete_cusip (str): complete cusip of bond issue\n",
    "    global_payment_schedule_dict (dict): globally declared dictionary of payment schedules\n",
    "\n",
    "    Returns:\n",
    "    trsy_price (float): price of duration-matched Treasury\n",
    "    '''\n",
    "    cpn = coupon / (periodicity * 100)\n",
    "    pymnt_dt_list = global_payment_schedule_dict[complete_cusip]\n",
    "    \n",
    "    trsy_price = 0\n",
    "\n",
    "    for i in range(len(pymnt_dt_list)):\n",
    "\n",
    "        if asof_date <= pymnt_dt_list[i][1]:\n",
    "            \n",
    "            yrs_to_cf = yearsElapsedActualActualDayCount(asof_date, pymnt_dt_list[i][1])\n",
    "            #if the years to next cash flow is 0, skip to next cash flow date\n",
    "            if yrs_to_cf == 0:\n",
    "                continue\n",
    "            #include face value if the date is the maturity date\n",
    "            if i == len(pymnt_dt_list) - 1:\n",
    "                cf = (cpn + 1) * face_value\n",
    "            else:\n",
    "                cf = cpn * face_value\n",
    "            #discount the cash flow using the Svensson model yield\n",
    "            zc_trsy_yld = svenssonZeroCouponYield(yrs_to_cf,b0,b1,b2,b3,t1,t2) / 100\n",
    "            trsy_price += cf * np.exp(-yrs_to_cf * zc_trsy_yld)\n",
    "\n",
    "    return trsy_price\n",
    "\n",
    "\n",
    "def bulletBondYieldExtractor(dirty_price, coupon, periodicity, face_value, asof_date, complete_cusip, \n",
    "                             global_payment_schedule_dict, global_root_scalar_fail_identifier_list,\n",
    "                             global_minimize_scalar_fail_identifier_list):\n",
    "    '''\n",
    "    Solves for annualized yield to maturity in percentage terms for a bond given its characteristics\n",
    "\n",
    "    Paramters:\n",
    "    dirty_price (float): dirty price of bond\n",
    "    coupon (float): annual coupon rate in percentage terms\n",
    "    periodicity (int): coupon payments per year\n",
    "    face_value (float): face value of bond\n",
    "    asof_date (datetime64[ns]): trade execution date and time\n",
    "    complete_cusip (str): complete cusip of bond issue\n",
    "    global_payment_schedule_dict (dict): globally declared dictionary of payment schedules\n",
    "    global_root_scalar_fail_identifier_list (list): globally declared list of tuples of the form (complete_cusip, asof_date)\n",
    "                                                    to identify data points that cause the root scalar solver to fail\n",
    "    global_minimize_scalar_fail_identifier_list (list): globally declared list of tuples of the form (complete_cusip, asof_date)\n",
    "                                                        to identify data points that cause the minimize scalar solver to fail\n",
    "\n",
    "    Returns:\n",
    "    float: annualized yield to maturity in percentage terms (NaN if neither solver works)\n",
    "    '''\n",
    "    #pricing error function that calls the bulletBondPricer and returns the difference between the calculated price and target price\n",
    "    def pricing_error(ytm):\n",
    "        price = bulletBondPricer(\n",
    "            ytm,\n",
    "            coupon,\n",
    "            periodicity,\n",
    "            face_value,\n",
    "            asof_date,\n",
    "            complete_cusip,\n",
    "            global_payment_schedule_dict\n",
    "        )\n",
    "        return price - dirty_price\n",
    "    #upper and lower bounds for yield output (min is 1 pip, max is 10,000 which is slightly above the max observed in the sample)\n",
    "    lower_bound = 0.0001\n",
    "    upper_bound = 10000.0\n",
    "\n",
    "    #first try to find the yield using the root scalar solver with brentq settings\n",
    "    try:\n",
    "        result_1 = root_scalar(\n",
    "            pricing_error,\n",
    "            method='brentq',\n",
    "            bracket=[lower_bound, upper_bound],\n",
    "            xtol=1e-8\n",
    "        )\n",
    "        #only return result if solver converges or it solution is finite\n",
    "        if result_1.converged and np.isfinite(result_1.root):\n",
    "            return result_1.root\n",
    "    #if root scalar solver fails, move on to minimize scalar solver\n",
    "    except:\n",
    "        pass\n",
    "    #record any data point that caused the root scalar solver to fail\n",
    "    global_root_scalar_fail_identifier_list.append((complete_cusip, asof_date))\n",
    "\n",
    "    #use the square of the pricing error function to minimize magnitude of error, use bounds for quicker solve\n",
    "    try:\n",
    "        result_2 = minimize_scalar(\n",
    "            lambda y: abs(pricing_error(y)),\n",
    "            bounds=(lower_bound, upper_bound),\n",
    "            method=\"bounded\"\n",
    "        )\n",
    "        #only return result if solver finds finite solution\n",
    "        if result_2.success and np.isfinite(result_2.x):\n",
    "            return result_2.x\n",
    "    except:\n",
    "        pass\n",
    "    #record any data point that caused both solvers to fail\n",
    "    global_minimize_scalar_fail_identifier_list.append((complete_cusip, asof_date))\n",
    "\n",
    "    #return NaN if no solution is found\n",
    "    return np.nan\n",
    "\n",
    "\n"
   ]
  },
  {
   "cell_type": "markdown",
   "id": "2a92df98-6e5d-4d05-84ea-fa32aefc4a7b",
   "metadata": {},
   "source": [
    "## Auxilliary Functions"
   ]
  },
  {
   "cell_type": "code",
   "execution_count": 4,
   "id": "6266555b-7b46-473e-b962-6f0ed5990ce8",
   "metadata": {},
   "outputs": [],
   "source": [
    "def plotTargetPriceVSolvedPrices(df_row_example, estimated_dirty_price_col):\n",
    "    '''\n",
    "    Creates a plot of a bond's estimated price (red), the TRACE yield implied price (black), and a price curve w.r.t yield on a given date;\n",
    "    if only the red line is visible, then the prices are practically equal\n",
    "\n",
    "    This function is used to gauge the robustness of the entire framework used for pricing\n",
    "\n",
    "    Paramters:\n",
    "    df_row_example (pd.Series): row of sample DataFrame corresponding to one daily transaction for a given bond issue\n",
    "    estimated_dirty_price_col (str): name of column of estimated dirty price (accomodates the original or re-calculated estimated price columns)\n",
    "\n",
    "    Returns:\n",
    "    None\n",
    "    '''\n",
    "    #obtain the price curve w.r.t yield\n",
    "    yields = np.linspace(0.0001, 10, 500)\n",
    "    prices = [bulletBondPricer(\n",
    "        yld,\n",
    "        df_row_example[\"coupon\"],\n",
    "        2,\n",
    "        df_row_example[\"principal_amt\"],\n",
    "        df_row_example[\"trd_exctn_dt_tm_capped\"],\n",
    "        df_row_example[\"complete_cusip\"],\n",
    "        payment_schedule_dict\n",
    "    ) for yld in yields]\n",
    "\n",
    "    plt.figure(figsize=(6,4), dpi=100)\n",
    "    plt.plot(yields, prices)\n",
    "    #plot the TRACE yield implied price with a black dashed horizontal line\n",
    "    plt.axhline(df_row_example[\"trace_dirty_price\"], color = \"black\", linestyle = \"--\", label = \"TRACE Dirty Price\")\n",
    "    #plot the estimated price with a red dashed horizontal line\n",
    "    plt.axhline(df_row_example[estimated_dirty_price_col], color = \"red\", linestyle = \"--\", label = \"Estimated Dirty Price\")\n",
    "    plt.xlabel(\"Yield\", fontsize=8)\n",
    "    plt.xticks(fontsize=8)\n",
    "    plt.ylabel(\"Bond Price\", fontsize=8)\n",
    "    plt.yticks(fontsize=8)\n",
    "    plt.title(f\"Bond Price vs Yield: Complete_Cusip-{df_row_example['complete_cusip']}, Date-{df_row_example['trd_exctn_dt_tm_capped']}\", fontsize=10)\n",
    "    plt.grid(True)\n",
    "    plt.legend(fontsize=8)\n",
    "    plt.show()"
   ]
  },
  {
   "cell_type": "markdown",
   "id": "57fdae82-6c68-4bb6-9e2e-e4500f9dc26d",
   "metadata": {},
   "source": [
    "# Bond Transaction Data Preparation (Spark)"
   ]
  },
  {
   "cell_type": "markdown",
   "id": "d841f958-7f46-4536-93e1-f26e5fa6f4aa",
   "metadata": {},
   "source": [
    "## Data File Paths"
   ]
  },
  {
   "cell_type": "code",
   "execution_count": 5,
   "id": "43d745f7-298a-4bbb-83cb-3ed13cf2adf3",
   "metadata": {},
   "outputs": [],
   "source": [
    "#note, the trace_enhanced_clean.csv and fisd_bond_issue_data.csv files must be added to raw_data_folder to run notebook\n",
    "raw_data_file_path = r\"raw_data_folder\\\\\"\n",
    "processed_data_file_path = r\"processed_data_folder\\\\\"\n",
    "json_file_path = r\"json_folder\\\\\"\n",
    "os.makedirs(raw_data_file_path, exist_ok=True)\n",
    "os.makedirs(processed_data_file_path, exist_ok=True)\n",
    "os.makedirs(json_file_path, exist_ok=True)"
   ]
  },
  {
   "cell_type": "markdown",
   "id": "a764d11d-337e-45af-9bbc-c55cfa7373a0",
   "metadata": {},
   "source": [
    "## Launch Spark Session"
   ]
  },
  {
   "cell_type": "code",
   "execution_count": 6,
   "id": "684e22a5-8fbd-4bd9-8b32-794b61a42b69",
   "metadata": {},
   "outputs": [
    {
     "name": "stdout",
     "output_type": "stream",
     "text": [
      "3.5.5\n",
      "C:\\Users\\wvill\\hadoop\n"
     ]
    },
    {
     "data": {
      "text/plain": [
       "'false'"
      ]
     },
     "execution_count": 6,
     "metadata": {},
     "output_type": "execute_result"
    }
   ],
   "source": [
    "import pyspark\n",
    "print(pyspark.__version__)\n",
    "\n",
    "#environment configurations for Spark session, allow for optional use of Ray\n",
    "os.environ[\"HADOOP_HOME\"] = r\"C:\\Users\\wvill\\hadoop\"\n",
    "os.environ[\"hadoop.home.dir\"] = r\"C:\\Users\\wvill\\hadoop\"\n",
    "os.environ[\"HADOOP_OPTIONAL_TOOLS\"] = \"false\"\n",
    "os.environ[\"SPARK_DRIVER_MEMORY\"] = \"6g\"\n",
    "os.environ[\"SPARK_EXECUTOR_MEMORY\"] = \"6g\"\n",
    "os.environ[\"PYSPARK_PYTHON\"] = r\"C:\\Users\\wvill\\AppData\\Local\\Programs\\Python\\Python311\\python.exe\"\n",
    "os.environ[\"PYSPARK_DRIVER_PYTHON\"] = r\"C:\\Users\\wvill\\AppData\\Local\\Programs\\Python\\Python311\\python.exe\"\n",
    "\n",
    "print(os.getenv(\"HADOOP_HOME\"))\n",
    "\n",
    "spark = SparkSession.builder.appName(\"WRDS_CSV_Processor\").config(\"spark.hadoop.io.native.lib.available\", \"false\").getOrCreate()\n",
    "spark.conf.get(\"spark.hadoop.io.native.lib.available\")"
   ]
  },
  {
   "cell_type": "markdown",
   "id": "fd834d4e-c4a8-4794-9b1b-bdb608b1bc63",
   "metadata": {},
   "source": [
    "## TRACE and Mergent Variable Description Table Strings"
   ]
  },
  {
   "cell_type": "code",
   "execution_count": 7,
   "id": "1b568040-8570-4848-9d33-63e4d447a06a",
   "metadata": {
    "jupyter": {
     "source_hidden": true
    }
   },
   "outputs": [],
   "source": [
    "#text directly from variable description table page on WRDS site for TRACE Enhanced Clean data and Mergent Bond Issue data \n",
    "\n",
    "trace_enhanced_dtype_str_dirty=\"\"\"cusip_id\tChar\tCUSIP ID (cusip_id)\n",
    "bond_sym_id\tChar\tTRACE Bond Symbol (bond_sym_id)\n",
    "company_symbol\tChar\tCompany Symbol (issuer stock ticker) (company_symbol)\n",
    "trd_exctn_dt\tDate\tExecution Date (trd_exctn_dt)\n",
    "trd_exctn_tm\tFloat\tExecution Time (trd_exctn_tm)\n",
    "trd_rpt_dt\tDate\tReport Date (trd_rpt_dt)\n",
    "trd_rpt_tm\tFloat\tReport Time (trd_rpt_tm)\n",
    "msg_seq_nb\tChar\tMessage Sequence Number (msg_seq_nb)\n",
    "trc_st\tChar\tTrade Status (trc_st)\n",
    "scrty_type_cd\tChar\tSecurity Type (scrty_type_cd)\n",
    "wis_fl\tChar\tWhen Issued Indicator (wis_fl)\n",
    "cmsn_trd\tChar\tCommission Indicator (cmsn_trd)\n",
    "entrd_vol_qt\tFloat\tQuantity (entrd_vol_qt)\n",
    "rptd_pr\tFloat\tPrice (rptd_pr)\n",
    "yld_sign_cd\tChar\tYield Direction (yld_sign_cd)\n",
    "yld_pt\tFloat\tYield (yld_pt)\n",
    "asof_cd\tChar\tAs Of Indicator (asof_cd)\n",
    "days_to_sttl_ct\tChar\tSeller Sales Day (days_to_sttl_ct)\n",
    "sale_cndtn_cd\tChar\tSale Condition (sale_cndtn_cd)\n",
    "sale_cndtn2_cd\tChar\tSecond Modifier (sale_cndtn2_cd)\n",
    "rpt_side_cd\tChar\tBuy/Sell Indicator (rpt_side_cd)\n",
    "buy_cmsn_rt\tFloat\tBuyer Commission (buy_cmsn_rt)\n",
    "buy_cpcty_cd\tChar\tBuyer Capacity (buy_cpcty_cd)\n",
    "sell_cmsn_rt\tFloat\tSeller Commission (sell_cmsn_rt)\n",
    "sell_cpcty_cd\tChar\tSeller Capacity (sell_cpcty_cd)\n",
    "cntra_mp_id\tChar\tContra Party Indicator (cntra_mp_id)\n",
    "agu_qsr_id\tChar\tAGU Indicator (agu_qsr_id)\n",
    "spcl_trd_fl\tChar\tSpecial Price Indicator (spcl_trd_fl)\n",
    "trdg_mkt_cd\tChar\tTrading Market Indicator (trdg_mkt_cd)\n",
    "dissem_fl\tChar\tDissemination Flag (dissem_fl)\n",
    "orig_msg_seq_nb\tChar\tOriginal Message Sequence Number (orig_msg_seq_nb)\n",
    "bloomberg_identifier\tChar\tBloomberg Identifier (bloomberg_identifier)\n",
    "sub_prdct\tChar\tSub-Product (sub_prdct)\n",
    "stlmnt_dt\tDate\tSettlement Date (stlmnt_dt)\n",
    "trd_mod_3\tChar\tTrade Modifier 3 (trd_mod_3)\n",
    "trd_mod_4\tChar\tTrade Modifier 4 (trd_mod_4)\n",
    "rptg_party_type\tChar\tReporting Party Type (rptg_party_type)\n",
    "lckd_in_ind\tChar\tLocked In Indicator (lckd_in_ind)\n",
    "ats_indicator\tChar\tATS Indicator (ats_indicator)\n",
    "pr_trd_dt\tDate\tPrior Trade Report Date (pr_trd_dt)\n",
    "first_trade_ctrl_date\tDate\tFirst Trade Control Date (first_trade_ctrl_date)\n",
    "first_trade_ctrl_num\tChar\tFirst Trade Control Number (first_trade_ctrl_num)\"\"\"\n",
    "\n",
    "mergent_bond_issue_dtype_str_dirty = \"\"\"issue_id\tFloat\tIssue ID (issue_id)\n",
    "issuer_id\tFloat\tIssuer ID (issuer_id)\n",
    "issuer_id_affected\tFloat\tIssuer ID (issuer_id_affected)\n",
    "issuer_cusip\tChar\tIssuer CUSIP (issuer_cusip)\n",
    "issue_cusip\tChar\tIssue CUSIP (issue_cusip)\n",
    "complete_cusip\tChar\tComplete CUSIP (complete_cusip)\n",
    "cusip_name\tChar\tCUSIP Name (cusip_name)\n",
    "prospectus_issuer_name\tChar\tProspectus Issuer Name (prospectus_issuer_name)\n",
    "issue_name\tChar\tIssue Name (issue_name)\n",
    "sedol\tChar\tSEDOL (sedol)\n",
    "isin\tChar\tISI Number (isin)\n",
    "reallowance\tFloat\tReallowance (reallowance)\n",
    "putable\tChar\tPutable (putable)\n",
    "principal_amt\tFloat\tPrincipal Amount (principal_amt)\n",
    "press_release\tChar\tPress Release (press_release)\n",
    "preferred_security\tChar\tPreferred Security (preferred_security)\n",
    "perpetual\tChar\tPerpetual (perpetual)\n",
    "overallotment_opt\tChar\tOverallotment Option (overallotment_opt)\n",
    "oid\tChar\tOrig Issue Discount (oid)\n",
    "offering_yield\tFloat\tOffering Yield (offering_yield)\n",
    "offering_price\tFloat\tOffering Price (offering_price)\n",
    "offering_date\tDate\tOffering Date (offering_date)\n",
    "offering_amt\tFloat\tOffering Amount (in thousands) (offering_amt)\n",
    "mtn\tChar\tMedium Term Note (mtn)\n",
    "maturity\tDate\tMaturity Date (maturity)\n",
    "issue_offered_global\tChar\tGlobal Offer (issue_offered_global)\n",
    "gross_spread\tFloat\tGross Spread (gross_spread)\n",
    "fungible\tChar\tFungible (fungible)\n",
    "form_of_own\tChar\tForm of Ownership (form_of_own)\n",
    "foreign_currency\tChar\tForeign Currency (foreign_currency)\n",
    "exchangeable\tChar\tExchangeable (exchangeable)\n",
    "enhancement\tChar\tEnhancement (enhancement)\n",
    "dep_eligibility\tChar\tEligible Depositories (dep_eligibility)\n",
    "denomination\tChar\tDenomination (denomination)\n",
    "delivery_date\tDate\tDelivery Date (delivery_date)\n",
    "defeased_date\tDate\tDefeased Date (defeased_date)\n",
    "defeased\tChar\tDefeased (defeased)\n",
    "defeasance_type\tChar\tDefeasance Type (defeasance_type)\n",
    "defaulted\tChar\tDefaulted (defaulted)\n",
    "covenants\tChar\tCovenants (covenants)\n",
    "coupon_type\tChar\tCoupon Type (coupon_type)\n",
    "convertible\tChar\tConvertible (convertible)\n",
    "comp_neg_exch_deal\tChar\tType of Sale (comp_neg_exch_deal)\n",
    "canadian\tChar\tCanadian Issuer (canadian)\n",
    "bond_type\tChar\tBond Type (bond_type)\n",
    "asset_backed\tChar\tAsset Backed (asset_backed)\n",
    "announced_call\tChar\tAnnounced Call (announced_call)\n",
    "active_issue\tChar\tActive Issue (active_issue)\n",
    "private_placement\tChar\tPrivate Placement (private_placement)\n",
    "yankee\tChar\tYankee (yankee)\n",
    "unit_deal\tChar\tUnit Deal (unit_deal)\n",
    "treasury_spread\tFloat\tTreasury Spread (treasury_spread)\n",
    "treasury_maturity\tChar\tTreasury Maturity (treasury_maturity)\n",
    "tender_exch_offer\tChar\tTender/Exchange Offer (tender_exch_offer)\n",
    "subsequent_data\tChar\tSubsequent Data (subsequent_data)\n",
    "slob\tChar\tSLOB (slob)\n",
    "settlement_type\tChar\tSettlement Type (settlement_type)\n",
    "selling_concession\tFloat\tSelling Concession (selling_concession)\n",
    "security_pledge\tChar\tSecurity Pledge (security_pledge)\n",
    "security_level\tChar\tSecurity Level (security_level)\n",
    "sec_reg_type2\tChar\tAdditional SEC Registration Type (sec_reg_type2)\n",
    "sec_reg_type1\tChar\tSEC Registration Type (sec_reg_type1)\n",
    "rule_415_reg\tChar\tRule 415 Registration (rule_415_reg)\n",
    "rule_144a\tChar\tRule 144a (rule_144a)\n",
    "registration_rights\tChar\tRegistration Rights (registration_rights)\n",
    "refunding_date\tDate\tRefunding Date (refunding_date)\n",
    "refund_protection\tChar\tRefund Protection (refund_protection)\n",
    "redeemable\tChar\tRedeemable (redeemable)\n",
    "determination_date\tDate\tThe next date as of which the coupon for floating rate securities is calculated. (determination_date)\n",
    "see_note\tChar\tIndicates that more detailed information on the coupon formula is included in the associated text footnote. (see_note)\n",
    "reset_date_orig\tDate\tRepresents the first date as of which the issue began to accrue interest at the first calculated coupon rate. (reset_date_orig)\n",
    "reset_date\tDate\tThe next date as of which the issue will begin to accrue interest at the new coupon rate. (reset_date)\n",
    "lesser_of\tChar\tA flag indicating that the issues coupon resets to the lesser of the associated rate calculation formulas in the INDEX table. (lesser_of)\n",
    "greater_of\tChar\tA flag indicating that the issues coupon resets to the greater of the associated rate calculation formulas in the INDEX table. (greater_of)\n",
    "fix_frequency\tChar\tA four-letter code indicating how often the coupon will be reset. (fix_frequency)\n",
    "determination_date_orig\tDate\tRepresents the first date a new interest rate was calculated for this issue. (determination_date_orig)\n",
    "pay_in_kind_exp_date\tDate\tExpiration date of the pay_in_kind option. (pay_in_kind_exp_date)\n",
    "pay_in_kind\tChar\tFlag indicating that the interest on the issue may be paid in more of the same security, or in some cases, in other securities. (pay_in_kind)\n",
    "last_interest_date\tDate\tLast interest payment date (last_interest_date)\n",
    "interest_frequency\tChar\tCode indicating how often interest payments will be made. (interest_frequency)\n",
    "first_interest_date\tDate\tDate on which first interest payment will be made to the bondholder. (first_interest_date)\n",
    "day_count_basis\tChar\tBasis used for determining the interest paid during each interest period. (day_count_basis)\n",
    "dated_date\tDate\tDate from which interest accrues or from which original issue discount is amortized. (dated_date)\n",
    "coupon_change_indicator\tChar\tIndicates the issues coupon type, if not fixed. (coupon_change_indicator)\n",
    "coupon\tFloat\tThe current applicable annual interest rate. (coupon)\n",
    "soft_call_make_whole\tChar\tA flag indicating the soft call feature contains a make whole payment provision specified in the convertible_additional_terms table. (soft_call_make_whole)\n",
    "shares_outstanding\tFloat\tThe total number of securities/shares of the conversion commodity outstanding (shares_outstanding)\n",
    "reason\tChar\tThe reason for the change of the convertible information on the change_date. (reason)\n",
    "qty_of_commod\tFloat\tThe quantity of the conversion commodity (qty_of_commod)\n",
    "percs\tChar\tA flag indicating the security has maximum payoff upon conversion specified in the convertible_additional_terms table. (percs)\n",
    "percent_of_outstanding_commod\tFloat\tThe percentage of the total conversion commodity available through conversion. (percent_of_outstanding_commod)\n",
    "peps\tChar\tA flag indicating the issue has additional conversion terms. (peps)\n",
    "orig_shares_outstanding\tFloat\tThe total number of securities/shares of the conversion commodity when the issue was first offered. (orig_shares_outstanding)\n",
    "orig_qty_of_commod\tFloat\tThe quantity of the conversion commodity that the bondholder would have received when the security was first offered. (orig_qty_of_commod)\n",
    "orig_percent_outstanding_com\tFloat\tThe percentage of the total conversion commodity available through conversion of the issue when the issue was first offered. (orig_percent_outstanding_com)\n",
    "orig_conv_price\tFloat\tConversion price of the conversion commodity when the issue was first offered. (orig_conv_price)\n",
    "orig_conv_premium\tFloat\tThe percentage difference between the conversion price and the market price when the issue was first offered. (orig_conv_premium)\n",
    "orig_commod_price\tFloat\tMarket price of the conversion commodity when the issue was first offered. (orig_commod_price)\n",
    "exchange\tChar\tA four-letter code indicating the conversion commoditys principal securities exchange. (exchange)\n",
    "dilution_protection\tChar\tA flag indicating whether or not the quantity of commodity will be adjusted for stock splits, dividends, distributions, or other specified events. (dilution_protection)\n",
    "convert_on_call\tChar\tA flag indicating whether the holder is able to convert their security if it is called for redemption. (convert_on_call)\n",
    "conv_total_trade_days\tFloat\tNumber of trading days during which the conversion commoditys price is measured for lifting redemption restrictions. (conv_total_trade_days)\n",
    "conv_redemp_exception\tChar\tFlag indicating whether a soft call provision has been specified. (conv_redemp_exception)\n",
    "conv_redemp_date\tDate\tEnd date of current soft call feature. (conv_redemp_date)\n",
    "conv_prohibited_from\tDate\tStart date of current soft call feature. (conv_prohibited_from)\n",
    "conv_price_percent\tFloat\tMinimum percentage of the applicable conversion price at which the conversion commodity must trade at before restrictions on redemption are lifted. (conv_price_percent)\n",
    "conv_price\tFloat\tConversion price of the conversion commodity. (conv_price)\n",
    "conv_premium\tFloat\tThe percentage difference between the conversion price and the market price. (conv_premium)\n",
    "conv_period_spec\tChar\tIndicates whether or not the bondholder must submit their security for conversion in a specified time period prior to redemption. (conv_period_spec)\n",
    "conv_period_days\tFloat\tNumber of days prior to the announced redemption date that the bondholders are allowed to convert their bonds. (conv_period_days)\n",
    "conv_part_trade_days\tFloat\tThe number of trading days that the conversion security must trade at or above a certain price to allow redemption. (conv_part_trade_days)\n",
    "conv_exp_date\tDate\tDate on which conversion privilege expires. (conv_exp_date)\n",
    "conv_eff_date\tDate\tFirst date on which issue may be converted. (conv_eff_date)\n",
    "conv_commod_type\tChar\tA four-letter code indicating what the conversion commodity is. (conv_commod_type)\n",
    "conv_commod_issuer\tChar\tThe name of the issuer of the exchange commodity. (conv_commod_issuer)\n",
    "conv_commod_cusip\tChar\tThe CUSIP of the conversion commodity. (conv_commod_cusip)\n",
    "conv_cash\tFloat\tAdditional cash payable by bondholder to effect conversion. (conv_cash)\n",
    "conditional_conv_terms\tChar\tA flag indicating the security has conditional conversion terms specified in the convertible_additional_terms table. (conditional_conv_terms)\n",
    "commod_price\tFloat\tMarket price of the conversion commodity. (commod_price)\n",
    "change_date\tDate\tThe date the current convertible information was added to the issue. (change_date)\n",
    "as_of_date\tDate\tThe date the current convertible information was added to the issue. (as_of_date)\n",
    "ticker\tChar\tThe ticker of the conversion commodity. (ticker)\n",
    "split_ratio\tChar\tThe ratio to which the conversion commodity was split. (split_ratio)\n",
    "split_date\tDate\tThe date of the last known conversion commodity split. (split_date)\n",
    "sc_make_whole_start_date\tDate\tThe date from which a soft call make-whole payment becomes payable if the bond is called for redemption. (sc_make_whole_start_date)\n",
    "sc_make_whole_initial_amount\tFloat\tThe initial soft call make-whole payment amount that would be payable if the bond were called for redemption on the soft call make-whole start date. (sc_make_whole_initial_amount)\n",
    "sc_make_whole_end_date\tDate\tThe final date at which a soft call make-whole payment is payable if the bond is called for redemption. (sc_make_whole_end_date)\n",
    "sc_make_whole_decrement_type\tChar\tA four-letter code indicating how the soft call make-whole payment decreases over time when the bond is called for redemption. (sc_make_whole_decrement_type)\n",
    "sc_make_whole_change_percent\tFloat\tThe percentage (of the face value) by which the soft call make-whole payment payable is reduced on an annual basis if the bond is called for redemption. (sc_make_whole_change_percent)\n",
    "percs_max_payoff\tFloat\tMaximum payoff bondholder will receive upon conversion or at maturity per PERCS. (percs_max_payoff)\n",
    "peps_min_conversion_ratio\tFloat\tMinimum value of the conversion ratio. (peps_min_conversion_ratio)\n",
    "peps_max_conversion_ratio\tFloat\tMaximum value of the conversion ratio. (peps_max_conversion_ratio)\n",
    "peps_lower_price\tFloat\tConversion commodity price at which maximum conversion ratio applies. (peps_lower_price)\n",
    "peps_issue_price\tFloat\tThe face value or principal amount of the bond. (peps_issue_price)\n",
    "peps_higher_price\tFloat\tConversion commodity price at which minimum conversion ratio applies. (peps_higher_price)\n",
    "coco_trigger_expressed_as\tChar\tA four-letter code indicating how the coco_initial_trigger_percent is expressed. (coco_trigger_expressed_as)\n",
    "coco_trade_days_in_previous\tChar\tThe time period in which the coco_trade_days are measured. (coco_trade_days_in_previous)\n",
    "coco_trade_days\tChar\tThe number of trading days that the conversion commodity must trade at or above the trigger percent. (coco_trade_days)\n",
    "coco_start_date\tDate\tDate at which conversion becomes conditional. (coco_start_date)\n",
    "coco_min_trigger_level\tFloat\tThe lowest number the trigger percent will reach. (coco_min_trigger_level)\n",
    "coco_initial_trigger_percent\tFloat\tStock price level initially required to trigger conditional conversion. (coco_initial_trigger_percent)\n",
    "coco_end_date\tDate\tLast date that the conditional conversion terms apply. (coco_end_date)\n",
    "coco_change_rate\tFloat\tAnnual percentage change of the coco_initial_trigger_percent. (coco_change_rate)\n",
    "coco_change_frequency\tChar\tA four-letter code indicating the change frequency of the trigger percent. (coco_change_frequency)\n",
    "action_type\tChar\tAction Type (action_type)\n",
    "action_price\tFloat\tAction Price (action_price)\n",
    "action_amount\tFloat\tAction Amount (action_amount)\n",
    "effective_date\tDate\tEffective Date (effective_date)\n",
    "amount_outstanding\tFloat\tAmount Outstanding (amount_outstanding)\n",
    "voting_power_percentage_erp\tFloat\tVoting Power Percentage Erp (voting_power_percentage_erp)\n",
    "voting_power_percentage\tFloat\tVoting Power Percentage (voting_power_percentage)\n",
    "rating_decline_trigger_put\tChar\tRating Decline Trigger Put (rating_decline_trigger_put)\n",
    "rating_decline_provision\tChar\tRating Decline Provision (rating_decline_provision)\n",
    "negative_pledge_covenant\tChar\tNegative Pledge Covenant (negative_pledge_covenant)\n",
    "legal_defeasance\tChar\tLegal Defeasance (legal_defeasance)\n",
    "economic_cov_def\tChar\tEconomic Cov Def (economic_cov_def)\n",
    "defeasance_wo_tax_conseq\tChar\tDefeasance w.o. Tax Conseq (defeasance_wo_tax_conseq)\n",
    "declining_net_worth_trigger\tFloat\tDeclining Net Worth Trigger (declining_net_worth_trigger)\n",
    "declining_net_worth_provisions\tChar\tDeclining Net Worth Provisions (declining_net_worth_provisions)\n",
    "declining_net_worth_percentage\tFloat\tDeclining Net Worth Percentage (declining_net_worth_percentage)\n",
    "declining_net_worth\tChar\tDeclining Net Worth (declining_net_worth)\n",
    "cross_default\tChar\tCross Default (cross_default)\n",
    "cross_acceleration\tChar\tCross Acceleration (cross_acceleration)\n",
    "covenant_defeas_wo_tax_conseq\tChar\tCovenant Defeas w.o. Tax (covenant_defeas_wo_tax_conseq)\n",
    "change_control_put_provisions\tChar\tChange Control Put Provisions (change_control_put_provisions)\n",
    "asset_sale_clause\tChar\tAsset Sale Clause (asset_sale_clause)\n",
    "after_acquired_property_clause\tChar\tAfter Acquired Property Clause (after_acquired_property_clause)\n",
    "currency\tChar\tCurrency (currency)\n",
    "conversion_rate\tFloat\tConversion Rate (conversion_rate)\n",
    "amt_offered\tFloat\tAmount Offered (amt_offered)\n",
    "settlement\tChar\tSettlement (settlement)\n",
    "filing_date\tDate\tFiling Date (filing_date)\n",
    "sec_cusip\tChar\tCUSIP of the other security offered as part of the unit. (sec_cusip)\n",
    "quantity\tFloat\tThe quantity of other security offered with the unit. (quantity)\n",
    "other_sec_type\tChar\tType of the other security. (other_sec_type)\n",
    "other_sec_issuer\tChar\tThe name of the issuer of the other security. (other_sec_issuer)\n",
    "market_price\tFloat\tThe market price of the units other security as of the issues offering date. (market_price)\n",
    "date_transferable\tDate\tThe date on which each security offered as part of the unit may be sold separately. (date_transferable)\n",
    "date_subj_adjustment\tChar\tA flag indicating that the date on which the unit is free to trade as separate security is subject to adjustment. (date_subj_adjustment)\n",
    "allocated_offering_price_other\tFloat\tPortion of the unit price allocated to the non-debt, non-warrant security in the unit. (allocated_offering_price_other)\n",
    "overallotment_expiration_date\tDate\tOverallotment Expiration Date (overallotment_expiration_date)\n",
    "exercised_date\tDate\tExercised Date (exercised_date)\n",
    "exercised\tChar\tExercised (exercised)\n",
    "amount\tFloat\tAmount (amount)\n",
    "notification_period\tChar\tNotification Period (notification_period)\n",
    "next_put_price\tFloat\tNext Put Price (next_put_price)\n",
    "next_put_date\tDate\tNext Put Date (next_put_date)\n",
    "unit_cusip\tChar\tThe CUSIP of the unit. (unit_cusip)\n",
    "total_units_offered\tFloat\tTotal number of units offered. (total_units_offered)\n",
    "principal_amt_per_unit\tFloat\tThe principal amount of each unit. (principal_amt_per_unit)\n",
    "allocated_offering_price_unit\tFloat\tFrom the prospectus, the value of the bond part of the unit. (allocated_offering_price_unit)\n",
    "parent_id\tFloat\tA number representing the agent_id of this issuers parent company. (parent_id)\n",
    "naics_code\tChar\tThe North American Industry Classification System code used to describe the business of this issuer. (naics_code)\n",
    "industry_group\tChar\tA code indicating the industry group to which the issuer belongs. (industry_group)\n",
    "industry_code\tChar\tA code indicating the industry to which the issuer belongs. (industry_code)\n",
    "in_bankruptcy\tChar\tA flag denoting that the issuer is currently in bankruptcy. (in_bankruptcy)\n",
    "esop\tChar\tA flag denoting that the issue will be repaid by pension contributions to an ESOP. (esop)\n",
    "country_domicile\tChar\tThe Country of Domicile or country of permanent residence of this issuer. (country_domicile)\n",
    "agent_id\tFloat\tA unique Mergent-generated number to identify each agent. (agent_id)\n",
    "sic_code\tChar\tThe firms four-digit Standard Industry Classification code. (sic_code)\n",
    "transaction_affiliates\tChar\tIssuer is restricted in certain business dealings with its subsidiaries. (transaction_affiliates)\n",
    "subordinated_debt_issuance\tChar\tRestricts issuance of junior or subordinated debt. (subordinated_debt_issuance)\n",
    "stock_transfer_sale_disp\tChar\tRestricts the issuer from transferring, selling, or disposing of its own common stock or the common stock of a subsidiary. (stock_transfer_sale_disp)\n",
    "stock_issuance_issuer\tChar\tRestricts issuer from issuing additional common stock. (stock_issuance_issuer)\n",
    "senior_debt_issuance\tChar\tRestricts issuer to the amount of senior debt it may issue in the future. (senior_debt_issuance)\n",
    "sales_leaseback_is\tChar\tRestricts issuer to the type or amount of property used in a sale leaseback transaction and may restrict its use of the proceeds of the sale. (sales_leaseback_is)\n",
    "sale_assets\tChar\tRestrictions on the ability of an issuer to sell assets or restrictions on the issuers use of the proceeds from the sale of assets. (sale_assets)\n",
    "restricted_payments\tChar\tRestricts issuers freedom to make payments (other than dividend related payments) to shareholders and others. (restricted_payments)\n",
    "net_earnings_test_issuance\tChar\tTo issue additional debt the issuer must have achieved or maintained certain profitability levels. (net_earnings_test_issuance)\n",
    "maintenance_net_worth\tChar\tIssuer must maintain a minimum specified net worth. (maintenance_net_worth)\n",
    "liens_is\tChar\tIn the case of default, the bondholders have the legal right to sell mortgaged property to satisfy their unpaid obligations. (liens_is)\n",
    "leverage_test_is\tChar\tRestricts total-indebtedness of the issuer. (leverage_test_is)\n",
    "investments\tChar\tRestricts issuers investment policy to prevent risky investments. (investments)\n",
    "indebtedness_is\tChar\tRestricts user from incurring additional debt with limits on absolute dollar amount of debt outstanding or percentage total capital. (indebtedness_is)\n",
    "funded_debt_is\tChar\tRestricts issuer from issuing additional funded debt. (funded_debt_is)\n",
    "fixed_charge_coverage_is\tChar\tIssuer is required to have a ratio of earnings available for fixed charges, of at least a minimum specified level. (fixed_charge_coverage_is)\n",
    "dividends_related_payments_is\tChar\tPayments made to shareholders or other entities may be limited to a certain percentage of net income or some other ratio. (dividends_related_payments_is)\n",
    "consolidation_merger\tChar\tA consolidation or merger of the issuer with another entity is restricted. (consolidation_merger)\n",
    "subsidiary_redesignation\tChar\tIndicates if restricted subsidiaries may be reclassified as an unrestricted subsidiaries. (subsidiary_redesignation)\n",
    "subsidiary_guarantee\tChar\tSubsidiary is restricted from issuing guarantees for the payment of interest and/or principal of certain debt obligations. (subsidiary_guarantee)\n",
    "stock_issuance\tChar\tRestricts issuer from issuing additional common stock in restricted subsidiaries. (stock_issuance)\n",
    "sales_leaseback_sub\tChar\tRestricts subsidiaries from selling then leasing back assets that provide security for the debtholder. (sales_leaseback_sub)\n",
    "sale_xfer_assets_unrestricted\tChar\tIssuer must use proceeds from sale of subsidiaries assets to reduce debt. (sale_xfer_assets_unrestricted)\n",
    "preferred_stock_issuance\tChar\tRestricts subsidiaries ability to issue preferred stock. (preferred_stock_issuance)\n",
    "liens_sub\tChar\tRestricts subsidiaries from acquiring liens on their property. (liens_sub)\n",
    "leverage_test_sub\tChar\tLimits subsidiaries leverage. (leverage_test_sub)\n",
    "investments_unrestricted_subs\tChar\tRestricts subsidiaries investments. (investments_unrestricted_subs)\n",
    "indebtedness_sub\tChar\tRestricts the total indebtedness of the subsidiaries. (indebtedness_sub)\n",
    "funded_debt_sub\tChar\tRestricts issuers subsidiaries from issuing additional funded debt. (funded_debt_sub)\n",
    "fixed_charge_coverage_sub\tChar\tSubsidiaries are required to maintain a minimum ratio of net income to fixed charges. (fixed_charge_coverage_sub)\n",
    "dividends_related_payments_sub\tChar\tLimits the subsidiaries payment of dividends to a certain percentage of net income or some other ratio. (dividends_related_payments_sub)\n",
    "borrowing_restricted\tChar\tIndicates subsidiaries are restricted from borrowing, except from parent. (borrowing_restricted)\"\"\""
   ]
  },
  {
   "cell_type": "markdown",
   "id": "680a6307-8b5f-4ab1-ba97-35eb064916b1",
   "metadata": {},
   "source": [
    "## Loading TRACE Data"
   ]
  },
  {
   "cell_type": "code",
   "execution_count": 8,
   "id": "e28104c4-b505-41bf-aa99-98deff941f7f",
   "metadata": {},
   "outputs": [
    {
     "data": {
      "text/plain": [
       "333"
      ]
     },
     "execution_count": 8,
     "metadata": {},
     "output_type": "execute_result"
    }
   ],
   "source": [
    "trace_df_raw = spark.read.csv(raw_data_file_path + \"trace_enhanced_clean_data.csv\", \n",
    "                              header=True, \n",
    "                              inferSchema=False)\n",
    "trace_df_raw_cols = [x.lower() for x in trace_df_raw.columns]\n",
    "trace_schema, trace_spark_dtype_dict, trace_wrds_dtype_dict = getSparkSchema(trace_df_raw_cols, \n",
    "                                                                             trace_enhanced_dtype_str_dirty, \n",
    "                                                                             force_custom=True)\n",
    "del trace_df_raw\n",
    "trace_df = spark.read.csv(raw_data_file_path + \"trace_enhanced_clean_data.csv\", \n",
    "                          schema=trace_schema, \n",
    "                          header=True)\n",
    "trace_spark_dtype_str_dict = sparkDTypeToStrMap(trace_spark_dtype_dict,0)\n",
    "\n",
    "with open(json_file_path + \"trace_spark_dtype_dict.json\", \"w\") as file:\n",
    "    json.dump(trace_spark_dtype_str_dict, file)\n",
    "    \n",
    "trace_df.rdd.getNumPartitions()"
   ]
  },
  {
   "cell_type": "markdown",
   "id": "6cb98158-1962-4449-b0b7-b8ebe5cc82fd",
   "metadata": {},
   "source": [
    "## Loading Mergent Data"
   ]
  },
  {
   "cell_type": "code",
   "execution_count": 9,
   "id": "0098ca58-0729-4e39-8220-31c4cdaf408f",
   "metadata": {},
   "outputs": [
    {
     "data": {
      "text/plain": [
       "16"
      ]
     },
     "execution_count": 9,
     "metadata": {},
     "output_type": "execute_result"
    }
   ],
   "source": [
    "mergent_df_raw = spark.read.csv(raw_data_file_path + \"fisd_bond_issue_data.csv\", \n",
    "                                header=True, \n",
    "                                inferSchema=False)\n",
    "mergent_df_raw_cols = [x.lower() for x in mergent_df_raw.columns]\n",
    "mergent_schema, mergent_spark_dtype_dict, mergent_wrds_dtype_dict = getSparkSchema(mergent_df_raw_cols, \n",
    "                                                                                     mergent_bond_issue_dtype_str_dirty,\n",
    "                                                                                     force_custom=True)\n",
    "del mergent_df_raw\n",
    "mergent_df = spark.read.csv(raw_data_file_path + \"fisd_bond_issue_data.csv\", \n",
    "                            schema=mergent_schema, \n",
    "                            header=True)\n",
    "mergent_spark_dtype_str_dict = sparkDTypeToStrMap(mergent_spark_dtype_dict, 0)\n",
    "\n",
    "with open(json_file_path + \"mergent_spark_dtype_dict.json\", \"w\") as file:\n",
    "    json.dump(mergent_spark_dtype_str_dict, file)\n",
    "    \n",
    "mergent_df.rdd.getNumPartitions()"
   ]
  },
  {
   "cell_type": "markdown",
   "id": "3e4a1366-ad34-493c-9901-b708c6f92150",
   "metadata": {},
   "source": [
    "## Filters proposed by Binsbergen, et al. (2023)"
   ]
  },
  {
   "cell_type": "markdown",
   "id": "45e59fc2-c83b-47a7-a060-3b81a179bfb5",
   "metadata": {},
   "source": [
    "### TRACE Filters"
   ]
  },
  {
   "cell_type": "code",
   "execution_count": 10,
   "id": "fafd1ada-3de8-4afc-86ab-cb5d25437891",
   "metadata": {},
   "outputs": [],
   "source": [
    "#remove bonds that are when-issued\n",
    "when_issued_filter = F.col(\"wis_fl\") != \"Y\"\n",
    "#remove bonds that have special conditions\n",
    "special_filter = (F.col(\"spcl_trd_fl\") != \"Y\") | F.col(\"spcl_trd_fl\").isNull()\n",
    "#remove bonds that are locked in\n",
    "locked_in_filter = (F.col(\"lckd_in_ind\") != \"Y\") | F.col(\"lckd_in_ind\").isNull()\n",
    "#first filter to remove rows where days to settlement is greater than 2 before 2012\n",
    "pre_2012_sub_filter = F.year(\"trd_exctn_dt\") < 2012\n",
    "days_to_settle_sub_filter = (F.col(\"days_to_sttl_ct\") > 2) & F.col(\"days_to_sttl_ct\").isNotNull()\n",
    "pre_2012_days_to_settle_filter = ~(pre_2012_sub_filter & days_to_settle_sub_filter)\n",
    "#second filter to remove rows where days to settlement is greater than 2 before 2012\n",
    "days_to_settle_filter = ~((F.col(\"trd_exctn_dt\").isNotNull()) &\\\n",
    "                         (F.col(\"stlmnt_dt\").isNotNull()) &\\\n",
    "                         (F.datediff(F.col(\"stlmnt_dt\"),F.col(\"trd_exctn_dt\")) > 2) &\\\n",
    "                         (F.year(F.col(\"stlmnt_dt\"))<2012))\n",
    "#keep only corporate bonds (security code type of C, excluded NaN)\n",
    "corporate_bond_filter = ~((F.col(\"scrty_type_cd\")==\"E\") & F.col(\"scrty_type_cd\").isNotNull())\n",
    "#keep bonds that are traded on the seconday market\n",
    "secondary_market_filter = F.col(\"trdg_mkt_cd\")==\"S1\"\n",
    "#keep bonds for which trade data is disseminated\n",
    "disseminated_filter = F.col(\"dissem_fl\")==\"Y\"\n",
    "# remove rows will null values for important cols\n",
    "rptd_pr_null_filter = F.col(\"rptd_pr\").isNotNull()\n",
    "yld_pt_null_filter = F.col(\"yld_pt\").isNotNull()\n",
    "entrd_vol_qty_null_filter = F.col(\"entrd_vol_qt\").isNotNull()\n",
    "# remove rows with strange price values (not in percentage terms of face value)\n",
    "negative_price_filter = F.col(\"rptd_pr\") > 0\n",
    "#minimum volume filter (>$10000)\n",
    "min_volume_filter = F.col(\"entrd_vol_qt\") > 10000"
   ]
  },
  {
   "cell_type": "code",
   "execution_count": 11,
   "id": "1f28f417-2644-4bb4-b2a0-91c107e0a42f",
   "metadata": {},
   "outputs": [],
   "source": [
    "trace_df_filtered = trace_df.filter(\n",
    "    when_issued_filter &\n",
    "    special_filter &\n",
    "    locked_in_filter &\n",
    "    pre_2012_days_to_settle_filter &\n",
    "    corporate_bond_filter &\n",
    "    secondary_market_filter &\n",
    "    disseminated_filter &\n",
    "    rptd_pr_null_filter &\n",
    "    yld_pt_null_filter &\n",
    "    entrd_vol_qty_null_filter &\n",
    "    negative_price_filter &\n",
    "    min_volume_filter &\n",
    "    days_to_settle_filter\n",
    ")"
   ]
  },
  {
   "cell_type": "markdown",
   "id": "a82c84ea-0a81-4b88-9ca3-258bd91a537b",
   "metadata": {},
   "source": [
    "### Mergent Filters"
   ]
  },
  {
   "cell_type": "code",
   "execution_count": 12,
   "id": "e44cca13-bb01-427e-b76a-148c313cc88b",
   "metadata": {},
   "outputs": [],
   "source": [
    "#certain NAICS codes only contained 5 characters, and after review it seemed they were missing a trailing 0\n",
    "fixNAICSToIntUdf = udf(fixNAICSToInt, IntegerType())\n",
    "mergent_df = mergent_df.withColumn(\"naics_code\", fixNAICSToIntUdf(F.col(\"naics_code\")))"
   ]
  },
  {
   "cell_type": "code",
   "execution_count": 13,
   "id": "2b6c9faa-cac9-45da-a3b1-302ea65cc992",
   "metadata": {},
   "outputs": [],
   "source": [
    "#keep only corporate debentures or corporate medium term notes\n",
    "bond_type_filter = F.col(\"bond_type\").isNotNull() & F.col(\"bond_type\").isin([\"CDEB\", \"CMTN\"])\n",
    "#keep bonds issued by US companies\n",
    "us_issuer_filter = (F.col(\"country_domicile\") == \"USA\") & F.col(\"country_domicile\").isNotNull()\n",
    "#remove non-publicly issued bonds\n",
    "rule_144a_filter = F.col(\"rule_144a\") == \"N\"\n",
    "private_placement_filter = (F.col(\"private_placement\")==\"N\") & F.col(\"private_placement\").isNotNull()\n",
    "#remove asset-backed bonds\n",
    "asset_backed_filter = (F.col(\"asset_backed\") == \"N\") & F.col(\"asset_backed\").isNotNull()\n",
    "#remove convertible bonds (including callable/putable bonds with conversion features)\n",
    "convertible_filter = (F.col(\"convertible\") == \"N\") & F.col(\"convertible\").isNotNull()\n",
    "convert_on_call_filter = ~((F.col(\"convert_on_call\") == \"Y\") & F.col(\"convert_on_call\").isNotNull())\n",
    "conv_redemp_exception_filter = ~((F.col(\"conv_redemp_exception\") == \"Y\") & F.col(\"conv_redemp_exception\").isNotNull())\n",
    "conv_period_spec_filter = ~((F.col(\"conv_period_spec\") == \"Y\") & F.col(\"conv_period_spec\").isNotNull())\n",
    "percs_filter = ~((F.col(\"percs\") == \"Y\") & F.col(\"percs\").isNotNull())\n",
    "peps_filter = ~((F.col(\"peps\") == \"Y\") & F.col(\"peps\").isNotNull())\n",
    "dilution_protection_filter = ~((F.col(\"dilution_protection\") == \"Y\") & F.col(\"dilution_protection\").isNotNull())\n",
    "conditional_conv_terms_filter = ~((F.col(\"conditional_conv_terms\") == \"Y\") & F.col(\"conditional_conv_terms\").isNotNull())\n",
    "esop_filter = ~((F.col(\"esop\") == \"Y\") & F.col(\"esop\").isNotNull()) \n",
    "#keep only fixed-rate coupon bonds\n",
    "coupon_type_filter = (F.col(\"coupon_type\") == \"F\") & F.col(\"coupon_type\").isNotNull()\n",
    "#remove bonds issued by financial firms, utilities, and public sector firms (including education institutions and nonprofits)\n",
    "naics_null_filter = F.col(\"naics_code\").isNotNull()\n",
    "financials_naics_filter = (~F.col(\"naics_code\").between(521000,525990))\n",
    "utilities_naics_filter = (~F.col(\"naics_code\").between(221000,221399))\n",
    "public_naics_filter = (~F.col(\"naics_code\").between(920000,929999))\n",
    "education_naics_filter = (~F.col(\"naics_code\").between(611000, 611999))\n",
    "nonprofit_naics_filter = (~F.col(\"naics_code\").between(813000, 813999))\n",
    "#keep bonds that are senior secured or senior unsecured\n",
    "senior_debt_filter = (F.col(\"security_level\").isin([\"SEN\",\"SS\"])) & F.col(\"security_level\").isNotNull()\n",
    "#keep bonds with semiannual coupon payments\n",
    "semi_annual_filter = (F.col(\"interest_frequency\") == \"2\") & F.col(\"interest_frequency\").isNotNull()\n",
    "#remove bonds that are payment-in-kind\n",
    "pay_in_kind_filter = ~((F.col(\"pay_in_kind\") == \"Y\") & F.col(\"pay_in_kind\").isNotNull())\n",
    "#keep bonds that use 30/360 daycount convention\n",
    "day_count_filter = (F.col(\"day_count_basis\") == \"30/360\") & F.col(\"day_count_basis\").isNotNull()\n",
    "# remove rows with NaN values for interest payment reference dates \n",
    "first_interest_date_null_filter = F.col(\"first_interest_date\").isNotNull()\n",
    "last_interest_date_null_filter = F.col(\"last_interest_date\").isNotNull()"
   ]
  },
  {
   "cell_type": "code",
   "execution_count": 14,
   "id": "39138e85-55e1-472e-9c8c-8fa908cda207",
   "metadata": {},
   "outputs": [],
   "source": [
    "mergent_df_filtered = mergent_df.filter(\n",
    "    us_issuer_filter &\n",
    "    rule_144a_filter &\n",
    "    private_placement_filter &\n",
    "    asset_backed_filter &\n",
    "    convertible_filter &\n",
    "    convert_on_call_filter &\n",
    "    conv_redemp_exception_filter &\n",
    "    conv_period_spec_filter &\n",
    "    percs_filter &\n",
    "    peps_filter &\n",
    "    dilution_protection_filter &\n",
    "    conditional_conv_terms_filter &\n",
    "    esop_filter &\n",
    "    coupon_type_filter &\n",
    "    naics_null_filter &\n",
    "    financials_naics_filter &\n",
    "    utilities_naics_filter &\n",
    "    public_naics_filter &\n",
    "    education_naics_filter &\n",
    "    nonprofit_naics_filter &\n",
    "    senior_debt_filter &\n",
    "    semi_annual_filter &\n",
    "    pay_in_kind_filter &\n",
    "    day_count_filter &\n",
    "    first_interest_date_null_filter &\n",
    "    last_interest_date_null_filter\n",
    ")"
   ]
  },
  {
   "cell_type": "markdown",
   "id": "96e82598-1e39-456a-a43b-2fdb868edb7a",
   "metadata": {},
   "source": [
    "## Merging Filtered TRACE and Mergent DataFrame"
   ]
  },
  {
   "cell_type": "code",
   "execution_count": 15,
   "id": "c4566a54-09db-44ea-98d4-53e6bbad05e8",
   "metadata": {},
   "outputs": [],
   "source": [
    "mergent_cols_identifiers = [\"issue_cusip\",\"issuer_cusip\", \"complete_cusip\",\"issue_id\",\"issuer_id\",\"cusip_name\"]\n",
    "\n",
    "trace_cols_to_keep = [\"trd_exctn_dt\", \"trd_exctn_tm\", \"trd_rpt_dt\", \"pr_trd_dt\", \"stlmnt_dt\", \n",
    "                      \"rptd_pr\",\"yld_pt\", \"entrd_vol_qt\"]\n",
    "\n",
    "mergent_cols_to_keep = [\"coupon\", \"principal_amt\", \"dated_date\", \"first_interest_date\", \"last_interest_date\", \n",
    "                        \"offering_date\", \"maturity\", \"naics_code\", \"denomination\", \"bond_type\", \"defaulted\"]\n",
    "#these special columns will help differentiate between bullet bonds and bonds with imbedded options\n",
    "mergent_cols_special = [\"redeemable\", \"putable\", \"soft_call_make_whole\", \"announced_call\", \"greater_of\",\n",
    "                        \"lesser_of\", \"date_subj_adjustment\"]"
   ]
  },
  {
   "cell_type": "code",
   "execution_count": 16,
   "id": "e2ee31f0-18ac-4813-8116-f6249c9e0cad",
   "metadata": {},
   "outputs": [],
   "source": [
    "#merge trace and mergent data by each bond issue's complete cusip\n",
    "merged_trace_and_mergent_df = trace_df_filtered.join(\n",
    "    mergent_df_filtered,\n",
    "    trace_df_filtered[\"cusip_id\"] == mergent_df_filtered[\"complete_cusip\"],\n",
    "    \"inner\"\n",
    ")\n",
    "\n",
    "merged_trace_and_mergent_df_cols_to_keep = mergent_cols_identifiers + trace_cols_to_keep + mergent_cols_to_keep + mergent_cols_special\n",
    "\n",
    "merged_trace_and_mergent_df = merged_trace_and_mergent_df.select(merged_trace_and_mergent_df_cols_to_keep)"
   ]
  },
  {
   "cell_type": "code",
   "execution_count": 17,
   "id": "f934dc88-1829-43e1-b713-66000305ef2c",
   "metadata": {},
   "outputs": [],
   "source": [
    "#remove rows where years to maturity is not between 1 - 30 years (using ISDA 30U/360 US day convention, also used in pricing functions)\n",
    "#suggested by Binsbergen, et al. 2023\n",
    "trd_exctn_dt = F.col(\"trd_exctn_dt\")\n",
    "maturity = F.col(\"maturity\")\n",
    "\n",
    "start_year = F.year(trd_exctn_dt)\n",
    "start_month = F.month(trd_exctn_dt)\n",
    "start_day = F.dayofmonth(trd_exctn_dt)\n",
    "end_year = F.year(maturity)\n",
    "end_month = F.month(maturity)\n",
    "end_day = F.dayofmonth(maturity)\n",
    "\n",
    "start_date_eom_mask = trd_exctn_dt == F.last_day(trd_exctn_dt)\n",
    "end_date_eom_mask = maturity == F.last_day(maturity)\n",
    "\n",
    "#ISDA conditions applied in order, carrying adjusted start or end days successively through conditional checks\n",
    "start_day = F.when((start_month == 2) & start_date_eom_mask, 30).otherwise(start_day)\n",
    "end_day = F.when((start_month == 2) & start_date_eom_mask & (end_month == 2) & end_date_eom_mask, 30).otherwise(end_day)\n",
    "end_day = F.when((end_day == 31) & (start_day > 29), 30).otherwise(end_day)\n",
    "start_day = F.when(start_day == 31, 30).otherwise(start_day)\n",
    "\n",
    "days_to_maturity_30360 = (end_year - start_year) * 360 + (end_month - start_month) * 30 + (end_day - start_day)\n",
    "years_to_maturity_30360 = days_to_maturity_30360.cast(\"double\") / 360.0\n",
    "\n",
    "merged_trace_and_mergent_df = merged_trace_and_mergent_df.withColumn(\"years_to_maturity_30360\", years_to_maturity_30360).filter(F.col(\"years_to_maturity_30360\").between(1.0, 30.0))\n",
    "merged_trace_and_mergent_df = merged_trace_and_mergent_df.drop(\"years_to_maturity_30360\")"
   ]
  },
  {
   "cell_type": "markdown",
   "id": "2d618b54-66a5-4f22-9e78-bba4b598035f",
   "metadata": {},
   "source": [
    "### Saving Merged TRACE and Mergent DataFrame"
   ]
  },
  {
   "cell_type": "code",
   "execution_count": 18,
   "id": "fdabd16a-3a72-4f10-aede-c826a9a07273",
   "metadata": {},
   "outputs": [
    {
     "name": "stdout",
     "output_type": "stream",
     "text": [
      "MERGED DATA SAVED AS PARQUET\n"
     ]
    }
   ],
   "source": [
    "output_dir = processed_data_file_path + \"merged_trace_and_mergent_data_temp\"\n",
    "merged_trace_and_mergent_df.repartition(1).write.mode(\"overwrite\").parquet(output_dir)\n",
    "parquet_files = [file for file in os.listdir(output_dir) if file.endswith(\".parquet\")]\n",
    "if parquet_files:\n",
    "    os.rename(f\"{output_dir}/{parquet_files[0]}\", processed_data_file_path + \"total_bond_transaction_data.parquet\")\n",
    "shutil.rmtree(output_dir)\n",
    "\n",
    "print(\"MERGED DATA SAVED AS PARQUET\")"
   ]
  },
  {
   "cell_type": "markdown",
   "id": "73bf0540-71b0-4659-8811-b339be06f94e",
   "metadata": {},
   "source": [
    "## Daily Aggregation of Bond Data"
   ]
  },
  {
   "cell_type": "markdown",
   "id": "0a335bcd-aa53-4fe9-afa7-25d381ac5ffc",
   "metadata": {},
   "source": [
    "### Loading Total Bond Transaction Data"
   ]
  },
  {
   "cell_type": "code",
   "execution_count": 19,
   "id": "33834555-1d43-46ad-87ef-14de3887dcd0",
   "metadata": {},
   "outputs": [],
   "source": [
    "trade_df_temp = spark.read.format(\"parquet\").load(processed_data_file_path + \"total_bond_transaction_data.parquet\")\n",
    "trade_df_schema, trade_df_cols_by_dataset = getSparkSchema2(trade_df_temp.columns, \n",
    "                                                            json_file_path,\n",
    "                                                            True)\n",
    "del trade_df_temp\n",
    "trade_df = spark.read.format(\"parquet\").schema(trade_df_schema).load(processed_data_file_path + \"total_bond_transaction_data.parquet\")"
   ]
  },
  {
   "cell_type": "code",
   "execution_count": 20,
   "id": "0f9898b0-5024-4708-98a5-c9bc25544f59",
   "metadata": {},
   "outputs": [],
   "source": [
    "agg_dict_1 = {}\n",
    "agg_dict_1[\"daily_price\"] = F.last(F.col(\"rptd_pr\"))\n",
    "agg_dict_1[\"daily_volume\"] = F.sum(F.col(\"entrd_vol_qt\"))\n",
    "agg_dict_1[\"trace_yield\"] = F.last(F.col(\"yld_pt\"))\n",
    "agg_dict_1[\"trd_exctn_tm\"] = F.last(F.col(\"trd_exctn_tm\"))\n",
    "for col in list(set(trade_df_cols_by_dataset[\"mergent\"]) - set([\"complete_cusip\"])):\n",
    "    agg_dict_1[col] = F.first(F.col(col))\n",
    "daily_trade_df = trade_df.groupBy(\"complete_cusip\",\"trd_exctn_dt\").agg(\n",
    "    *[func.alias(col) for col, func in agg_dict_1.items()]\n",
    ")"
   ]
  },
  {
   "cell_type": "markdown",
   "id": "61c29cf1-78f6-4146-ad46-c53bfd09198b",
   "metadata": {},
   "source": [
    "### Saving Daily Trade Data DataFrame"
   ]
  },
  {
   "cell_type": "code",
   "execution_count": 21,
   "id": "e6a6d2cc-9448-40cb-b002-6cc8bb238a63",
   "metadata": {},
   "outputs": [
    {
     "name": "stdout",
     "output_type": "stream",
     "text": [
      "DAILY DATA SAVED AS PARQUET\n"
     ]
    }
   ],
   "source": [
    "output_dir = processed_data_file_path + \"daily_trade_data_temp\"\n",
    "daily_trade_df.repartition(1).write.mode(\"overwrite\").parquet(output_dir)\n",
    "parquet_files = [file for file in os.listdir(output_dir) if file.endswith(\".parquet\")]\n",
    "if parquet_files:\n",
    "    os.rename(f\"{output_dir}/{parquet_files[0]}\", processed_data_file_path + \"daily_bond_transaction_data.parquet\")\n",
    "shutil.rmtree(output_dir)\n",
    "\n",
    "print(\"DAILY DATA SAVED AS PARQUET\")"
   ]
  },
  {
   "cell_type": "markdown",
   "id": "7faac57d-d55a-4388-9d8b-d9dd15fb4cc2",
   "metadata": {},
   "source": [
    "# Dirty Bond Price and Duration-Matched Treasury Price Calculation"
   ]
  },
  {
   "cell_type": "markdown",
   "id": "d4a82d1c-38e9-4dcf-9839-e3afd57b2cbc",
   "metadata": {},
   "source": [
    "## Initializing Variables"
   ]
  },
  {
   "cell_type": "markdown",
   "id": "73dfee05-23e9-46bb-b7fd-3f76436b4c65",
   "metadata": {},
   "source": [
    "### Trading Holidays Object and Payment Schedule Dict"
   ]
  },
  {
   "cell_type": "code",
   "execution_count": 22,
   "id": "9b06d518-d7ee-453d-a4cd-4c30824cd543",
   "metadata": {},
   "outputs": [],
   "source": [
    "#create CustomBusinessDays object to obtain trading days throughout sample period\n",
    "trading_bdays = getTradingDaysObject()\n",
    "#declare global payment schedule dictionary\n",
    "payment_schedule_dict = {}"
   ]
  },
  {
   "cell_type": "markdown",
   "id": "505227fe-f976-4f7d-98c3-317a26e01bb0",
   "metadata": {},
   "source": [
    "## Calculations on Daily Bond Transaction Data"
   ]
  },
  {
   "cell_type": "markdown",
   "id": "bbb14e2f-268f-489a-941e-bb61db7aa6dc",
   "metadata": {},
   "source": [
    "### Load Daily Bond Transaction DataFrame"
   ]
  },
  {
   "cell_type": "code",
   "execution_count": 23,
   "id": "c9f21ac5-5c04-4bb5-8d42-8b5418a3f635",
   "metadata": {},
   "outputs": [],
   "source": [
    "daily_df = pd.read_parquet(processed_data_file_path + \"daily_bond_transaction_data.parquet\")"
   ]
  },
  {
   "cell_type": "code",
   "execution_count": 24,
   "id": "8c7386ee-6277-4f68-aaf5-dd3ede2317ef",
   "metadata": {
    "scrolled": true
   },
   "outputs": [
    {
     "name": "stdout",
     "output_type": "stream",
     "text": [
      "<class 'pandas.core.frame.DataFrame'>\n",
      "RangeIndex: 10327034 entries, 0 to 10327033\n",
      "Data columns (total 29 columns):\n",
      " #   Column                Dtype  \n",
      "---  ------                -----  \n",
      " 0   complete_cusip        object \n",
      " 1   trd_exctn_dt          object \n",
      " 2   daily_price           float32\n",
      " 3   daily_volume          float64\n",
      " 4   trace_yield           float32\n",
      " 5   trd_exctn_tm          object \n",
      " 6   issuer_cusip          object \n",
      " 7   cusip_name            object \n",
      " 8   principal_amt         float32\n",
      " 9   naics_code            int32  \n",
      " 10  announced_call        object \n",
      " 11  putable               object \n",
      " 12  first_interest_date   object \n",
      " 13  last_interest_date    object \n",
      " 14  soft_call_make_whole  object \n",
      " 15  bond_type             object \n",
      " 16  redeemable            object \n",
      " 17  defaulted             object \n",
      " 18  lesser_of             object \n",
      " 19  issue_cusip           object \n",
      " 20  dated_date            object \n",
      " 21  denomination          object \n",
      " 22  offering_date         object \n",
      " 23  issuer_id             float32\n",
      " 24  maturity              object \n",
      " 25  date_subj_adjustment  object \n",
      " 26  issue_id              float32\n",
      " 27  coupon                float32\n",
      " 28  greater_of            object \n",
      "dtypes: float32(6), float64(1), int32(1), object(21)\n",
      "memory usage: 2.0+ GB\n"
     ]
    }
   ],
   "source": [
    "daily_df.info()"
   ]
  },
  {
   "cell_type": "code",
   "execution_count": 25,
   "id": "4ced78f2-bb85-41bc-8068-8cd809166017",
   "metadata": {
    "jupyter": {
     "source_hidden": true
    }
   },
   "outputs": [],
   "source": [
    "bond_df_pandas_dtypes = {\n",
    "    \"issue_cusip\": \"string\",\n",
    "    \"issuer_cusip\": \"string\",\n",
    "    \"complete_cusip\": \"string\",\n",
    "    \"trd_exctn_dt\": \"datetime64[ns]\",\n",
    "    \"trd_exctn_tm\": \"string\",\n",
    "    \"daily_price\": \"float32\",\n",
    "    \"daily_volume\": \"float32\",\n",
    "    \"trace_yield\": \"float32\",\n",
    "    \"last_interest_date\": \"datetime64[ns]\",\n",
    "    \"principal_amt\": \"float32\",\n",
    "    \"offering_date\": \"datetime64[ns]\",\n",
    "    \"announced_call\": \"string\",\n",
    "    \"denomination\": \"string\",\n",
    "    \"bond_type\": \"string\",\n",
    "    \"date_subj_adjustment\": \"string\",\n",
    "    \"naics_code\": \"int32\",\n",
    "    \"putable\": \"string\",\n",
    "    \"defaulted\": \"string\",\n",
    "    \"soft_call_make_whole\": \"string\",\n",
    "    \"maturity\": \"datetime64[ns]\",\n",
    "    \"cusip_name\": \"string\",\n",
    "    \"issuer_id\": \"float32\",\n",
    "    \"dated_date\": \"datetime64[ns]\",\n",
    "    \"lesser_of\": \"string\",\n",
    "    \"greater_of\": \"string\",\n",
    "    \"coupon\": \"float32\",\n",
    "    \"first_interest_date\": \"datetime64[ns]\",\n",
    "    \"issue_id\": \"float32\",\n",
    "    \"redeemable\": \"string\",\n",
    "}"
   ]
  },
  {
   "cell_type": "code",
   "execution_count": 26,
   "id": "1f8ea160-73d6-478d-a320-a9dea7e331a5",
   "metadata": {},
   "outputs": [],
   "source": [
    "for col, dtype in bond_df_pandas_dtypes.items():\n",
    "    daily_df[col] = daily_df[col].astype(dtype)"
   ]
  },
  {
   "cell_type": "markdown",
   "id": "4d85e736-380b-4ac6-a443-728c748d3d91",
   "metadata": {},
   "source": [
    "### Obtain and Save Payment Schedule For Each Complete Cusip (also used for total bond transaction dataset)"
   ]
  },
  {
   "cell_type": "code",
   "execution_count": 27,
   "id": "2681c59b-d653-4199-be2d-e310a2a17360",
   "metadata": {
    "scrolled": true
   },
   "outputs": [
    {
     "name": "stderr",
     "output_type": "stream",
     "text": [
      "C:\\Users\\wvill\\AppData\\Local\\Temp\\ipykernel_2164\\452280102.py:1: DeprecationWarning: DataFrameGroupBy.apply operated on the grouping columns. This behavior is deprecated, and in a future version of pandas the grouping columns will be excluded from the operation. Either pass `include_groups=False` to exclude the groupings or explicitly select the grouping columns after groupby to silence this warning.\n",
      "  daily_df.groupby(\"complete_cusip\").apply(\n"
     ]
    },
    {
     "name": "stdout",
     "output_type": "stream",
     "text": [
      "SAVED PAYMENT SCHEDULE DICT\n"
     ]
    }
   ],
   "source": [
    "daily_df.groupby(\"complete_cusip\").apply(\n",
    "    group30360PaymentSchedule,\n",
    "    6,\n",
    "    payment_schedule_dict,\n",
    "    trading_bdays,\n",
    ")\n",
    "\n",
    "savePaymentScheduleDict(json_file_path + \"bond_data_payment_schedule_dict.json\", payment_schedule_dict)"
   ]
  },
  {
   "cell_type": "code",
   "execution_count": 28,
   "id": "0bff38a1-4552-4e5b-8ad4-a541798e114a",
   "metadata": {},
   "outputs": [],
   "source": [
    "payment_schedule_dict = loadPaymentScheduleDict(json_file_path + \"bond_data_payment_schedule_dict.json\")"
   ]
  },
  {
   "cell_type": "markdown",
   "id": "72ce95d8-a67d-44b6-a611-0b316156ce87",
   "metadata": {},
   "source": [
    "### Data Preparation"
   ]
  },
  {
   "cell_type": "markdown",
   "id": "9a809b77-47d9-492e-8213-6b2e92928a78",
   "metadata": {},
   "source": [
    "#### Keep Standard Bullet Bonds in Sample"
   ]
  },
  {
   "cell_type": "code",
   "execution_count": 29,
   "id": "ebc20fa3-fa5e-4131-9c2a-52f65e2a70f5",
   "metadata": {},
   "outputs": [],
   "source": [
    "#remove bonds with flags that indicate embedded options\n",
    "redeemable_bond_filter = daily_df[\"redeemable\"] == \"N\"\n",
    "putable_bond_filter = daily_df[\"putable\"] == \"N\"\n",
    "soft_call_make_whole_filter = ~((daily_df[\"soft_call_make_whole\"] == \"Y\") & daily_df[\"soft_call_make_whole\"].notna())\n",
    "date_subj_adjustment_filter = ~((daily_df[\"date_subj_adjustment\"] == \"Y\") & daily_df[\"date_subj_adjustment\"].notna())\n",
    "greater_of_filter = ~((daily_df[\"greater_of\"] == \"Y\") & daily_df[\"greater_of\"].notna())\n",
    "lesser_of_filter = ~((daily_df[\"lesser_of\"] == \"Y\") & daily_df[\"lesser_of\"].notna())\n",
    "announced_call_filter = ~((daily_df[\"announced_call\"] == \"Y\") & daily_df[\"announced_call\"].notna())\n",
    "#keep bonds with standard face value of $1000\n",
    "standard_face_value_filter = daily_df[\"principal_amt\"] == 1000\n",
    "\n",
    "daily_bullet_df = daily_df[(redeemable_bond_filter & \\\n",
    "                            putable_bond_filter & \\\n",
    "                            soft_call_make_whole_filter & \\\n",
    "                            date_subj_adjustment_filter & \\\n",
    "                            greater_of_filter & \\\n",
    "                            lesser_of_filter & \\\n",
    "                            announced_call_filter & \\\n",
    "                            standard_face_value_filter)].reset_index(drop=True)"
   ]
  },
  {
   "cell_type": "markdown",
   "id": "6e788e4d-f485-44fb-a96b-4cad0adb2794",
   "metadata": {},
   "source": [
    "#### Merging Svensson Yield Curve Params"
   ]
  },
  {
   "cell_type": "code",
   "execution_count": 30,
   "id": "0133d532-fd2d-4c44-9006-62ec414d9284",
   "metadata": {},
   "outputs": [],
   "source": [
    "yld_curve_params_df = pd.read_csv(raw_data_file_path + \"svensson_yield_params.csv\")\n",
    "yld_curve_params_lowercase_cols = [col.lower() for col in yld_curve_params_df.columns]\n",
    "yld_curve_params_col_rename_map = dict(zip(yld_curve_params_df.columns,yld_curve_params_lowercase_cols))\n",
    "yld_curve_params_df.rename(columns=yld_curve_params_col_rename_map,inplace=True)\n",
    "#adjust format of date column and rename to coincide with daily_bullet_df column name\n",
    "yld_curve_params_df[\"trd_exctn_dt\"] = pd.to_datetime(yld_curve_params_df[\"date\"].apply(lambda x: f\"{x.split('/')[2]}-{x.split('/')[0]}-{x.split('/')[1]}\"))\n",
    "yld_curve_params_df = yld_curve_params_df[[\"trd_exctn_dt\",\"beta0\", \"beta1\", \"beta2\", \"beta3\", \"tau1\", \"tau2\"]]\n",
    "daily_bullet_df = daily_bullet_df.merge(yld_curve_params_df,how=\"left\", on=\"trd_exctn_dt\")"
   ]
  },
  {
   "cell_type": "markdown",
   "id": "cde11f20-ab82-46b2-a144-674d3b85a9ff",
   "metadata": {},
   "source": [
    "#### Capping Execution Times to Market Close"
   ]
  },
  {
   "cell_type": "code",
   "execution_count": 31,
   "id": "844d0186-b3ae-4c18-8330-11e7d2ab79d0",
   "metadata": {},
   "outputs": [],
   "source": [
    "daily_bullet_df.loc[:,\"trd_exctn_dt_tm\"] = daily_bullet_df[\"trd_exctn_dt\"] + pd.to_timedelta(daily_bullet_df[\"trd_exctn_tm\"])\n",
    "daily_bullet_df.loc[:,\"trd_exctn_dt_tm_capped\"] = marketHoursTimestampRestriction(daily_bullet_df[\"trd_exctn_dt_tm\"])"
   ]
  },
  {
   "cell_type": "markdown",
   "id": "467f78d8-1690-4a17-8a9f-dbc3fbb48d00",
   "metadata": {},
   "source": [
    "### Clean Price Calculation (Used for Estimated Prices and TRACE Prices)"
   ]
  },
  {
   "cell_type": "code",
   "execution_count": 32,
   "id": "fae0c7f5-d875-4cae-9158-226705ee3423",
   "metadata": {},
   "outputs": [],
   "source": [
    "daily_bullet_df.loc[:,\"clean_price\"] = daily_bullet_df[\"daily_price\"] * daily_bullet_df[\"principal_amt\"] / 100"
   ]
  },
  {
   "cell_type": "markdown",
   "id": "b2ed2c0e-8804-475e-bdc8-242a76ec0251",
   "metadata": {},
   "source": [
    "### Estimated Accrued Interest, Dirty Price, And Yield Calculations"
   ]
  },
  {
   "cell_type": "code",
   "execution_count": 33,
   "id": "db56071f-2c47-4b7d-b618-651429713fe8",
   "metadata": {},
   "outputs": [
    {
     "name": "stdout",
     "output_type": "stream",
     "text": [
      "Estimated Accrued Interest Calculation Time: 23.01 seconds\n",
      "Estimated Dirty Price Calculation Time: 0.00 seconds\n",
      "Estimated Yield Calculation Time: 431.87 seconds\n"
     ]
    }
   ],
   "source": [
    "#estimated accrued interest calculation and time tracking\n",
    "est_acc_int_start = time.time()\n",
    "\n",
    "daily_bullet_df[\"estimated_accrued_interest\"] = daily_bullet_df.apply(\n",
    "    lambda row: calcAccruedInterest(\n",
    "        row[\"coupon\"],\n",
    "        2,\n",
    "        row[\"principal_amt\"],\n",
    "        row[\"dated_date\"],\n",
    "        row[\"trd_exctn_dt_tm_capped\"],\n",
    "        row[\"complete_cusip\"],\n",
    "        payment_schedule_dict\n",
    "    ),\n",
    "    axis=1\n",
    ")\n",
    "\n",
    "est_acc_int_end = time.time()\n",
    "\n",
    "#estimated dirty price calculation and time tracking\n",
    "est_d_price_start = time.time()\n",
    "\n",
    "daily_bullet_df.loc[:,\"estimated_dirty_price\"] = daily_bullet_df[\"clean_price\"] + daily_bullet_df[\"estimated_accrued_interest\"]\n",
    "\n",
    "est_d_price_end = time.time()\n",
    "\n",
    "#estimated yield calculation and time tracking\n",
    "est_yield_start = time.time()\n",
    "#lists to track which (complete_cusip, asof_date) pairs cause root_scalar or minimize_scalar solvers to fail\n",
    "rs_fail_id_list = []\n",
    "ms_fail_id_list = []\n",
    "\n",
    "#estimating yield using estimated_dirty_price\n",
    "daily_bullet_df[\"estimated_yield\"] = daily_bullet_df.apply(\n",
    "    lambda row: bulletBondYieldExtractor(\n",
    "        row[\"estimated_dirty_price\"],\n",
    "        row[\"coupon\"],\n",
    "        2,\n",
    "        row[\"principal_amt\"],\n",
    "        row[\"trd_exctn_dt_tm_capped\"],\n",
    "        row[\"complete_cusip\"],\n",
    "        payment_schedule_dict,\n",
    "        rs_fail_id_list,\n",
    "        ms_fail_id_list\n",
    "    ),\n",
    "    axis=1\n",
    ")\n",
    "\n",
    "#creating pd.Series of complete cusips and asof dates that fail either solver for further analysis\n",
    "if len(rs_fail_id_list) > 0:\n",
    "    rs_fail_id_complete_cusips, rs_fail_id_asof_dates = zip(*rs_fail_id_list)\n",
    "    rs_fail_id_complete_cusips = pd.Series(rs_fail_id_complete_cusips)\n",
    "    rs_fail_id_asof_dates = pd.Series(rs_fail_id_asof_dates)\n",
    "\n",
    "if len(ms_fail_id_list) > 0:\n",
    "    ms_fail_id_complete_cusips, ms_fail_id_asof_dates = zip(*ms_fail_id_list)\n",
    "    ms_fail_id_complete_cusips = pd.Series(ms_fail_id_complete_cusips)\n",
    "    ms_fail_id_asof_dates = pd.Series(ms_fail_id_asof_dates)\n",
    "\n",
    "est_yield_end = time.time()\n",
    "\n",
    "print(f\"Estimated Accrued Interest Calculation Time: {est_acc_int_end - est_acc_int_start:.2f} seconds\")\n",
    "print(f\"Estimated Dirty Price Calculation Time: {est_d_price_end - est_d_price_start:.2f} seconds\")\n",
    "print(f\"Estimated Yield Calculation Time: {est_yield_end - est_yield_start:.2f} seconds\")"
   ]
  },
  {
   "cell_type": "markdown",
   "id": "dcd20745-1caa-4802-b357-a0134d8b6850",
   "metadata": {},
   "source": [
    "### TRACE Dirty Price and Accrued Interest Calculations"
   ]
  },
  {
   "cell_type": "code",
   "execution_count": 34,
   "id": "e1831e82-f931-456d-be59-d17a4ac6475b",
   "metadata": {},
   "outputs": [
    {
     "name": "stdout",
     "output_type": "stream",
     "text": [
      "TRACE Accrued Interest Calculation Time: 0.00 seconds\n",
      "TRACE Dirty Price Calculation Time: 39.18 seconds\n"
     ]
    }
   ],
   "source": [
    "#TRACE dirty price calculation and time tracking\n",
    "trace_d_price_start = time.time()\n",
    "\n",
    "daily_bullet_df[\"trace_dirty_price\"] = daily_bullet_df.apply(\n",
    "    lambda row: bulletBondPricer(\n",
    "        row[\"trace_yield\"],\n",
    "        row[\"coupon\"],\n",
    "        2,\n",
    "        row[\"principal_amt\"],\n",
    "        row[\"trd_exctn_dt_tm_capped\"],\n",
    "        row[\"complete_cusip\"],\n",
    "        payment_schedule_dict\n",
    "    ),\n",
    "    axis=1\n",
    ")\n",
    "\n",
    "trace_d_price_end = time.time()\n",
    "\n",
    "#TRACE accrued interest calculation and time tracking\n",
    "trace_acc_int_start = time.time()\n",
    "\n",
    "daily_bullet_df.loc[:,\"trace_accrued_interest\"] = daily_bullet_df[\"trace_dirty_price\"] - daily_bullet_df[\"clean_price\"]\n",
    "\n",
    "trace_acc_int_end = time.time()\n",
    "\n",
    "print(f\"TRACE Accrued Interest Calculation Time: {trace_acc_int_end - trace_acc_int_start:.2f} seconds\")\n",
    "print(f\"TRACE Dirty Price Calculation Time: {trace_d_price_end - trace_d_price_start:.2f} seconds\")"
   ]
  },
  {
   "cell_type": "markdown",
   "id": "90b11f34-3eeb-41e5-89b1-4ae94b0c1fde",
   "metadata": {},
   "source": [
    "### Comparing Estimates with Trace Implied Values"
   ]
  },
  {
   "cell_type": "code",
   "execution_count": 35,
   "id": "083f8c48-646c-4ba7-b6b9-a786ea1283ab",
   "metadata": {},
   "outputs": [
    {
     "name": "stdout",
     "output_type": "stream",
     "text": [
      "Dirty Price Mean Absolute Error: $0.93\n",
      "Dirty Price Median Absolute Error: $0.24\n",
      "Accrued Interest Mean Absolute Error: $0.93\n",
      "Accrued Interest Median Absolute Error: $0.24\n",
      "Yield Mean Absolute Error: 27.16 bps\n",
      "Yield Median Absolute Error: 0.46 bps\n"
     ]
    }
   ],
   "source": [
    "dirty_price_mean_abs_error = np.abs(daily_bullet_df[\"estimated_dirty_price\"] - daily_bullet_df[\"trace_dirty_price\"]).mean()\n",
    "dirty_price_median_abs_error = np.abs(daily_bullet_df[\"estimated_dirty_price\"] - daily_bullet_df[\"trace_dirty_price\"]).median()\n",
    "accrued_interest_mean_abs_error = np.abs(daily_bullet_df[\"estimated_accrued_interest\"] - daily_bullet_df[\"trace_accrued_interest\"]).mean()\n",
    "accrued_interest_median_abs_error = np.abs(daily_bullet_df[\"estimated_accrued_interest\"] - daily_bullet_df[\"trace_accrued_interest\"]).median()\n",
    "yield_mean_abs_error = np.abs(daily_bullet_df[\"estimated_yield\"] - daily_bullet_df[\"trace_yield\"]).mean()\n",
    "yield_median_abs_error = np.abs(daily_bullet_df[\"estimated_yield\"] - daily_bullet_df[\"trace_yield\"]).median()\n",
    "print(f\"Dirty Price Mean Absolute Error: ${dirty_price_mean_abs_error:.2f}\")\n",
    "print(f\"Dirty Price Median Absolute Error: ${dirty_price_median_abs_error:.2f}\")\n",
    "print(f\"Accrued Interest Mean Absolute Error: ${accrued_interest_mean_abs_error:.2f}\")\n",
    "print(f\"Accrued Interest Median Absolute Error: ${accrued_interest_median_abs_error:.2f}\")\n",
    "print(f\"Yield Mean Absolute Error: {yield_mean_abs_error*100:.2f} bps\")\n",
    "print(f\"Yield Median Absolute Error: {yield_median_abs_error*100:.2f} bps\")"
   ]
  },
  {
   "cell_type": "code",
   "execution_count": 36,
   "id": "affa6365-b120-4440-be09-0ec93c7e98d0",
   "metadata": {},
   "outputs": [
    {
     "name": "stdout",
     "output_type": "stream",
     "text": [
      "Num data points that failed root scalar solver: 295\n",
      "Num data points that failed minimize scalar solver (no yield extracted): 0\n"
     ]
    }
   ],
   "source": [
    "print(f\"Num data points that failed root scalar solver: {len(rs_fail_id_list)}\")\n",
    "print(f\"Num data points that failed minimize scalar solver (no yield extracted): {len(ms_fail_id_list)}\")"
   ]
  },
  {
   "cell_type": "code",
   "execution_count": 37,
   "id": "28a309ed-be95-453c-ac67-c3e97836f746",
   "metadata": {},
   "outputs": [
    {
     "data": {
      "text/html": [
       "<div>\n",
       "<style scoped>\n",
       "    .dataframe tbody tr th:only-of-type {\n",
       "        vertical-align: middle;\n",
       "    }\n",
       "\n",
       "    .dataframe tbody tr th {\n",
       "        vertical-align: top;\n",
       "    }\n",
       "\n",
       "    .dataframe thead th {\n",
       "        text-align: right;\n",
       "    }\n",
       "</style>\n",
       "<table border=\"1\" class=\"dataframe\">\n",
       "  <thead>\n",
       "    <tr style=\"text-align: right;\">\n",
       "      <th></th>\n",
       "      <th>clean_price</th>\n",
       "    </tr>\n",
       "  </thead>\n",
       "  <tbody>\n",
       "    <tr>\n",
       "      <th>count</th>\n",
       "      <td>683615.000000</td>\n",
       "    </tr>\n",
       "    <tr>\n",
       "      <th>mean</th>\n",
       "      <td>1067.590942</td>\n",
       "    </tr>\n",
       "    <tr>\n",
       "      <th>std</th>\n",
       "      <td>158.385635</td>\n",
       "    </tr>\n",
       "    <tr>\n",
       "      <th>min</th>\n",
       "      <td>0.000010</td>\n",
       "    </tr>\n",
       "    <tr>\n",
       "      <th>25%</th>\n",
       "      <td>1003.219788</td>\n",
       "    </tr>\n",
       "    <tr>\n",
       "      <th>50%</th>\n",
       "      <td>1061.819946</td>\n",
       "    </tr>\n",
       "    <tr>\n",
       "      <th>75%</th>\n",
       "      <td>1146.380005</td>\n",
       "    </tr>\n",
       "    <tr>\n",
       "      <th>max</th>\n",
       "      <td>10539.870117</td>\n",
       "    </tr>\n",
       "  </tbody>\n",
       "</table>\n",
       "</div>"
      ],
      "text/plain": [
       "         clean_price\n",
       "count  683615.000000\n",
       "mean     1067.590942\n",
       "std       158.385635\n",
       "min         0.000010\n",
       "25%      1003.219788\n",
       "50%      1061.819946\n",
       "75%      1146.380005\n",
       "max     10539.870117"
      ]
     },
     "execution_count": 37,
     "metadata": {},
     "output_type": "execute_result"
    }
   ],
   "source": [
    "daily_bullet_df[[\"clean_price\"]].describe()"
   ]
  },
  {
   "cell_type": "code",
   "execution_count": 38,
   "id": "ed40f03a-629e-41c7-9581-58d7fda8c240",
   "metadata": {},
   "outputs": [
    {
     "data": {
      "text/html": [
       "<div>\n",
       "<style scoped>\n",
       "    .dataframe tbody tr th:only-of-type {\n",
       "        vertical-align: middle;\n",
       "    }\n",
       "\n",
       "    .dataframe tbody tr th {\n",
       "        vertical-align: top;\n",
       "    }\n",
       "\n",
       "    .dataframe thead th {\n",
       "        text-align: right;\n",
       "    }\n",
       "</style>\n",
       "<table border=\"1\" class=\"dataframe\">\n",
       "  <thead>\n",
       "    <tr style=\"text-align: right;\">\n",
       "      <th></th>\n",
       "      <th>estimated_dirty_price</th>\n",
       "      <th>trace_dirty_price</th>\n",
       "    </tr>\n",
       "  </thead>\n",
       "  <tbody>\n",
       "    <tr>\n",
       "      <th>count</th>\n",
       "      <td>683615.000000</td>\n",
       "      <td>683615.000000</td>\n",
       "    </tr>\n",
       "    <tr>\n",
       "      <th>mean</th>\n",
       "      <td>1084.191301</td>\n",
       "      <td>1084.811318</td>\n",
       "    </tr>\n",
       "    <tr>\n",
       "      <th>std</th>\n",
       "      <td>159.607907</td>\n",
       "      <td>159.187209</td>\n",
       "    </tr>\n",
       "    <tr>\n",
       "      <th>min</th>\n",
       "      <td>10.000000</td>\n",
       "      <td>3.028426</td>\n",
       "    </tr>\n",
       "    <tr>\n",
       "      <th>25%</th>\n",
       "      <td>1016.132483</td>\n",
       "      <td>1016.737472</td>\n",
       "    </tr>\n",
       "    <tr>\n",
       "      <th>50%</th>\n",
       "      <td>1077.918134</td>\n",
       "      <td>1078.670914</td>\n",
       "    </tr>\n",
       "    <tr>\n",
       "      <th>75%</th>\n",
       "      <td>1165.108496</td>\n",
       "      <td>1165.632989</td>\n",
       "    </tr>\n",
       "    <tr>\n",
       "      <th>max</th>\n",
       "      <td>10567.175124</td>\n",
       "      <td>2424.169706</td>\n",
       "    </tr>\n",
       "  </tbody>\n",
       "</table>\n",
       "</div>"
      ],
      "text/plain": [
       "       estimated_dirty_price  trace_dirty_price\n",
       "count          683615.000000      683615.000000\n",
       "mean             1084.191301        1084.811318\n",
       "std               159.607907         159.187209\n",
       "min                10.000000           3.028426\n",
       "25%              1016.132483        1016.737472\n",
       "50%              1077.918134        1078.670914\n",
       "75%              1165.108496        1165.632989\n",
       "max             10567.175124        2424.169706"
      ]
     },
     "execution_count": 38,
     "metadata": {},
     "output_type": "execute_result"
    }
   ],
   "source": [
    "daily_bullet_df[[\"estimated_dirty_price\", \"trace_dirty_price\"]].describe()"
   ]
  },
  {
   "cell_type": "code",
   "execution_count": 39,
   "id": "2cc6ae81-99d9-4631-b35e-082f25719813",
   "metadata": {},
   "outputs": [
    {
     "data": {
      "text/html": [
       "<div>\n",
       "<style scoped>\n",
       "    .dataframe tbody tr th:only-of-type {\n",
       "        vertical-align: middle;\n",
       "    }\n",
       "\n",
       "    .dataframe tbody tr th {\n",
       "        vertical-align: top;\n",
       "    }\n",
       "\n",
       "    .dataframe thead th {\n",
       "        text-align: right;\n",
       "    }\n",
       "</style>\n",
       "<table border=\"1\" class=\"dataframe\">\n",
       "  <thead>\n",
       "    <tr style=\"text-align: right;\">\n",
       "      <th></th>\n",
       "      <th>estimated_accrued_interest</th>\n",
       "      <th>trace_accrued_interest</th>\n",
       "    </tr>\n",
       "  </thead>\n",
       "  <tbody>\n",
       "    <tr>\n",
       "      <th>count</th>\n",
       "      <td>683615.000000</td>\n",
       "      <td>683615.000000</td>\n",
       "    </tr>\n",
       "    <tr>\n",
       "      <th>mean</th>\n",
       "      <td>16.600315</td>\n",
       "      <td>17.220332</td>\n",
       "    </tr>\n",
       "    <tr>\n",
       "      <th>std</th>\n",
       "      <td>10.824953</td>\n",
       "      <td>19.975715</td>\n",
       "    </tr>\n",
       "    <tr>\n",
       "      <th>min</th>\n",
       "      <td>0.000000</td>\n",
       "      <td>-9452.538800</td>\n",
       "    </tr>\n",
       "    <tr>\n",
       "      <th>25%</th>\n",
       "      <td>7.447736</td>\n",
       "      <td>7.830178</td>\n",
       "    </tr>\n",
       "    <tr>\n",
       "      <th>50%</th>\n",
       "      <td>15.495611</td>\n",
       "      <td>16.087361</td>\n",
       "    </tr>\n",
       "    <tr>\n",
       "      <th>75%</th>\n",
       "      <td>24.637432</td>\n",
       "      <td>25.324173</td>\n",
       "    </tr>\n",
       "    <tr>\n",
       "      <th>max</th>\n",
       "      <td>62.111141</td>\n",
       "      <td>1621.421135</td>\n",
       "    </tr>\n",
       "  </tbody>\n",
       "</table>\n",
       "</div>"
      ],
      "text/plain": [
       "       estimated_accrued_interest  trace_accrued_interest\n",
       "count               683615.000000           683615.000000\n",
       "mean                    16.600315               17.220332\n",
       "std                     10.824953               19.975715\n",
       "min                      0.000000            -9452.538800\n",
       "25%                      7.447736                7.830178\n",
       "50%                     15.495611               16.087361\n",
       "75%                     24.637432               25.324173\n",
       "max                     62.111141             1621.421135"
      ]
     },
     "execution_count": 39,
     "metadata": {},
     "output_type": "execute_result"
    }
   ],
   "source": [
    "daily_bullet_df[[\"estimated_accrued_interest\", \"trace_accrued_interest\"]].describe()"
   ]
  },
  {
   "cell_type": "code",
   "execution_count": 40,
   "id": "2ac4f592-7175-4d4b-b7a0-8cecb7d73c9a",
   "metadata": {},
   "outputs": [
    {
     "data": {
      "text/html": [
       "<div>\n",
       "<style scoped>\n",
       "    .dataframe tbody tr th:only-of-type {\n",
       "        vertical-align: middle;\n",
       "    }\n",
       "\n",
       "    .dataframe tbody tr th {\n",
       "        vertical-align: top;\n",
       "    }\n",
       "\n",
       "    .dataframe thead th {\n",
       "        text-align: right;\n",
       "    }\n",
       "</style>\n",
       "<table border=\"1\" class=\"dataframe\">\n",
       "  <thead>\n",
       "    <tr style=\"text-align: right;\">\n",
       "      <th></th>\n",
       "      <th>estimated_yield</th>\n",
       "      <th>trace_yield</th>\n",
       "    </tr>\n",
       "  </thead>\n",
       "  <tbody>\n",
       "    <tr>\n",
       "      <th>count</th>\n",
       "      <td>683615.000000</td>\n",
       "      <td>683615.000000</td>\n",
       "    </tr>\n",
       "    <tr>\n",
       "      <th>mean</th>\n",
       "      <td>5.714996</td>\n",
       "      <td>5.888962</td>\n",
       "    </tr>\n",
       "    <tr>\n",
       "      <th>std</th>\n",
       "      <td>12.859547</td>\n",
       "      <td>130.248032</td>\n",
       "    </tr>\n",
       "    <tr>\n",
       "      <th>min</th>\n",
       "      <td>0.000106</td>\n",
       "      <td>0.000105</td>\n",
       "    </tr>\n",
       "    <tr>\n",
       "      <th>25%</th>\n",
       "      <td>3.546887</td>\n",
       "      <td>3.524002</td>\n",
       "    </tr>\n",
       "    <tr>\n",
       "      <th>50%</th>\n",
       "      <td>5.016834</td>\n",
       "      <td>5.001000</td>\n",
       "    </tr>\n",
       "    <tr>\n",
       "      <th>75%</th>\n",
       "      <td>6.297556</td>\n",
       "      <td>6.278024</td>\n",
       "    </tr>\n",
       "    <tr>\n",
       "      <th>max</th>\n",
       "      <td>8372.951695</td>\n",
       "      <td>99999.992188</td>\n",
       "    </tr>\n",
       "  </tbody>\n",
       "</table>\n",
       "</div>"
      ],
      "text/plain": [
       "       estimated_yield    trace_yield\n",
       "count    683615.000000  683615.000000\n",
       "mean          5.714996       5.888962\n",
       "std          12.859547     130.248032\n",
       "min           0.000106       0.000105\n",
       "25%           3.546887       3.524002\n",
       "50%           5.016834       5.001000\n",
       "75%           6.297556       6.278024\n",
       "max        8372.951695   99999.992188"
      ]
     },
     "execution_count": 40,
     "metadata": {},
     "output_type": "execute_result"
    }
   ],
   "source": [
    "daily_bullet_df[[\"estimated_yield\", \"trace_yield\"]].describe()"
   ]
  },
  {
   "cell_type": "markdown",
   "id": "a3d5fea7-7ef5-491d-9b95-106f501ebd79",
   "metadata": {},
   "source": [
    "#### Evaluating Data Points That Caused Root Scalar Solver to Fail"
   ]
  },
  {
   "cell_type": "code",
   "execution_count": 41,
   "id": "95e0d782-d148-4401-b12f-a6b2828e04b8",
   "metadata": {},
   "outputs": [
    {
     "name": "stdout",
     "output_type": "stream",
     "text": [
      "Error Fraction of Sample: 0.0004\n"
     ]
    }
   ],
   "source": [
    "#obtain DataFrames of data points that failed or succeeded with the root scalar solver\n",
    "fail_id_set = set(zip(rs_fail_id_complete_cusips, pd.to_datetime(rs_fail_id_asof_dates)))\n",
    "\n",
    "rs_fail_mask = daily_bullet_df.apply(\n",
    "    lambda row: (row[\"complete_cusip\"], row[\"trd_exctn_dt_tm_capped\"]) in fail_id_set,\n",
    "    axis=1\n",
    ")\n",
    "rs_fail_df = daily_bullet_df[rs_fail_mask].reset_index(drop = True)\n",
    "rs_success_df = daily_bullet_df[~rs_fail_mask].reset_index(drop = True)\n",
    "\n",
    "print(f\"Error Fraction of Sample: {len(rs_fail_df) / len(daily_bullet_df):.4f}\")"
   ]
  },
  {
   "cell_type": "code",
   "execution_count": 42,
   "id": "8514a718-ab8e-458f-9d09-521a747ce03e",
   "metadata": {},
   "outputs": [],
   "source": [
    "#get 5 random exmaples of data points for which the root scalar solver failed\n",
    "random_fail_idx = list(np.random.randint(0,len(rs_fail_df),size=5))\n",
    "fail_ex1 = rs_fail_df.iloc[random_fail_idx[0]]\n",
    "fail_ex2 = rs_fail_df.iloc[random_fail_idx[1]]\n",
    "fail_ex3 = rs_fail_df.iloc[random_fail_idx[2]]\n",
    "fail_ex4 = rs_fail_df.iloc[random_fail_idx[3]]\n",
    "fail_ex5 = rs_fail_df.iloc[random_fail_idx[4]]"
   ]
  },
  {
   "cell_type": "code",
   "execution_count": 43,
   "id": "3a80a2f7-5dbd-4997-8a49-8770fdb46cd2",
   "metadata": {},
   "outputs": [],
   "source": [
    "#get 5 random exmaples of data points for which the root scalar solver succeeded\n",
    "random_success_idx = list(np.random.randint(0,len(rs_success_df),size=5))\n",
    "success_ex1 = rs_success_df.iloc[random_success_idx[0]]\n",
    "success_ex2 = rs_success_df.iloc[random_success_idx[1]]\n",
    "success_ex3 = rs_success_df.iloc[random_success_idx[2]]\n",
    "success_ex4 = rs_success_df.iloc[random_success_idx[3]]\n",
    "success_ex5 = rs_success_df.iloc[random_success_idx[4]]"
   ]
  },
  {
   "cell_type": "markdown",
   "id": "f7e26724-f24b-48b4-8176-788121c76c34",
   "metadata": {},
   "source": [
    "##### Root Scalar Failure Examples"
   ]
  },
  {
   "cell_type": "code",
   "execution_count": 44,
   "id": "aebd0af4-4622-4633-b1db-d9fd41e141bf",
   "metadata": {},
   "outputs": [
    {
     "data": {
      "image/png": "[encoded data removed]",
      "text/plain": [
       "<Figure size 600x400 with 1 Axes>"
      ]
     },
     "metadata": {},
     "output_type": "display_data"
    },
    {
     "data": {
      "image/png": "[encoded data removed]",
      "text/plain": [
       "<Figure size 600x400 with 1 Axes>"
      ]
     },
     "metadata": {},
     "output_type": "display_data"
    },
    {
     "data": {
      "image/png": "[encoded data removed]",
      "text/plain": [
       "<Figure size 600x400 with 1 Axes>"
      ]
     },
     "metadata": {},
     "output_type": "display_data"
    },
    {
     "data": {
      "image/png": "[encoded data removed]",
      "text/plain": [
       "<Figure size 600x400 with 1 Axes>"
      ]
     },
     "metadata": {},
     "output_type": "display_data"
    },
    {
     "data": {
      "image/png": "[encoded data removed]",
      "text/plain": [
       "<Figure size 600x400 with 1 Axes>"
      ]
     },
     "metadata": {},
     "output_type": "display_data"
    }
   ],
   "source": [
    "plotTargetPriceVSolvedPrices(fail_ex1, \"estimated_dirty_price\")\n",
    "plotTargetPriceVSolvedPrices(fail_ex2, \"estimated_dirty_price\")\n",
    "plotTargetPriceVSolvedPrices(fail_ex3, \"estimated_dirty_price\")\n",
    "plotTargetPriceVSolvedPrices(fail_ex4, \"estimated_dirty_price\")\n",
    "plotTargetPriceVSolvedPrices(fail_ex5, \"estimated_dirty_price\")"
   ]
  },
  {
   "cell_type": "markdown",
   "id": "9a882eec-a685-4a41-9cba-c3ca46318a3d",
   "metadata": {},
   "source": [
    "##### Root Scalar Success Examples"
   ]
  },
  {
   "cell_type": "code",
   "execution_count": 45,
   "id": "95deb2d9-7348-42ee-81c7-6a35f4009746",
   "metadata": {},
   "outputs": [
    {
     "data": {
      "image/png": "[encoded data removed]",
      "text/plain": [
       "<Figure size 600x400 with 1 Axes>"
      ]
     },
     "metadata": {},
     "output_type": "display_data"
    },
    {
     "data": {
      "image/png": "[encoded data removed]",
      "text/plain": [
       "<Figure size 600x400 with 1 Axes>"
      ]
     },
     "metadata": {},
     "output_type": "display_data"
    },
    {
     "data": {
      "image/png": "[encoded data removed]",
      "text/plain": [
       "<Figure size 600x400 with 1 Axes>"
      ]
     },
     "metadata": {},
     "output_type": "display_data"
    },
    {
     "data": {
      "image/png": "[encoded data removed]",
      "text/plain": [
       "<Figure size 600x400 with 1 Axes>"
      ]
     },
     "metadata": {},
     "output_type": "display_data"
    },
    {
     "data": {
      "image/png": "[encoded data removed]",
      "text/plain": [
       "<Figure size 600x400 with 1 Axes>"
      ]
     },
     "metadata": {},
     "output_type": "display_data"
    }
   ],
   "source": [
    "plotTargetPriceVSolvedPrices(success_ex1, \"estimated_dirty_price\")\n",
    "plotTargetPriceVSolvedPrices(success_ex2, \"estimated_dirty_price\")\n",
    "plotTargetPriceVSolvedPrices(success_ex3, \"estimated_dirty_price\")\n",
    "plotTargetPriceVSolvedPrices(success_ex4, \"estimated_dirty_price\")\n",
    "plotTargetPriceVSolvedPrices(success_ex5, \"estimated_dirty_price\")"
   ]
  },
  {
   "cell_type": "markdown",
   "id": "04a3a0c2-75cb-40b5-9d56-9b51ba96b40d",
   "metadata": {},
   "source": [
    "##### Root Scalar Failure Data Point Characteristics"
   ]
  },
  {
   "cell_type": "code",
   "execution_count": 46,
   "id": "405cdfa1-be43-44fc-bc5c-7708f33d8dc9",
   "metadata": {},
   "outputs": [
    {
     "data": {
      "text/plain": [
       "defaulted  denomination  cusip_name                   \n",
       "N          1/1           INTERDIGITAL INC                 211\n",
       "                         MAXEON SOLAR TECHNOLOGIES INC     41\n",
       "                         JOHNSON & JOHNSON                 24\n",
       "                         CENTURY COMMUNICATIONS CORP        5\n",
       "                         INTERNATIONAL LEASE FIN CORP       2\n",
       "                         VIACOM INC                         2\n",
       "           2/1           3M CO                              2\n",
       "           1/1           GTE CORP                           1\n",
       "                         GANNETT CO INC                     1\n",
       "                         EMERSON ELEC CO                    1\n",
       "                         DOW CHEM CO                        1\n",
       "                         COCA COLA CO                       1\n",
       "                         TEXTRON FINL CORP                  1\n",
       "                         UNITED DOMINION RLTY TR INC        1\n",
       "                         WALMART INC                        1\n",
       "Name: count, dtype: int64"
      ]
     },
     "execution_count": 46,
     "metadata": {},
     "output_type": "execute_result"
    }
   ],
   "source": [
    "rs_fail_df[[\"defaulted\", \"denomination\", \"cusip_name\"]].value_counts()"
   ]
  },
  {
   "cell_type": "code",
   "execution_count": 47,
   "id": "a11a83dc-5236-4455-b366-132962bdebc8",
   "metadata": {},
   "outputs": [
    {
     "data": {
      "text/plain": [
       "1"
      ]
     },
     "execution_count": 47,
     "metadata": {},
     "output_type": "execute_result"
    }
   ],
   "source": [
    "len(rs_fail_df[rs_fail_df[\"trd_exctn_dt_tm\"].dt.hour > 16])"
   ]
  },
  {
   "cell_type": "code",
   "execution_count": 48,
   "id": "2231b39c-5f8d-484d-a020-8fc69171a552",
   "metadata": {},
   "outputs": [
    {
     "data": {
      "text/plain": [
       "3"
      ]
     },
     "execution_count": 48,
     "metadata": {},
     "output_type": "execute_result"
    }
   ],
   "source": [
    "len(rs_fail_df[rs_fail_df[\"trd_exctn_dt_tm\"].dt.hour < 9])"
   ]
  },
  {
   "cell_type": "markdown",
   "id": "57631a9f-bc1c-4eec-be04-8851fad27a9a",
   "metadata": {},
   "source": [
    "### Re-Estimated (with Linear Accrual of Interest) Accrued Interest, Dirty Price, and Yield Calculations"
   ]
  },
  {
   "cell_type": "code",
   "execution_count": 49,
   "id": "594fe208-1263-49d2-8eba-f9c11499069d",
   "metadata": {},
   "outputs": [
    {
     "name": "stdout",
     "output_type": "stream",
     "text": [
      "Re-Estimated Accrued Interest Calculation Time: 20.55 seconds\n",
      "Re-Estimated Dirty Price Calculation Time: 0.00 seconds\n",
      "Re-Estimated Yield Calculation Time: 431.79 seconds\n"
     ]
    }
   ],
   "source": [
    "#re-estimated accrued interest calculation and time tracking\n",
    "re_est_acc_int_start = time.time()\n",
    "\n",
    "daily_bullet_df[\"re-estimated_accrued_interest\"] = daily_bullet_df.apply(\n",
    "    lambda row: calcAccruedInterestLinear(\n",
    "        row[\"coupon\"],\n",
    "        2,\n",
    "        row[\"principal_amt\"],\n",
    "        row[\"dated_date\"],\n",
    "        row[\"trd_exctn_dt_tm_capped\"],\n",
    "        row[\"complete_cusip\"],\n",
    "        payment_schedule_dict\n",
    "    ),\n",
    "    axis=1\n",
    ")\n",
    "\n",
    "re_est_acc_int_end = time.time()\n",
    "\n",
    "#re-estimated dirty price calculation and time tracking\n",
    "re_est_d_price_start = time.time()\n",
    "\n",
    "daily_bullet_df.loc[:,\"re-estimated_dirty_price\"] = daily_bullet_df[\"clean_price\"] + daily_bullet_df[\"re-estimated_accrued_interest\"]\n",
    "\n",
    "re_est_d_price_end = time.time()\n",
    "\n",
    "#re-estimated yield calculation and time tracking\n",
    "re_est_yield_start = time.time()\n",
    "#lists to track which (complete_cusip, asof_date) pairs cause root_scalar or minimize_scalar solvers to fail, with linear accrual of interest\n",
    "rs_fail_id_list_2 = []\n",
    "ms_fail_id_list_2 = []\n",
    "\n",
    "#estimating yield using estimated_dirty_price, with linear accrual of interest\n",
    "daily_bullet_df[\"re-estimated_yield\"] = daily_bullet_df.apply(\n",
    "    lambda row: bulletBondYieldExtractor(\n",
    "        row[\"re-estimated_dirty_price\"],\n",
    "        row[\"coupon\"],\n",
    "        2,\n",
    "        row[\"principal_amt\"],\n",
    "        row[\"trd_exctn_dt_tm_capped\"],\n",
    "        row[\"complete_cusip\"],\n",
    "        payment_schedule_dict,\n",
    "        rs_fail_id_list_2,\n",
    "        ms_fail_id_list_2\n",
    "    ),\n",
    "    axis=1\n",
    ")\n",
    "\n",
    "#creating pd.Series of complete cusips and asof dates that fail either solver, with linear accrual of interest, for further analysis\n",
    "if len(rs_fail_id_list_2) > 0:\n",
    "    rs_fail_id_complete_cusips_2, rs_fail_id_asof_dates_2 = zip(*rs_fail_id_list_2)\n",
    "    rs_fail_id_complete_cusips_2 = pd.Series(rs_fail_id_complete_cusips_2)\n",
    "    rs_fail_id_asof_dates_2 = pd.Series(rs_fail_id_asof_dates_2)\n",
    "\n",
    "if len(ms_fail_id_list_2) > 0:\n",
    "    ms_fail_id_complete_cusips_2, ms_fail_id_asof_dates_2 = zip(*ms_fail_id_list_2)\n",
    "    ms_fail_id_complete_cusips_2 = pd.Series(ms_fail_id_complete_cusips_2)\n",
    "    ms_fail_id_asof_dates_2 = pd.Series(ms_fail_id_asof_dates_2)\n",
    "\n",
    "re_est_yield_end = time.time()\n",
    "\n",
    "print(f\"Re-Estimated Accrued Interest Calculation Time: {re_est_acc_int_end - re_est_acc_int_start:.2f} seconds\")\n",
    "print(f\"Re-Estimated Dirty Price Calculation Time: {re_est_d_price_end - re_est_d_price_start:.2f} seconds\")\n",
    "print(f\"Re-Estimated Yield Calculation Time: {re_est_yield_end - re_est_yield_start:.2f} seconds\")"
   ]
  },
  {
   "cell_type": "markdown",
   "id": "a5263d9a-60d9-495c-9cf9-79a892e8bbfb",
   "metadata": {},
   "source": [
    "### Comparing Re-Estimates with TRACE Implied Values"
   ]
  },
  {
   "cell_type": "code",
   "execution_count": 50,
   "id": "fcac73fd-84be-4697-810d-662f1d33a41f",
   "metadata": {},
   "outputs": [
    {
     "name": "stdout",
     "output_type": "stream",
     "text": [
      "(Linear Accrual) Dirty Price Mean Absolute Error: $0.88\n",
      "(Linear Accrual) Dirty Price Median Absolute Error: $0.18\n",
      "(Linear Accrual) Accrued Interest Mean Absolute Error: $0.88\n",
      "(Linear Accrual) Accrued Interest Median Absolute Error: $0.18\n",
      "(Linear Accrual) Yield Mean Absolute Error: 27.00 bps\n",
      "(Linear Accrual) Yield Median Absolute Error: 0.35 bps\n"
     ]
    }
   ],
   "source": [
    "dirty_price_mean_abs_error_2 = np.abs(daily_bullet_df[\"re-estimated_dirty_price\"] - daily_bullet_df[\"trace_dirty_price\"]).mean()\n",
    "dirty_price_median_abs_error_2 = np.abs(daily_bullet_df[\"re-estimated_dirty_price\"] - daily_bullet_df[\"trace_dirty_price\"]).median()\n",
    "accrued_interest_mean_abs_error_2 = np.abs(daily_bullet_df[\"re-estimated_accrued_interest\"] - daily_bullet_df[\"trace_accrued_interest\"]).mean()\n",
    "accrued_interest_median_abs_error_2 = np.abs(daily_bullet_df[\"re-estimated_accrued_interest\"] - daily_bullet_df[\"trace_accrued_interest\"]).median()\n",
    "yield_mean_abs_error_2 = np.abs(daily_bullet_df[\"re-estimated_yield\"] - daily_bullet_df[\"trace_yield\"]).mean()\n",
    "yield_median_abs_error_2 = np.abs(daily_bullet_df[\"re-estimated_yield\"] - daily_bullet_df[\"trace_yield\"]).median()\n",
    "print(f\"(Linear Accrual) Dirty Price Mean Absolute Error: ${dirty_price_mean_abs_error_2:.2f}\")\n",
    "print(f\"(Linear Accrual) Dirty Price Median Absolute Error: ${dirty_price_median_abs_error_2:.2f}\")\n",
    "print(f\"(Linear Accrual) Accrued Interest Mean Absolute Error: ${accrued_interest_mean_abs_error_2:.2f}\")\n",
    "print(f\"(Linear Accrual) Accrued Interest Median Absolute Error: ${accrued_interest_median_abs_error_2:.2f}\")\n",
    "print(f\"(Linear Accrual) Yield Mean Absolute Error: {yield_mean_abs_error_2*100:.2f} bps\")\n",
    "print(f\"(Linear Accrual) Yield Median Absolute Error: {yield_median_abs_error_2*100:.2f} bps\")"
   ]
  },
  {
   "cell_type": "code",
   "execution_count": 51,
   "id": "e343ce40-baa2-4b56-be72-c5a2769a3f2c",
   "metadata": {},
   "outputs": [
    {
     "name": "stdout",
     "output_type": "stream",
     "text": [
      "(Linear Accrual) Num data points that failed root scalar solver: 295\n",
      "(Linear Accrual) Num data points that failed minimize scalar solver (no yield extracted): 0\n"
     ]
    }
   ],
   "source": [
    "print(f\"(Linear Accrual) Num data points that failed root scalar solver: {len(rs_fail_id_list_2)}\")\n",
    "print(f\"(Linear Accrual) Num data points that failed minimize scalar solver (no yield extracted): {len(ms_fail_id_list_2)}\")"
   ]
  },
  {
   "cell_type": "code",
   "execution_count": 52,
   "id": "39cd9cca-b377-40ab-a1e0-dc13957dad64",
   "metadata": {},
   "outputs": [
    {
     "data": {
      "text/html": [
       "<div>\n",
       "<style scoped>\n",
       "    .dataframe tbody tr th:only-of-type {\n",
       "        vertical-align: middle;\n",
       "    }\n",
       "\n",
       "    .dataframe tbody tr th {\n",
       "        vertical-align: top;\n",
       "    }\n",
       "\n",
       "    .dataframe thead th {\n",
       "        text-align: right;\n",
       "    }\n",
       "</style>\n",
       "<table border=\"1\" class=\"dataframe\">\n",
       "  <thead>\n",
       "    <tr style=\"text-align: right;\">\n",
       "      <th></th>\n",
       "      <th>re-estimated_dirty_price</th>\n",
       "      <th>trace_dirty_price</th>\n",
       "    </tr>\n",
       "  </thead>\n",
       "  <tbody>\n",
       "    <tr>\n",
       "      <th>count</th>\n",
       "      <td>683615.000000</td>\n",
       "      <td>683615.000000</td>\n",
       "    </tr>\n",
       "    <tr>\n",
       "      <th>mean</th>\n",
       "      <td>1084.287392</td>\n",
       "      <td>1084.811318</td>\n",
       "    </tr>\n",
       "    <tr>\n",
       "      <th>std</th>\n",
       "      <td>159.618036</td>\n",
       "      <td>159.187209</td>\n",
       "    </tr>\n",
       "    <tr>\n",
       "      <th>min</th>\n",
       "      <td>10.000000</td>\n",
       "      <td>3.028426</td>\n",
       "    </tr>\n",
       "    <tr>\n",
       "      <th>25%</th>\n",
       "      <td>1016.197708</td>\n",
       "      <td>1016.737472</td>\n",
       "    </tr>\n",
       "    <tr>\n",
       "      <th>50%</th>\n",
       "      <td>1078.000875</td>\n",
       "      <td>1078.670914</td>\n",
       "    </tr>\n",
       "    <tr>\n",
       "      <th>75%</th>\n",
       "      <td>1165.221881</td>\n",
       "      <td>1165.632989</td>\n",
       "    </tr>\n",
       "    <tr>\n",
       "      <th>max</th>\n",
       "      <td>10567.241750</td>\n",
       "      <td>2424.169706</td>\n",
       "    </tr>\n",
       "  </tbody>\n",
       "</table>\n",
       "</div>"
      ],
      "text/plain": [
       "       re-estimated_dirty_price  trace_dirty_price\n",
       "count             683615.000000      683615.000000\n",
       "mean                1084.287392        1084.811318\n",
       "std                  159.618036         159.187209\n",
       "min                   10.000000           3.028426\n",
       "25%                 1016.197708        1016.737472\n",
       "50%                 1078.000875        1078.670914\n",
       "75%                 1165.221881        1165.632989\n",
       "max                10567.241750        2424.169706"
      ]
     },
     "execution_count": 52,
     "metadata": {},
     "output_type": "execute_result"
    }
   ],
   "source": [
    "daily_bullet_df[[\"re-estimated_dirty_price\", \"trace_dirty_price\"]].describe()"
   ]
  },
  {
   "cell_type": "code",
   "execution_count": 53,
   "id": "26e53e2c-efd6-4ec9-af07-4221c0a41d49",
   "metadata": {},
   "outputs": [
    {
     "data": {
      "text/html": [
       "<div>\n",
       "<style scoped>\n",
       "    .dataframe tbody tr th:only-of-type {\n",
       "        vertical-align: middle;\n",
       "    }\n",
       "\n",
       "    .dataframe tbody tr th {\n",
       "        vertical-align: top;\n",
       "    }\n",
       "\n",
       "    .dataframe thead th {\n",
       "        text-align: right;\n",
       "    }\n",
       "</style>\n",
       "<table border=\"1\" class=\"dataframe\">\n",
       "  <thead>\n",
       "    <tr style=\"text-align: right;\">\n",
       "      <th></th>\n",
       "      <th>re-estimated_accrued_interest</th>\n",
       "      <th>trace_accrued_interest</th>\n",
       "    </tr>\n",
       "  </thead>\n",
       "  <tbody>\n",
       "    <tr>\n",
       "      <th>count</th>\n",
       "      <td>683615.000000</td>\n",
       "      <td>683615.000000</td>\n",
       "    </tr>\n",
       "    <tr>\n",
       "      <th>mean</th>\n",
       "      <td>16.696407</td>\n",
       "      <td>17.220332</td>\n",
       "    </tr>\n",
       "    <tr>\n",
       "      <th>std</th>\n",
       "      <td>10.842049</td>\n",
       "      <td>19.975715</td>\n",
       "    </tr>\n",
       "    <tr>\n",
       "      <th>min</th>\n",
       "      <td>0.000000</td>\n",
       "      <td>-9452.538800</td>\n",
       "    </tr>\n",
       "    <tr>\n",
       "      <th>25%</th>\n",
       "      <td>7.534722</td>\n",
       "      <td>7.830178</td>\n",
       "    </tr>\n",
       "    <tr>\n",
       "      <th>50%</th>\n",
       "      <td>15.634684</td>\n",
       "      <td>16.087361</td>\n",
       "    </tr>\n",
       "    <tr>\n",
       "      <th>75%</th>\n",
       "      <td>24.754430</td>\n",
       "      <td>25.324173</td>\n",
       "    </tr>\n",
       "    <tr>\n",
       "      <th>max</th>\n",
       "      <td>62.104167</td>\n",
       "      <td>1621.421135</td>\n",
       "    </tr>\n",
       "  </tbody>\n",
       "</table>\n",
       "</div>"
      ],
      "text/plain": [
       "       re-estimated_accrued_interest  trace_accrued_interest\n",
       "count                  683615.000000           683615.000000\n",
       "mean                       16.696407               17.220332\n",
       "std                        10.842049               19.975715\n",
       "min                         0.000000            -9452.538800\n",
       "25%                         7.534722                7.830178\n",
       "50%                        15.634684               16.087361\n",
       "75%                        24.754430               25.324173\n",
       "max                        62.104167             1621.421135"
      ]
     },
     "execution_count": 53,
     "metadata": {},
     "output_type": "execute_result"
    }
   ],
   "source": [
    "daily_bullet_df[[\"re-estimated_accrued_interest\", \"trace_accrued_interest\"]].describe()"
   ]
  },
  {
   "cell_type": "code",
   "execution_count": 54,
   "id": "75ccba6b-abd2-4f02-9a6e-ca6cba7b4900",
   "metadata": {},
   "outputs": [
    {
     "data": {
      "text/html": [
       "<div>\n",
       "<style scoped>\n",
       "    .dataframe tbody tr th:only-of-type {\n",
       "        vertical-align: middle;\n",
       "    }\n",
       "\n",
       "    .dataframe tbody tr th {\n",
       "        vertical-align: top;\n",
       "    }\n",
       "\n",
       "    .dataframe thead th {\n",
       "        text-align: right;\n",
       "    }\n",
       "</style>\n",
       "<table border=\"1\" class=\"dataframe\">\n",
       "  <thead>\n",
       "    <tr style=\"text-align: right;\">\n",
       "      <th></th>\n",
       "      <th>re-estimated_yield</th>\n",
       "      <th>trace_yield</th>\n",
       "    </tr>\n",
       "  </thead>\n",
       "  <tbody>\n",
       "    <tr>\n",
       "      <th>count</th>\n",
       "      <td>683615.000000</td>\n",
       "      <td>683615.000000</td>\n",
       "    </tr>\n",
       "    <tr>\n",
       "      <th>mean</th>\n",
       "      <td>5.711908</td>\n",
       "      <td>5.888962</td>\n",
       "    </tr>\n",
       "    <tr>\n",
       "      <th>std</th>\n",
       "      <td>12.789339</td>\n",
       "      <td>130.248032</td>\n",
       "    </tr>\n",
       "    <tr>\n",
       "      <th>min</th>\n",
       "      <td>0.000106</td>\n",
       "      <td>0.000105</td>\n",
       "    </tr>\n",
       "    <tr>\n",
       "      <th>25%</th>\n",
       "      <td>3.544537</td>\n",
       "      <td>3.524002</td>\n",
       "    </tr>\n",
       "    <tr>\n",
       "      <th>50%</th>\n",
       "      <td>5.014451</td>\n",
       "      <td>5.001000</td>\n",
       "    </tr>\n",
       "    <tr>\n",
       "      <th>75%</th>\n",
       "      <td>6.295354</td>\n",
       "      <td>6.278024</td>\n",
       "    </tr>\n",
       "    <tr>\n",
       "      <th>max</th>\n",
       "      <td>8323.881818</td>\n",
       "      <td>99999.992188</td>\n",
       "    </tr>\n",
       "  </tbody>\n",
       "</table>\n",
       "</div>"
      ],
      "text/plain": [
       "       re-estimated_yield    trace_yield\n",
       "count       683615.000000  683615.000000\n",
       "mean             5.711908       5.888962\n",
       "std             12.789339     130.248032\n",
       "min              0.000106       0.000105\n",
       "25%              3.544537       3.524002\n",
       "50%              5.014451       5.001000\n",
       "75%              6.295354       6.278024\n",
       "max           8323.881818   99999.992188"
      ]
     },
     "execution_count": 54,
     "metadata": {},
     "output_type": "execute_result"
    }
   ],
   "source": [
    "daily_bullet_df[[\"re-estimated_yield\", \"trace_yield\"]].describe()"
   ]
  },
  {
   "cell_type": "markdown",
   "id": "e051fd57-dfb1-4670-9f34-606b94f6f47b",
   "metadata": {},
   "source": [
    "#### Evaluating Data Points (Using Linear Accrual) That Caused Root Scalar Solver to Fail"
   ]
  },
  {
   "cell_type": "code",
   "execution_count": 55,
   "id": "7ad27999-360e-436f-8bad-99b6809d3336",
   "metadata": {},
   "outputs": [
    {
     "name": "stdout",
     "output_type": "stream",
     "text": [
      "Error Fraction of Sample: 0.0004\n"
     ]
    }
   ],
   "source": [
    "#obtain DataFrames of data points that failed or succeeded with the root scalar solver with re-estimated prices\n",
    "fail_id_set_2 = set(zip(rs_fail_id_complete_cusips_2, pd.to_datetime(rs_fail_id_asof_dates_2)))\n",
    "\n",
    "rs_fail_mask_2 = daily_bullet_df.apply(\n",
    "    lambda row: (row[\"complete_cusip\"], row[\"trd_exctn_dt_tm_capped\"]) in fail_id_set_2,\n",
    "    axis=1\n",
    ")\n",
    "rs_fail_df_2 = daily_bullet_df[rs_fail_mask_2].reset_index(drop = True)\n",
    "rs_success_df_2 = daily_bullet_df[~rs_fail_mask_2].reset_index(drop = True)\n",
    "\n",
    "print(f\"Error Fraction of Sample: {len(rs_fail_df_2) / len(daily_bullet_df):.4f}\")"
   ]
  },
  {
   "cell_type": "code",
   "execution_count": 56,
   "id": "32b87e44-91ac-4f5f-9d9a-fdc2fe494557",
   "metadata": {},
   "outputs": [
    {
     "data": {
      "text/plain": [
       "False"
      ]
     },
     "execution_count": 56,
     "metadata": {},
     "output_type": "execute_result"
    }
   ],
   "source": [
    "#check whether all failed data points in previous case were the same ones to fail in this case\n",
    "rs_fail_df.equals(rs_fail_df_2)"
   ]
  },
  {
   "cell_type": "code",
   "execution_count": 70,
   "id": "ba7dba15-4d09-4085-be42-8f746ff743d7",
   "metadata": {},
   "outputs": [],
   "source": [
    "#get 5 random exmaples of data points for which the root scalar solver succeeded\n",
    "random_success_idx_2 = list(np.random.randint(0,len(rs_success_df_2),size=5))\n",
    "success_ex1_2 = rs_success_df_2.iloc[random_success_idx_2[0]]\n",
    "success_ex2_2 = rs_success_df_2.iloc[random_success_idx_2[1]]\n",
    "success_ex3_2 = rs_success_df_2.iloc[random_success_idx_2[2]]\n",
    "success_ex4_2 = rs_success_df_2.iloc[random_success_idx_2[3]]\n",
    "success_ex5_2 = rs_success_df_2.iloc[random_success_idx_2[4]]"
   ]
  },
  {
   "cell_type": "markdown",
   "id": "9c8fca24-d561-4864-8134-8c5b4f875ced",
   "metadata": {},
   "source": [
    "##### Root Scalar Success Examples 2"
   ]
  },
  {
   "cell_type": "code",
   "execution_count": 71,
   "id": "4b6dba32-20ae-4768-aca2-a721013842e2",
   "metadata": {},
   "outputs": [
    {
     "data": {
      "image/png": "[encoded data removed]",
      "text/plain": [
       "<Figure size 600x400 with 1 Axes>"
      ]
     },
     "metadata": {},
     "output_type": "display_data"
    },
    {
     "data": {
      "image/png": "[encoded data removed]",
      "text/plain": [
       "<Figure size 600x400 with 1 Axes>"
      ]
     },
     "metadata": {},
     "output_type": "display_data"
    },
    {
     "data": {
      "image/png": "[encoded data removed]",
      "text/plain": [
       "<Figure size 600x400 with 1 Axes>"
      ]
     },
     "metadata": {},
     "output_type": "display_data"
    },
    {
     "data": {
      "image/png": "[encoded data removed]",
      "text/plain": [
       "<Figure size 600x400 with 1 Axes>"
      ]
     },
     "metadata": {},
     "output_type": "display_data"
    },
    {
     "data": {
      "image/png": "[encoded data removed]",
      "text/plain": [
       "<Figure size 600x400 with 1 Axes>"
      ]
     },
     "metadata": {},
     "output_type": "display_data"
    }
   ],
   "source": [
    "plotTargetPriceVSolvedPrices(success_ex1_2, \"re-estimated_dirty_price\")\n",
    "plotTargetPriceVSolvedPrices(success_ex2_2, \"re-estimated_dirty_price\")\n",
    "plotTargetPriceVSolvedPrices(success_ex3_2, \"re-estimated_dirty_price\")\n",
    "plotTargetPriceVSolvedPrices(success_ex4_2, \"re-estimated_dirty_price\")\n",
    "plotTargetPriceVSolvedPrices(success_ex5_2, \"re-estimated_dirty_price\")"
   ]
  },
  {
   "cell_type": "markdown",
   "id": "3b963dcf-1cdc-49d5-8c1e-484fcf148b94",
   "metadata": {},
   "source": [
    "### Calculating Duration-Matched Treasury Price"
   ]
  },
  {
   "cell_type": "code",
   "execution_count": 60,
   "id": "9e26c273-4a4a-481c-b193-b3774931c75e",
   "metadata": {},
   "outputs": [
    {
     "name": "stdout",
     "output_type": "stream",
     "text": [
      "Duration-Matched Treasury Price Calculation Time: 485.94 seconds\n"
     ]
    }
   ],
   "source": [
    "#duration-matched treasury price calculation and time tracking\n",
    "durm_price_start = time.time()\n",
    "\n",
    "daily_bullet_df[\"durm_trsy_price\"] = daily_bullet_df.apply(\n",
    "    lambda row: durationMatchedTreasuryPrice(\n",
    "        row[\"coupon\"],\n",
    "        2,\n",
    "        row[\"principal_amt\"],\n",
    "        row[\"trd_exctn_dt_tm_capped\"],\n",
    "        row[\"beta0\"],\n",
    "        row[\"beta1\"],\n",
    "        row[\"beta2\"],\n",
    "        row[\"beta3\"],\n",
    "        row[\"tau1\"],\n",
    "        row[\"tau2\"],\n",
    "        row[\"complete_cusip\"],\n",
    "        payment_schedule_dict\n",
    "    ),\n",
    "    axis=1\n",
    ")\n",
    "\n",
    "durm_price_end = time.time()\n",
    "\n",
    "print(f\"Duration-Matched Treasury Price Calculation Time: {durm_price_end - durm_price_start:.2f} seconds\")"
   ]
  },
  {
   "cell_type": "code",
   "execution_count": 61,
   "id": "ffb04cf8-6992-4fb1-b280-e5aa613f1c65",
   "metadata": {},
   "outputs": [
    {
     "data": {
      "text/plain": [
       "count    683051.000000\n",
       "mean       1252.143506\n",
       "std         197.162834\n",
       "min         793.565081\n",
       "25%        1095.068741\n",
       "50%        1209.024617\n",
       "75%        1378.938151\n",
       "max        3123.651345\n",
       "Name: durm_trsy_price, dtype: float64"
      ]
     },
     "execution_count": 61,
     "metadata": {},
     "output_type": "execute_result"
    }
   ],
   "source": [
    "daily_bullet_df[\"durm_trsy_price\"].describe()"
   ]
  },
  {
   "cell_type": "markdown",
   "id": "d54dced8-6e28-4087-81ff-744883a4c82b",
   "metadata": {},
   "source": [
    "### Saving New Daily Bullet DataFrame"
   ]
  },
  {
   "cell_type": "markdown",
   "id": "5c19bcac-5161-4be8-9793-c80eae23287d",
   "metadata": {},
   "source": [
    "#### Renaming and Keeping Relevant Columns"
   ]
  },
  {
   "cell_type": "code",
   "execution_count": 62,
   "id": "97d44c4b-4f16-4eec-9504-e99ace80e15b",
   "metadata": {},
   "outputs": [
    {
     "data": {
      "text/plain": [
       "Index(['complete_cusip', 'trd_exctn_dt', 'daily_price', 'daily_volume',\n",
       "       'trace_yield', 'trd_exctn_tm', 'issuer_cusip', 'cusip_name',\n",
       "       'principal_amt', 'naics_code', 'announced_call', 'putable',\n",
       "       'first_interest_date', 'last_interest_date', 'soft_call_make_whole',\n",
       "       'bond_type', 'redeemable', 'defaulted', 'lesser_of', 'issue_cusip',\n",
       "       'dated_date', 'denomination', 'offering_date', 'issuer_id', 'maturity',\n",
       "       'date_subj_adjustment', 'issue_id', 'coupon', 'greater_of', 'beta0',\n",
       "       'beta1', 'beta2', 'beta3', 'tau1', 'tau2', 'trd_exctn_dt_tm',\n",
       "       'trd_exctn_dt_tm_capped', 'clean_price', 'estimated_accrued_interest',\n",
       "       'estimated_dirty_price', 'estimated_yield', 'trace_dirty_price',\n",
       "       'trace_accrued_interest', 're-estimated_accrued_interest',\n",
       "       're-estimated_dirty_price', 're-estimated_yield', 'durm_trsy_price'],\n",
       "      dtype='object')"
      ]
     },
     "execution_count": 62,
     "metadata": {},
     "output_type": "execute_result"
    }
   ],
   "source": [
    "daily_bullet_df.columns"
   ]
  },
  {
   "cell_type": "code",
   "execution_count": 63,
   "id": "bcd3b022-058c-4cd8-bc9c-97893c442887",
   "metadata": {},
   "outputs": [],
   "source": [
    "daily_bullet_df.rename(columns={\n",
    "    \"estimated_accrued_interest\": \"expacc_accrued_interest\",\n",
    "    \"estimated_dirty_price\": \"expacc_dirty_price\",\n",
    "    \"estimated_yield\": \"expacc_yield\"}, inplace=True)\n",
    "\n",
    "daily_bullet_df.rename(columns={\n",
    "    \"re-estimated_accrued_interest\": \"estimated_accrued_interest\",\n",
    "    \"re-estimated_dirty_price\": \"estimated_dirty_price\",\n",
    "    \"re-estimated_yield\": \"estimated_yield\"}, inplace=True)"
   ]
  },
  {
   "cell_type": "code",
   "execution_count": 64,
   "id": "20350159-b690-4361-8783-79b575971e15",
   "metadata": {
    "scrolled": true
   },
   "outputs": [
    {
     "data": {
      "text/plain": [
       "complete_cusip                0.000000\n",
       "trd_exctn_dt                  0.000000\n",
       "daily_price                   0.000000\n",
       "daily_volume                  0.000000\n",
       "trace_yield                   0.000000\n",
       "trd_exctn_tm                  0.000000\n",
       "issuer_cusip                  0.000000\n",
       "cusip_name                    0.000000\n",
       "principal_amt                 0.000000\n",
       "naics_code                    0.000000\n",
       "announced_call                0.000000\n",
       "putable                       0.000000\n",
       "first_interest_date           0.000000\n",
       "last_interest_date            0.000000\n",
       "soft_call_make_whole          1.000000\n",
       "bond_type                     0.000000\n",
       "redeemable                    0.000000\n",
       "defaulted                     0.000000\n",
       "lesser_of                     1.000000\n",
       "issue_cusip                   0.000000\n",
       "dated_date                    0.000000\n",
       "denomination                  0.000000\n",
       "offering_date                 0.000000\n",
       "issuer_id                     0.000000\n",
       "maturity                      0.000000\n",
       "date_subj_adjustment          1.000000\n",
       "issue_id                      0.000000\n",
       "coupon                        0.000000\n",
       "greater_of                    1.000000\n",
       "beta0                         0.000825\n",
       "beta1                         0.000825\n",
       "beta2                         0.000825\n",
       "beta3                         0.000825\n",
       "tau1                          0.000825\n",
       "tau2                          0.000825\n",
       "trd_exctn_dt_tm               0.000000\n",
       "trd_exctn_dt_tm_capped        0.000000\n",
       "clean_price                   0.000000\n",
       "expacc_accrued_interest       0.000000\n",
       "expacc_dirty_price            0.000000\n",
       "expacc_yield                  0.000000\n",
       "trace_dirty_price             0.000000\n",
       "trace_accrued_interest        0.000000\n",
       "estimated_accrued_interest    0.000000\n",
       "estimated_dirty_price         0.000000\n",
       "estimated_yield               0.000000\n",
       "durm_trsy_price               0.000825\n",
       "dtype: float64"
      ]
     },
     "execution_count": 64,
     "metadata": {},
     "output_type": "execute_result"
    }
   ],
   "source": [
    "daily_bullet_df.isna().sum() / len(daily_bullet_df)"
   ]
  },
  {
   "cell_type": "code",
   "execution_count": 65,
   "id": "68eead6f-f720-4f90-9cb5-6dc2b9520e4c",
   "metadata": {},
   "outputs": [
    {
     "data": {
      "text/plain": [
       "announced_call\n",
       "N    683615\n",
       "Name: count, dtype: Int64"
      ]
     },
     "execution_count": 65,
     "metadata": {},
     "output_type": "execute_result"
    }
   ],
   "source": [
    "daily_bullet_df[\"announced_call\"].value_counts()"
   ]
  },
  {
   "cell_type": "code",
   "execution_count": 66,
   "id": "a4e0b1bc-a961-42fd-b572-35538e6e6894",
   "metadata": {},
   "outputs": [
    {
     "data": {
      "text/plain": [
       "redeemable\n",
       "N    683615\n",
       "Name: count, dtype: Int64"
      ]
     },
     "execution_count": 66,
     "metadata": {},
     "output_type": "execute_result"
    }
   ],
   "source": [
    "daily_bullet_df[\"redeemable\"].value_counts()"
   ]
  },
  {
   "cell_type": "code",
   "execution_count": 67,
   "id": "f15ebc7b-b2f8-4535-86f7-23caed36cdef",
   "metadata": {},
   "outputs": [
    {
     "data": {
      "text/plain": [
       "putable\n",
       "N    683615\n",
       "Name: count, dtype: Int64"
      ]
     },
     "execution_count": 67,
     "metadata": {},
     "output_type": "execute_result"
    }
   ],
   "source": [
    "daily_bullet_df[\"putable\"].value_counts()"
   ]
  },
  {
   "cell_type": "code",
   "execution_count": 68,
   "id": "c774182e-1574-429c-87dd-2bbb2e4ab242",
   "metadata": {},
   "outputs": [],
   "source": [
    "new_ordered_cols = [\n",
    "    \"complete_cusip\", \"issuer_cusip\", \"issue_cusip\", \"cusip_name\", \"issuer_id\", \"issue_id\",\n",
    "    \"trd_exctn_dt_tm_capped\", \"trd_exctn_dt_tm\", \"trd_exctn_dt\", \"trd_exctn_tm\",\n",
    "    \"daily_price\", \"daily_volume\", \"coupon\", \"clean_price\", \"principal_amt\",\n",
    "    \"trace_dirty_price\", \"trace_yield\", \"trace_accrued_interest\",\n",
    "    \"estimated_dirty_price\", \"estimated_yield\", \"estimated_accrued_interest\",\n",
    "    \"expacc_dirty_price\", \"expacc_yield\", \"expacc_accrued_interest\",\n",
    "    \"offering_date\", \"dated_date\", \"first_interest_date\", \"last_interest_date\", \"maturity\",\n",
    "    \"bond_type\", \"defaulted\", \"denomination\", \"naics_code\",\n",
    "    \"beta0\", \"beta1\", \"beta2\", \"beta3\", \"tau1\", \"tau2\", \"durm_trsy_price\"\n",
    "]"
   ]
  },
  {
   "cell_type": "markdown",
   "id": "743f5e2f-5f4d-459c-be40-4deef4e83995",
   "metadata": {},
   "source": [
    "#### Saving Enhanced Daily Bullet Bond Transaction Data"
   ]
  },
  {
   "cell_type": "code",
   "execution_count": 69,
   "id": "4a67f8d4-6e9f-4e9d-8e84-06ee24010815",
   "metadata": {},
   "outputs": [],
   "source": [
    "final_daily_bullet_df = daily_bullet_df[new_ordered_cols].copy()\n",
    "final_daily_bullet_df.to_parquet(processed_data_file_path + \"enhanced_daily_bullet_bond_transaction_data.parquet\", engine=\"pyarrow\")"
   ]
  }
 ],
 "metadata": {
  "kernelspec": {
   "display_name": "Python (research_env)",
   "language": "python",
   "name": "research_env"
  },
  "language_info": {
   "codemirror_mode": {
    "name": "ipython",
    "version": 3
   },
   "file_extension": ".py",
   "mimetype": "text/x-python",
   "name": "python",
   "nbconvert_exporter": "python",
   "pygments_lexer": "ipython3",
   "version": "3.11.5"
  }
 },
 "nbformat": 4,
 "nbformat_minor": 5
}
