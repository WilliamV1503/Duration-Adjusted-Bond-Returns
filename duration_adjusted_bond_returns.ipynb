{
 "cells": [
  {
   "cell_type": "code",
   "execution_count": 1,
   "id": "eaa49c9e-6dd0-4911-b945-72c0d66857c1",
   "metadata": {},
   "outputs": [],
   "source": [
    "import pandas as pd\n",
    "from pandas.tseries.offsets import MonthEnd, MonthBegin, BDay, CustomBusinessDay\n",
    "import swifter\n",
    "import ray\n",
    "import numpy as np\n",
    "from pyspark.sql import SparkSession\n",
    "from pyspark.sql import functions as F\n",
    "from pyspark.sql.types import StructType, StructField, StringType, DateType, TimestampType, FloatType, IntegerType\n",
    "from pyspark.sql.functions import udf\n",
    "from scipy.optimize import fsolve, minimize_scalar\n",
    "import os\n",
    "import shutil\n",
    "import json"
   ]
  },
  {
   "cell_type": "markdown",
   "id": "40bad9ff-445e-41ec-acc7-08df4b5c0f68",
   "metadata": {},
   "source": [
    "# Bond Research Project: Exploring Signals for Duration Adjusted Returns"
   ]
  },
  {
   "cell_type": "markdown",
   "id": "bb5ced5a-56dc-4d88-a257-149e44d0d84a",
   "metadata": {},
   "source": [
    "# TRACE and Mergent Filtering and Merging (Initial Sample Filtering)"
   ]
  },
  {
   "cell_type": "markdown",
   "id": "67458112-3669-481b-891f-773dd2347b94",
   "metadata": {},
   "source": [
    "## Functions"
   ]
  },
  {
   "cell_type": "code",
   "execution_count": 2,
   "id": "5cbffa60-f4d1-4f8f-82e0-73c5d9d2122b",
   "metadata": {},
   "outputs": [],
   "source": [
    "def get_wrds_dtype_dict(dirty_str):\n",
    "    '''\n",
    "    Parameters:\n",
    "    dirty_str (str): wrds feature descriptions table text when copied and pasted\n",
    "    Returns:\n",
    "    dict: dictionary where keys are feature names and values are dtypes\n",
    "    '''\n",
    "    dtype_dict = {}\n",
    "    str_lines = dirty_str.split(\"\\n\")\n",
    "    for line in str_lines:\n",
    "        line_contents = line.split(\"\\t\")\n",
    "        dtype_dict[line_contents[0]] = line_contents[1]\n",
    "    return dtype_dict\n",
    "\n",
    "\n",
    "def wrds_to_spark_dtype_dict(wrds_dtype_dict,force_custom=False):\n",
    "    '''\n",
    "    Parameters:\n",
    "    wrds_dtype_dict (dict): dictionary of wrds table features (keys) and dtypes as they appear in wrds (values)\n",
    "    force_custom (bool): when True, any wrds table feature that satisfies a certain condition is forced to be cast as different spark dtype than suggested by wrds\n",
    "    Returns:\n",
    "    dict: dictionary of wrds table features (keys) and dtype objects from spark.sql.types\n",
    "    '''\n",
    "    spark_dtype_dict = {}\n",
    "    wrds_to_spark_dtype_map = {\n",
    "        \"Char\": StringType(),\n",
    "        \"Date\": DateType(),\n",
    "        \"Float\": FloatType(),\n",
    "        \"Time\": TimestampType()\n",
    "    }\n",
    "    for feature, wrds_dtype in wrds_dtype_dict.items():\n",
    "        spark_dtype_dict[feature] = wrds_to_spark_dtype_map[wrds_dtype]\n",
    "        if force_custom: \n",
    "            if \"_tm\" in feature:\n",
    "                spark_dtype_dict[feature] = TimestampType()\n",
    "            if feature in [\"days_to_sttl_ct\", \"naics_code\"]:\n",
    "                spark_dtype_dict[feature] = IntegerType()\n",
    "            \n",
    "    return spark_dtype_dict\n",
    "\n",
    "\n",
    "def get_spark_schema(raw_csv_cols,dirty_wrds_str,force_custom=False):\n",
    "    '''\n",
    "    Parameters:\n",
    "    dirty_wrds_str (str): wrds feature descriptions table text when copied and pasted\n",
    "    force_custom (bool): when True, any wrds table feature that satisfies a certain condition is forced to be cast as different spark dtype than suggested by wrds\n",
    "    Returns:\n",
    "    StructType: structype schema for wrds csv\n",
    "    '''\n",
    "    wrds_dtype_dict = get_wrds_dtype_dict(dirty_wrds_str)\n",
    "    spark_dtype_dict = wrds_to_spark_dtype_dict(wrds_dtype_dict,force_custom)\n",
    "    schema = StructType([StructField(feature,spark_dtype_dict[feature],True) for feature in raw_csv_cols])\n",
    "    return schema, spark_dtype_dict, wrds_dtype_dict"
   ]
  },
  {
   "cell_type": "code",
   "execution_count": 3,
   "id": "a31fc243-7c1c-4948-9716-4fe50304f39f",
   "metadata": {},
   "outputs": [],
   "source": [
    "def spark_dtype_to_str_map(dict_of_dtypes, setting=0):\n",
    "    '''\n",
    "    Parameters:\n",
    "    dict_of_dtypes (dict): dictionary where values are feature column names from TRACE or MERGENT and values are spark dtype objects or str representations of them\n",
    "    setting (int): 0 = object to string, 1 = string to object\n",
    "    Returns:\n",
    "    dict: dictionary where values are feature column names from TRACE or MERGENT and values are the swapped spark dtype objects or str representations of them\n",
    "    '''\n",
    "    output_dict = {}\n",
    "    str_to_obj_map = {\n",
    "        \"StringType\": StringType(),\n",
    "        \"DateType\": DateType(),\n",
    "        \"FloatType\": FloatType(),\n",
    "        \"TimestampType\": TimestampType(),\n",
    "        \"IntegerType\": IntegerType()\n",
    "    }\n",
    "    for key,value in dict_of_dtypes.items():\n",
    "        if setting==1:\n",
    "            output_dict[key] = str_to_obj_map[value]\n",
    "        if setting==0:\n",
    "            if value == StringType():\n",
    "                output_dict[key] = \"StringType\"\n",
    "            if value == DateType():\n",
    "                output_dict[key] = \"DateType\"\n",
    "            if value == FloatType():\n",
    "                output_dict[key] = \"FloatType\"\n",
    "            if value == TimestampType():\n",
    "                output_dict[key] = \"TimestampType\"\n",
    "            if value == IntegerType():\n",
    "                output_dict[key] = \"IntegerType\"\n",
    "                \n",
    "    return output_dict"
   ]
  },
  {
   "cell_type": "code",
   "execution_count": 4,
   "id": "ea369d5d-f4b0-4876-8250-eeb494148df7",
   "metadata": {},
   "outputs": [],
   "source": [
    "def get_spark_schema_2(list_of_cols,return_cols_by_origin=False):\n",
    "    '''\n",
    "    Parameters:\n",
    "    list_of_cols (list): list of col names\n",
    "    return_cols_by_origin (bool): if True, returns dictionary of cols according to whether they are from the TRACE or mergent dataset\n",
    "    Returns:\n",
    "    StructType: spark schema for dataframe\n",
    "    '''\n",
    "    with open(\"trace_spark_dtype_dict.json\",\"r\") as file:\n",
    "        trace_spark_dtype_str_dict = json.load(file)\n",
    "    trace_spark_dtype_dict = spark_dtype_to_str_map(trace_spark_dtype_str_dict,1)\n",
    "    with open(\"mergent_spark_dtype_dict.json\",\"r\") as file:\n",
    "        mergent_spark_dtype_str_dict = json.load(file)\n",
    "    mergent_spark_dtype_dict = spark_dtype_to_str_map(mergent_spark_dtype_str_dict,1)\n",
    "    df_spark_dtype_dict = {}\n",
    "    for col in list_of_cols:\n",
    "        if col in trace_spark_dtype_dict.keys():\n",
    "            df_spark_dtype_dict[col] = trace_spark_dtype_dict[col]\n",
    "        else:\n",
    "            df_spark_dtype_dict[col] = mergent_spark_dtype_dict[col]\n",
    "    df_schema = StructType([StructField(col,df_spark_dtype_dict[col],True) for col in df_spark_dtype_dict.keys()])\n",
    "    if return_cols_by_origin:\n",
    "        cols_by_origin_dict = {}\n",
    "        trace_cols = list(set(list_of_cols) & set(list(trace_spark_dtype_dict.keys())))\n",
    "        mergent_cols = list(set(list_of_cols) & set(list(mergent_spark_dtype_dict.keys())))\n",
    "        cols_by_origin_dict[\"trace\"] = trace_cols\n",
    "        cols_by_origin_dict[\"mergent\"] = mergent_cols\n",
    "        return df_schema, cols_by_origin_dict\n",
    "    return df_schema"
   ]
  },
  {
   "cell_type": "markdown",
   "id": "eed12127-781b-4807-85f9-b5d647d62636",
   "metadata": {},
   "source": [
    "## Start Spark Session"
   ]
  },
  {
   "cell_type": "code",
   "execution_count": 5,
   "id": "bce83647-1aed-4ec9-9a82-251273640764",
   "metadata": {},
   "outputs": [
    {
     "name": "stdout",
     "output_type": "stream",
     "text": [
      "3.5.5\n"
     ]
    }
   ],
   "source": [
    "import pyspark\n",
    "print(pyspark.__version__)"
   ]
  },
  {
   "cell_type": "code",
   "execution_count": 6,
   "id": "866f706f-37f6-4021-a382-9e1c4db7ac7b",
   "metadata": {},
   "outputs": [],
   "source": [
    "os.environ[\"HADOOP_HOME\"] = r\"C:\\Users\\wvill\\hadoop\"\n",
    "os.environ[\"hadoop.home.dir\"] = r\"C:\\Users\\wvill\\hadoop\"\n",
    "os.environ[\"HADOOP_OPTIONAL_TOOLS\"] = \"false\"\n",
    "os.environ[\"SPARK_DRIVER_MEMORY\"] = \"6g\"\n",
    "os.environ[\"SPARK_EXECUTOR_MEMORY\"] = \"6g\"\n",
    "os.environ[\"PYSPARK_PYTHON\"] = r\"C:\\Users\\wvill\\AppData\\Local\\Programs\\Python\\Python311\\python.exe\"\n",
    "os.environ[\"PYSPARK_DRIVER_PYTHON\"] = r\"C:\\Users\\wvill\\AppData\\Local\\Programs\\Python\\Python311\\python.exe\""
   ]
  },
  {
   "cell_type": "code",
   "execution_count": 7,
   "id": "1368d9f2-8da0-430f-8227-6ea0d307ae03",
   "metadata": {},
   "outputs": [],
   "source": [
    "spark = SparkSession.builder.appName(\"WRDS_CSV_Processor\").config(\"spark.hadoop.io.native.lib.available\", \"false\").getOrCreate()"
   ]
  },
  {
   "cell_type": "code",
   "execution_count": 8,
   "id": "01402857-491c-4851-9ee5-56dac2394459",
   "metadata": {},
   "outputs": [
    {
     "name": "stdout",
     "output_type": "stream",
     "text": [
      "C:\\Users\\wvill\\hadoop\n"
     ]
    }
   ],
   "source": [
    "print(os.getenv(\"HADOOP_HOME\"))"
   ]
  },
  {
   "cell_type": "code",
   "execution_count": 9,
   "id": "e5da53bc-0175-42ce-86aa-8c7c7db74c5a",
   "metadata": {},
   "outputs": [
    {
     "data": {
      "text/plain": [
       "'false'"
      ]
     },
     "execution_count": 9,
     "metadata": {},
     "output_type": "execute_result"
    }
   ],
   "source": [
    "spark.conf.get(\"spark.hadoop.io.native.lib.available\")"
   ]
  },
  {
   "cell_type": "markdown",
   "id": "1320ed30-45c6-45f0-8456-6b95aea45e49",
   "metadata": {},
   "source": [
    "## WRDS Variable Description Strings"
   ]
  },
  {
   "cell_type": "code",
   "execution_count": 10,
   "id": "1ab832b2-d9d4-4053-a27a-9204f1251018",
   "metadata": {
    "jupyter": {
     "source_hidden": true
    }
   },
   "outputs": [],
   "source": [
    "trace_enhanced_dtype_str_dirty=\"\"\"cusip_id\tChar\tCUSIP ID (cusip_id)\n",
    "bond_sym_id\tChar\tTRACE Bond Symbol (bond_sym_id)\n",
    "company_symbol\tChar\tCompany Symbol (issuer stock ticker) (company_symbol)\n",
    "trd_exctn_dt\tDate\tExecution Date (trd_exctn_dt)\n",
    "trd_exctn_tm\tFloat\tExecution Time (trd_exctn_tm)\n",
    "trd_rpt_dt\tDate\tReport Date (trd_rpt_dt)\n",
    "trd_rpt_tm\tFloat\tReport Time (trd_rpt_tm)\n",
    "msg_seq_nb\tChar\tMessage Sequence Number (msg_seq_nb)\n",
    "trc_st\tChar\tTrade Status (trc_st)\n",
    "scrty_type_cd\tChar\tSecurity Type (scrty_type_cd)\n",
    "wis_fl\tChar\tWhen Issued Indicator (wis_fl)\n",
    "cmsn_trd\tChar\tCommission Indicator (cmsn_trd)\n",
    "entrd_vol_qt\tFloat\tQuantity (entrd_vol_qt)\n",
    "rptd_pr\tFloat\tPrice (rptd_pr)\n",
    "yld_sign_cd\tChar\tYield Direction (yld_sign_cd)\n",
    "yld_pt\tFloat\tYield (yld_pt)\n",
    "asof_cd\tChar\tAs Of Indicator (asof_cd)\n",
    "days_to_sttl_ct\tChar\tSeller Sales Day (days_to_sttl_ct)\n",
    "sale_cndtn_cd\tChar\tSale Condition (sale_cndtn_cd)\n",
    "sale_cndtn2_cd\tChar\tSecond Modifier (sale_cndtn2_cd)\n",
    "rpt_side_cd\tChar\tBuy/Sell Indicator (rpt_side_cd)\n",
    "buy_cmsn_rt\tFloat\tBuyer Commission (buy_cmsn_rt)\n",
    "buy_cpcty_cd\tChar\tBuyer Capacity (buy_cpcty_cd)\n",
    "sell_cmsn_rt\tFloat\tSeller Commission (sell_cmsn_rt)\n",
    "sell_cpcty_cd\tChar\tSeller Capacity (sell_cpcty_cd)\n",
    "cntra_mp_id\tChar\tContra Party Indicator (cntra_mp_id)\n",
    "agu_qsr_id\tChar\tAGU Indicator (agu_qsr_id)\n",
    "spcl_trd_fl\tChar\tSpecial Price Indicator (spcl_trd_fl)\n",
    "trdg_mkt_cd\tChar\tTrading Market Indicator (trdg_mkt_cd)\n",
    "dissem_fl\tChar\tDissemination Flag (dissem_fl)\n",
    "orig_msg_seq_nb\tChar\tOriginal Message Sequence Number (orig_msg_seq_nb)\n",
    "bloomberg_identifier\tChar\tBloomberg Identifier (bloomberg_identifier)\n",
    "sub_prdct\tChar\tSub-Product (sub_prdct)\n",
    "stlmnt_dt\tDate\tSettlement Date (stlmnt_dt)\n",
    "trd_mod_3\tChar\tTrade Modifier 3 (trd_mod_3)\n",
    "trd_mod_4\tChar\tTrade Modifier 4 (trd_mod_4)\n",
    "rptg_party_type\tChar\tReporting Party Type (rptg_party_type)\n",
    "lckd_in_ind\tChar\tLocked In Indicator (lckd_in_ind)\n",
    "ats_indicator\tChar\tATS Indicator (ats_indicator)\n",
    "pr_trd_dt\tDate\tPrior Trade Report Date (pr_trd_dt)\n",
    "first_trade_ctrl_date\tDate\tFirst Trade Control Date (first_trade_ctrl_date)\n",
    "first_trade_ctrl_num\tChar\tFirst Trade Control Number (first_trade_ctrl_num)\"\"\""
   ]
  },
  {
   "cell_type": "code",
   "execution_count": 11,
   "id": "09189b03-8256-45f1-85ee-6ef16cbc8372",
   "metadata": {
    "jupyter": {
     "source_hidden": true
    }
   },
   "outputs": [],
   "source": [
    "mergent_bond_issue_dtype_str_dirty = \"\"\"issue_id\tFloat\tIssue ID (issue_id)\n",
    "issuer_id\tFloat\tIssuer ID (issuer_id)\n",
    "issuer_id_affected\tFloat\tIssuer ID (issuer_id_affected)\n",
    "issuer_cusip\tChar\tIssuer CUSIP (issuer_cusip)\n",
    "issue_cusip\tChar\tIssue CUSIP (issue_cusip)\n",
    "complete_cusip\tChar\tComplete CUSIP (complete_cusip)\n",
    "cusip_name\tChar\tCUSIP Name (cusip_name)\n",
    "prospectus_issuer_name\tChar\tProspectus Issuer Name (prospectus_issuer_name)\n",
    "issue_name\tChar\tIssue Name (issue_name)\n",
    "sedol\tChar\tSEDOL (sedol)\n",
    "isin\tChar\tISI Number (isin)\n",
    "reallowance\tFloat\tReallowance (reallowance)\n",
    "putable\tChar\tPutable (putable)\n",
    "principal_amt\tFloat\tPrincipal Amount (principal_amt)\n",
    "press_release\tChar\tPress Release (press_release)\n",
    "preferred_security\tChar\tPreferred Security (preferred_security)\n",
    "perpetual\tChar\tPerpetual (perpetual)\n",
    "overallotment_opt\tChar\tOverallotment Option (overallotment_opt)\n",
    "oid\tChar\tOrig Issue Discount (oid)\n",
    "offering_yield\tFloat\tOffering Yield (offering_yield)\n",
    "offering_price\tFloat\tOffering Price (offering_price)\n",
    "offering_date\tDate\tOffering Date (offering_date)\n",
    "offering_amt\tFloat\tOffering Amount (in thousands) (offering_amt)\n",
    "mtn\tChar\tMedium Term Note (mtn)\n",
    "maturity\tDate\tMaturity Date (maturity)\n",
    "issue_offered_global\tChar\tGlobal Offer (issue_offered_global)\n",
    "gross_spread\tFloat\tGross Spread (gross_spread)\n",
    "fungible\tChar\tFungible (fungible)\n",
    "form_of_own\tChar\tForm of Ownership (form_of_own)\n",
    "foreign_currency\tChar\tForeign Currency (foreign_currency)\n",
    "exchangeable\tChar\tExchangeable (exchangeable)\n",
    "enhancement\tChar\tEnhancement (enhancement)\n",
    "dep_eligibility\tChar\tEligible Depositories (dep_eligibility)\n",
    "denomination\tChar\tDenomination (denomination)\n",
    "delivery_date\tDate\tDelivery Date (delivery_date)\n",
    "defeased_date\tDate\tDefeased Date (defeased_date)\n",
    "defeased\tChar\tDefeased (defeased)\n",
    "defeasance_type\tChar\tDefeasance Type (defeasance_type)\n",
    "defaulted\tChar\tDefaulted (defaulted)\n",
    "covenants\tChar\tCovenants (covenants)\n",
    "coupon_type\tChar\tCoupon Type (coupon_type)\n",
    "convertible\tChar\tConvertible (convertible)\n",
    "comp_neg_exch_deal\tChar\tType of Sale (comp_neg_exch_deal)\n",
    "canadian\tChar\tCanadian Issuer (canadian)\n",
    "bond_type\tChar\tBond Type (bond_type)\n",
    "asset_backed\tChar\tAsset Backed (asset_backed)\n",
    "announced_call\tChar\tAnnounced Call (announced_call)\n",
    "active_issue\tChar\tActive Issue (active_issue)\n",
    "private_placement\tChar\tPrivate Placement (private_placement)\n",
    "yankee\tChar\tYankee (yankee)\n",
    "unit_deal\tChar\tUnit Deal (unit_deal)\n",
    "treasury_spread\tFloat\tTreasury Spread (treasury_spread)\n",
    "treasury_maturity\tChar\tTreasury Maturity (treasury_maturity)\n",
    "tender_exch_offer\tChar\tTender/Exchange Offer (tender_exch_offer)\n",
    "subsequent_data\tChar\tSubsequent Data (subsequent_data)\n",
    "slob\tChar\tSLOB (slob)\n",
    "settlement_type\tChar\tSettlement Type (settlement_type)\n",
    "selling_concession\tFloat\tSelling Concession (selling_concession)\n",
    "security_pledge\tChar\tSecurity Pledge (security_pledge)\n",
    "security_level\tChar\tSecurity Level (security_level)\n",
    "sec_reg_type2\tChar\tAdditional SEC Registration Type (sec_reg_type2)\n",
    "sec_reg_type1\tChar\tSEC Registration Type (sec_reg_type1)\n",
    "rule_415_reg\tChar\tRule 415 Registration (rule_415_reg)\n",
    "rule_144a\tChar\tRule 144a (rule_144a)\n",
    "registration_rights\tChar\tRegistration Rights (registration_rights)\n",
    "refunding_date\tDate\tRefunding Date (refunding_date)\n",
    "refund_protection\tChar\tRefund Protection (refund_protection)\n",
    "redeemable\tChar\tRedeemable (redeemable)\n",
    "determination_date\tDate\tThe next date as of which the coupon for floating rate securities is calculated. (determination_date)\n",
    "see_note\tChar\tIndicates that more detailed information on the coupon formula is included in the associated text footnote. (see_note)\n",
    "reset_date_orig\tDate\tRepresents the first date as of which the issue began to accrue interest at the first calculated coupon rate. (reset_date_orig)\n",
    "reset_date\tDate\tThe next date as of which the issue will begin to accrue interest at the new coupon rate. (reset_date)\n",
    "lesser_of\tChar\tA flag indicating that the issues coupon resets to the lesser of the associated rate calculation formulas in the INDEX table. (lesser_of)\n",
    "greater_of\tChar\tA flag indicating that the issues coupon resets to the greater of the associated rate calculation formulas in the INDEX table. (greater_of)\n",
    "fix_frequency\tChar\tA four-letter code indicating how often the coupon will be reset. (fix_frequency)\n",
    "determination_date_orig\tDate\tRepresents the first date a new interest rate was calculated for this issue. (determination_date_orig)\n",
    "pay_in_kind_exp_date\tDate\tExpiration date of the pay_in_kind option. (pay_in_kind_exp_date)\n",
    "pay_in_kind\tChar\tFlag indicating that the interest on the issue may be paid in more of the same security, or in some cases, in other securities. (pay_in_kind)\n",
    "last_interest_date\tDate\tLast interest payment date (last_interest_date)\n",
    "interest_frequency\tChar\tCode indicating how often interest payments will be made. (interest_frequency)\n",
    "first_interest_date\tDate\tDate on which first interest payment will be made to the bondholder. (first_interest_date)\n",
    "day_count_basis\tChar\tBasis used for determining the interest paid during each interest period. (day_count_basis)\n",
    "dated_date\tDate\tDate from which interest accrues or from which original issue discount is amortized. (dated_date)\n",
    "coupon_change_indicator\tChar\tIndicates the issues coupon type, if not fixed. (coupon_change_indicator)\n",
    "coupon\tFloat\tThe current applicable annual interest rate. (coupon)\n",
    "soft_call_make_whole\tChar\tA flag indicating the soft call feature contains a make whole payment provision specified in the convertible_additional_terms table. (soft_call_make_whole)\n",
    "shares_outstanding\tFloat\tThe total number of securities/shares of the conversion commodity outstanding (shares_outstanding)\n",
    "reason\tChar\tThe reason for the change of the convertible information on the change_date. (reason)\n",
    "qty_of_commod\tFloat\tThe quantity of the conversion commodity (qty_of_commod)\n",
    "percs\tChar\tA flag indicating the security has maximum payoff upon conversion specified in the convertible_additional_terms table. (percs)\n",
    "percent_of_outstanding_commod\tFloat\tThe percentage of the total conversion commodity available through conversion. (percent_of_outstanding_commod)\n",
    "peps\tChar\tA flag indicating the issue has additional conversion terms. (peps)\n",
    "orig_shares_outstanding\tFloat\tThe total number of securities/shares of the conversion commodity when the issue was first offered. (orig_shares_outstanding)\n",
    "orig_qty_of_commod\tFloat\tThe quantity of the conversion commodity that the bondholder would have received when the security was first offered. (orig_qty_of_commod)\n",
    "orig_percent_outstanding_com\tFloat\tThe percentage of the total conversion commodity available through conversion of the issue when the issue was first offered. (orig_percent_outstanding_com)\n",
    "orig_conv_price\tFloat\tConversion price of the conversion commodity when the issue was first offered. (orig_conv_price)\n",
    "orig_conv_premium\tFloat\tThe percentage difference between the conversion price and the market price when the issue was first offered. (orig_conv_premium)\n",
    "orig_commod_price\tFloat\tMarket price of the conversion commodity when the issue was first offered. (orig_commod_price)\n",
    "exchange\tChar\tA four-letter code indicating the conversion commoditys principal securities exchange. (exchange)\n",
    "dilution_protection\tChar\tA flag indicating whether or not the quantity of commodity will be adjusted for stock splits, dividends, distributions, or other specified events. (dilution_protection)\n",
    "convert_on_call\tChar\tA flag indicating whether the holder is able to convert their security if it is called for redemption. (convert_on_call)\n",
    "conv_total_trade_days\tFloat\tNumber of trading days during which the conversion commoditys price is measured for lifting redemption restrictions. (conv_total_trade_days)\n",
    "conv_redemp_exception\tChar\tFlag indicating whether a soft call provision has been specified. (conv_redemp_exception)\n",
    "conv_redemp_date\tDate\tEnd date of current soft call feature. (conv_redemp_date)\n",
    "conv_prohibited_from\tDate\tStart date of current soft call feature. (conv_prohibited_from)\n",
    "conv_price_percent\tFloat\tMinimum percentage of the applicable conversion price at which the conversion commodity must trade at before restrictions on redemption are lifted. (conv_price_percent)\n",
    "conv_price\tFloat\tConversion price of the conversion commodity. (conv_price)\n",
    "conv_premium\tFloat\tThe percentage difference between the conversion price and the market price. (conv_premium)\n",
    "conv_period_spec\tChar\tIndicates whether or not the bondholder must submit their security for conversion in a specified time period prior to redemption. (conv_period_spec)\n",
    "conv_period_days\tFloat\tNumber of days prior to the announced redemption date that the bondholders are allowed to convert their bonds. (conv_period_days)\n",
    "conv_part_trade_days\tFloat\tThe number of trading days that the conversion security must trade at or above a certain price to allow redemption. (conv_part_trade_days)\n",
    "conv_exp_date\tDate\tDate on which conversion privilege expires. (conv_exp_date)\n",
    "conv_eff_date\tDate\tFirst date on which issue may be converted. (conv_eff_date)\n",
    "conv_commod_type\tChar\tA four-letter code indicating what the conversion commodity is. (conv_commod_type)\n",
    "conv_commod_issuer\tChar\tThe name of the issuer of the exchange commodity. (conv_commod_issuer)\n",
    "conv_commod_cusip\tChar\tThe CUSIP of the conversion commodity. (conv_commod_cusip)\n",
    "conv_cash\tFloat\tAdditional cash payable by bondholder to effect conversion. (conv_cash)\n",
    "conditional_conv_terms\tChar\tA flag indicating the security has conditional conversion terms specified in the convertible_additional_terms table. (conditional_conv_terms)\n",
    "commod_price\tFloat\tMarket price of the conversion commodity. (commod_price)\n",
    "change_date\tDate\tThe date the current convertible information was added to the issue. (change_date)\n",
    "as_of_date\tDate\tThe date the current convertible information was added to the issue. (as_of_date)\n",
    "ticker\tChar\tThe ticker of the conversion commodity. (ticker)\n",
    "split_ratio\tChar\tThe ratio to which the conversion commodity was split. (split_ratio)\n",
    "split_date\tDate\tThe date of the last known conversion commodity split. (split_date)\n",
    "sc_make_whole_start_date\tDate\tThe date from which a soft call make-whole payment becomes payable if the bond is called for redemption. (sc_make_whole_start_date)\n",
    "sc_make_whole_initial_amount\tFloat\tThe initial soft call make-whole payment amount that would be payable if the bond were called for redemption on the soft call make-whole start date. (sc_make_whole_initial_amount)\n",
    "sc_make_whole_end_date\tDate\tThe final date at which a soft call make-whole payment is payable if the bond is called for redemption. (sc_make_whole_end_date)\n",
    "sc_make_whole_decrement_type\tChar\tA four-letter code indicating how the soft call make-whole payment decreases over time when the bond is called for redemption. (sc_make_whole_decrement_type)\n",
    "sc_make_whole_change_percent\tFloat\tThe percentage (of the face value) by which the soft call make-whole payment payable is reduced on an annual basis if the bond is called for redemption. (sc_make_whole_change_percent)\n",
    "percs_max_payoff\tFloat\tMaximum payoff bondholder will receive upon conversion or at maturity per PERCS. (percs_max_payoff)\n",
    "peps_min_conversion_ratio\tFloat\tMinimum value of the conversion ratio. (peps_min_conversion_ratio)\n",
    "peps_max_conversion_ratio\tFloat\tMaximum value of the conversion ratio. (peps_max_conversion_ratio)\n",
    "peps_lower_price\tFloat\tConversion commodity price at which maximum conversion ratio applies. (peps_lower_price)\n",
    "peps_issue_price\tFloat\tThe face value or principal amount of the bond. (peps_issue_price)\n",
    "peps_higher_price\tFloat\tConversion commodity price at which minimum conversion ratio applies. (peps_higher_price)\n",
    "coco_trigger_expressed_as\tChar\tA four-letter code indicating how the coco_initial_trigger_percent is expressed. (coco_trigger_expressed_as)\n",
    "coco_trade_days_in_previous\tChar\tThe time period in which the coco_trade_days are measured. (coco_trade_days_in_previous)\n",
    "coco_trade_days\tChar\tThe number of trading days that the conversion commodity must trade at or above the trigger percent. (coco_trade_days)\n",
    "coco_start_date\tDate\tDate at which conversion becomes conditional. (coco_start_date)\n",
    "coco_min_trigger_level\tFloat\tThe lowest number the trigger percent will reach. (coco_min_trigger_level)\n",
    "coco_initial_trigger_percent\tFloat\tStock price level initially required to trigger conditional conversion. (coco_initial_trigger_percent)\n",
    "coco_end_date\tDate\tLast date that the conditional conversion terms apply. (coco_end_date)\n",
    "coco_change_rate\tFloat\tAnnual percentage change of the coco_initial_trigger_percent. (coco_change_rate)\n",
    "coco_change_frequency\tChar\tA four-letter code indicating the change frequency of the trigger percent. (coco_change_frequency)\n",
    "action_type\tChar\tAction Type (action_type)\n",
    "action_price\tFloat\tAction Price (action_price)\n",
    "action_amount\tFloat\tAction Amount (action_amount)\n",
    "effective_date\tDate\tEffective Date (effective_date)\n",
    "amount_outstanding\tFloat\tAmount Outstanding (amount_outstanding)\n",
    "voting_power_percentage_erp\tFloat\tVoting Power Percentage Erp (voting_power_percentage_erp)\n",
    "voting_power_percentage\tFloat\tVoting Power Percentage (voting_power_percentage)\n",
    "rating_decline_trigger_put\tChar\tRating Decline Trigger Put (rating_decline_trigger_put)\n",
    "rating_decline_provision\tChar\tRating Decline Provision (rating_decline_provision)\n",
    "negative_pledge_covenant\tChar\tNegative Pledge Covenant (negative_pledge_covenant)\n",
    "legal_defeasance\tChar\tLegal Defeasance (legal_defeasance)\n",
    "economic_cov_def\tChar\tEconomic Cov Def (economic_cov_def)\n",
    "defeasance_wo_tax_conseq\tChar\tDefeasance w.o. Tax Conseq (defeasance_wo_tax_conseq)\n",
    "declining_net_worth_trigger\tFloat\tDeclining Net Worth Trigger (declining_net_worth_trigger)\n",
    "declining_net_worth_provisions\tChar\tDeclining Net Worth Provisions (declining_net_worth_provisions)\n",
    "declining_net_worth_percentage\tFloat\tDeclining Net Worth Percentage (declining_net_worth_percentage)\n",
    "declining_net_worth\tChar\tDeclining Net Worth (declining_net_worth)\n",
    "cross_default\tChar\tCross Default (cross_default)\n",
    "cross_acceleration\tChar\tCross Acceleration (cross_acceleration)\n",
    "covenant_defeas_wo_tax_conseq\tChar\tCovenant Defeas w.o. Tax (covenant_defeas_wo_tax_conseq)\n",
    "change_control_put_provisions\tChar\tChange Control Put Provisions (change_control_put_provisions)\n",
    "asset_sale_clause\tChar\tAsset Sale Clause (asset_sale_clause)\n",
    "after_acquired_property_clause\tChar\tAfter Acquired Property Clause (after_acquired_property_clause)\n",
    "currency\tChar\tCurrency (currency)\n",
    "conversion_rate\tFloat\tConversion Rate (conversion_rate)\n",
    "amt_offered\tFloat\tAmount Offered (amt_offered)\n",
    "settlement\tChar\tSettlement (settlement)\n",
    "filing_date\tDate\tFiling Date (filing_date)\n",
    "sec_cusip\tChar\tCUSIP of the other security offered as part of the unit. (sec_cusip)\n",
    "quantity\tFloat\tThe quantity of other security offered with the unit. (quantity)\n",
    "other_sec_type\tChar\tType of the other security. (other_sec_type)\n",
    "other_sec_issuer\tChar\tThe name of the issuer of the other security. (other_sec_issuer)\n",
    "market_price\tFloat\tThe market price of the units other security as of the issues offering date. (market_price)\n",
    "date_transferable\tDate\tThe date on which each security offered as part of the unit may be sold separately. (date_transferable)\n",
    "date_subj_adjustment\tChar\tA flag indicating that the date on which the unit is free to trade as separate security is subject to adjustment. (date_subj_adjustment)\n",
    "allocated_offering_price_other\tFloat\tPortion of the unit price allocated to the non-debt, non-warrant security in the unit. (allocated_offering_price_other)\n",
    "overallotment_expiration_date\tDate\tOverallotment Expiration Date (overallotment_expiration_date)\n",
    "exercised_date\tDate\tExercised Date (exercised_date)\n",
    "exercised\tChar\tExercised (exercised)\n",
    "amount\tFloat\tAmount (amount)\n",
    "notification_period\tChar\tNotification Period (notification_period)\n",
    "next_put_price\tFloat\tNext Put Price (next_put_price)\n",
    "next_put_date\tDate\tNext Put Date (next_put_date)\n",
    "unit_cusip\tChar\tThe CUSIP of the unit. (unit_cusip)\n",
    "total_units_offered\tFloat\tTotal number of units offered. (total_units_offered)\n",
    "principal_amt_per_unit\tFloat\tThe principal amount of each unit. (principal_amt_per_unit)\n",
    "allocated_offering_price_unit\tFloat\tFrom the prospectus, the value of the bond part of the unit. (allocated_offering_price_unit)\n",
    "parent_id\tFloat\tA number representing the agent_id of this issuers parent company. (parent_id)\n",
    "naics_code\tChar\tThe North American Industry Classification System code used to describe the business of this issuer. (naics_code)\n",
    "industry_group\tChar\tA code indicating the industry group to which the issuer belongs. (industry_group)\n",
    "industry_code\tChar\tA code indicating the industry to which the issuer belongs. (industry_code)\n",
    "in_bankruptcy\tChar\tA flag denoting that the issuer is currently in bankruptcy. (in_bankruptcy)\n",
    "esop\tChar\tA flag denoting that the issue will be repaid by pension contributions to an ESOP. (esop)\n",
    "country_domicile\tChar\tThe Country of Domicile or country of permanent residence of this issuer. (country_domicile)\n",
    "agent_id\tFloat\tA unique Mergent-generated number to identify each agent. (agent_id)\n",
    "sic_code\tChar\tThe firms four-digit Standard Industry Classification code. (sic_code)\n",
    "transaction_affiliates\tChar\tIssuer is restricted in certain business dealings with its subsidiaries. (transaction_affiliates)\n",
    "subordinated_debt_issuance\tChar\tRestricts issuance of junior or subordinated debt. (subordinated_debt_issuance)\n",
    "stock_transfer_sale_disp\tChar\tRestricts the issuer from transferring, selling, or disposing of its own common stock or the common stock of a subsidiary. (stock_transfer_sale_disp)\n",
    "stock_issuance_issuer\tChar\tRestricts issuer from issuing additional common stock. (stock_issuance_issuer)\n",
    "senior_debt_issuance\tChar\tRestricts issuer to the amount of senior debt it may issue in the future. (senior_debt_issuance)\n",
    "sales_leaseback_is\tChar\tRestricts issuer to the type or amount of property used in a sale leaseback transaction and may restrict its use of the proceeds of the sale. (sales_leaseback_is)\n",
    "sale_assets\tChar\tRestrictions on the ability of an issuer to sell assets or restrictions on the issuers use of the proceeds from the sale of assets. (sale_assets)\n",
    "restricted_payments\tChar\tRestricts issuers freedom to make payments (other than dividend related payments) to shareholders and others. (restricted_payments)\n",
    "net_earnings_test_issuance\tChar\tTo issue additional debt the issuer must have achieved or maintained certain profitability levels. (net_earnings_test_issuance)\n",
    "maintenance_net_worth\tChar\tIssuer must maintain a minimum specified net worth. (maintenance_net_worth)\n",
    "liens_is\tChar\tIn the case of default, the bondholders have the legal right to sell mortgaged property to satisfy their unpaid obligations. (liens_is)\n",
    "leverage_test_is\tChar\tRestricts total-indebtedness of the issuer. (leverage_test_is)\n",
    "investments\tChar\tRestricts issuers investment policy to prevent risky investments. (investments)\n",
    "indebtedness_is\tChar\tRestricts user from incurring additional debt with limits on absolute dollar amount of debt outstanding or percentage total capital. (indebtedness_is)\n",
    "funded_debt_is\tChar\tRestricts issuer from issuing additional funded debt. (funded_debt_is)\n",
    "fixed_charge_coverage_is\tChar\tIssuer is required to have a ratio of earnings available for fixed charges, of at least a minimum specified level. (fixed_charge_coverage_is)\n",
    "dividends_related_payments_is\tChar\tPayments made to shareholders or other entities may be limited to a certain percentage of net income or some other ratio. (dividends_related_payments_is)\n",
    "consolidation_merger\tChar\tA consolidation or merger of the issuer with another entity is restricted. (consolidation_merger)\n",
    "subsidiary_redesignation\tChar\tIndicates if restricted subsidiaries may be reclassified as an unrestricted subsidiaries. (subsidiary_redesignation)\n",
    "subsidiary_guarantee\tChar\tSubsidiary is restricted from issuing guarantees for the payment of interest and/or principal of certain debt obligations. (subsidiary_guarantee)\n",
    "stock_issuance\tChar\tRestricts issuer from issuing additional common stock in restricted subsidiaries. (stock_issuance)\n",
    "sales_leaseback_sub\tChar\tRestricts subsidiaries from selling then leasing back assets that provide security for the debtholder. (sales_leaseback_sub)\n",
    "sale_xfer_assets_unrestricted\tChar\tIssuer must use proceeds from sale of subsidiaries assets to reduce debt. (sale_xfer_assets_unrestricted)\n",
    "preferred_stock_issuance\tChar\tRestricts subsidiaries ability to issue preferred stock. (preferred_stock_issuance)\n",
    "liens_sub\tChar\tRestricts subsidiaries from acquiring liens on their property. (liens_sub)\n",
    "leverage_test_sub\tChar\tLimits subsidiaries leverage. (leverage_test_sub)\n",
    "investments_unrestricted_subs\tChar\tRestricts subsidiaries investments. (investments_unrestricted_subs)\n",
    "indebtedness_sub\tChar\tRestricts the total indebtedness of the subsidiaries. (indebtedness_sub)\n",
    "funded_debt_sub\tChar\tRestricts issuers subsidiaries from issuing additional funded debt. (funded_debt_sub)\n",
    "fixed_charge_coverage_sub\tChar\tSubsidiaries are required to maintain a minimum ratio of net income to fixed charges. (fixed_charge_coverage_sub)\n",
    "dividends_related_payments_sub\tChar\tLimits the subsidiaries payment of dividends to a certain percentage of net income or some other ratio. (dividends_related_payments_sub)\n",
    "borrowing_restricted\tChar\tIndicates subsidiaries are restricted from borrowing, except from parent. (borrowing_restricted)\"\"\""
   ]
  },
  {
   "cell_type": "markdown",
   "id": "43e9bfd5-6870-443b-9b83-63c59ee5909c",
   "metadata": {},
   "source": [
    "## Loading TRACE Enhanced Clean Data"
   ]
  },
  {
   "cell_type": "code",
   "execution_count": 12,
   "id": "107ff5fc-5d4e-4f76-882c-abdb14bea298",
   "metadata": {},
   "outputs": [],
   "source": [
    "trace_df_raw = spark.read.csv(\"trace_enhanced_clean_data.csv\",header=True,inferSchema=False)\n",
    "trace_df_raw_cols = [x.lower() for x in trace_df_raw.columns]"
   ]
  },
  {
   "cell_type": "code",
   "execution_count": 13,
   "id": "1b1b3e8a-c4d4-4916-878e-0588f7930d9c",
   "metadata": {},
   "outputs": [],
   "source": [
    "trace_schema, trace_spark_dtype_dict, trace_wrds_dtype_dict = get_spark_schema(trace_df_raw_cols,\n",
    "                                                                               trace_enhanced_dtype_str_dirty,\n",
    "                                                                               force_custom=True)"
   ]
  },
  {
   "cell_type": "code",
   "execution_count": 14,
   "id": "a339fec7-d40f-46f8-bc50-56f4d71470ba",
   "metadata": {},
   "outputs": [],
   "source": [
    "trace_df = spark.read.csv(\"trace_enhanced_clean_data.csv\",schema=trace_schema,header=True)"
   ]
  },
  {
   "cell_type": "code",
   "execution_count": 15,
   "id": "fae0d5a3-2c72-489b-8e92-30ceec9bd94d",
   "metadata": {},
   "outputs": [],
   "source": [
    "trace_spark_dtype_str_dict = spark_dtype_to_str_map(trace_spark_dtype_dict,0)\n",
    "with open(\"trace_spark_dtype_dict.json\",\"w\") as file:\n",
    "    json.dump(trace_spark_dtype_str_dict,file)"
   ]
  },
  {
   "cell_type": "code",
   "execution_count": 16,
   "id": "abe03fe1-1363-4d7a-85ce-85febc6e5955",
   "metadata": {},
   "outputs": [
    {
     "data": {
      "text/plain": [
       "333"
      ]
     },
     "execution_count": 16,
     "metadata": {},
     "output_type": "execute_result"
    }
   ],
   "source": [
    "trace_df.rdd.getNumPartitions()"
   ]
  },
  {
   "cell_type": "markdown",
   "id": "307d8176-b679-4a6f-bdcf-42459fe18810",
   "metadata": {},
   "source": [
    "## Loading Mergent Bond Issue Data"
   ]
  },
  {
   "cell_type": "code",
   "execution_count": 36,
   "id": "61198d04-a798-4fdf-bed1-d1b14274868f",
   "metadata": {},
   "outputs": [],
   "source": [
    "mergent_df_raw = spark.read.csv(\"fisd_bond_issue_data.csv\",header=True,inferSchema=False)\n",
    "mergent_df_raw_cols = [x.lower() for x in mergent_df_raw.columns]"
   ]
  },
  {
   "cell_type": "code",
   "execution_count": 37,
   "id": "5a2d0629-1e5e-451a-933e-6da9fbaccf1f",
   "metadata": {},
   "outputs": [],
   "source": [
    "mergent_schema, mergent_spark_dtype_dict, mergent_wrds_dtype_dict = get_spark_schema(mergent_df_raw_cols, \n",
    "                                                                                     mergent_bond_issue_dtype_str_dirty,\n",
    "                                                                                     force_custom=True)"
   ]
  },
  {
   "cell_type": "code",
   "execution_count": 19,
   "id": "51c7d8c5-4cc9-4fef-b578-c06a129e4d41",
   "metadata": {},
   "outputs": [],
   "source": [
    "mergent_df = spark.read.csv(\"fisd_bond_issue_data.csv\",schema=mergent_schema,header=True)"
   ]
  },
  {
   "cell_type": "code",
   "execution_count": 38,
   "id": "c9c79ae1-23e4-497e-8c3d-2227c849fcf3",
   "metadata": {},
   "outputs": [],
   "source": [
    "mergent_spark_dtype_str_dict = spark_dtype_to_str_map(mergent_spark_dtype_dict,0)\n",
    "with open(\"mergent_spark_dtype_dict.json\",\"w\") as file:\n",
    "    json.dump(mergent_spark_dtype_str_dict,file)"
   ]
  },
  {
   "cell_type": "code",
   "execution_count": 21,
   "id": "9a70f026-fefe-45b1-a216-81784d864bb1",
   "metadata": {},
   "outputs": [
    {
     "data": {
      "text/plain": [
       "16"
      ]
     },
     "execution_count": 21,
     "metadata": {},
     "output_type": "execute_result"
    }
   ],
   "source": [
    "mergent_df.rdd.getNumPartitions()"
   ]
  },
  {
   "cell_type": "markdown",
   "id": "0bf0bf6e-ebbf-4cd4-9bc7-c62c30e80721",
   "metadata": {},
   "source": [
    "## Filters proposed by Binsbergen, et al. (2023)"
   ]
  },
  {
   "cell_type": "markdown",
   "id": "7eed37a1-4f37-4545-a020-2b09a0fe895e",
   "metadata": {},
   "source": [
    "### Statistics of TRACE features"
   ]
  },
  {
   "cell_type": "code",
   "execution_count": 27,
   "id": "032578b8-8e7c-41f8-8dfe-572c5b7d5054",
   "metadata": {},
   "outputs": [
    {
     "data": {
      "text/plain": [
       "274781255"
      ]
     },
     "execution_count": 27,
     "metadata": {},
     "output_type": "execute_result"
    }
   ],
   "source": [
    "trace_df.count()"
   ]
  },
  {
   "cell_type": "code",
   "execution_count": 155,
   "id": "19b6853f-7d52-4cf7-82a1-d196e70ec739",
   "metadata": {},
   "outputs": [
    {
     "name": "stdout",
     "output_type": "stream",
     "text": [
      "+------+---------+\n",
      "|wis_fl|    count|\n",
      "+------+---------+\n",
      "|     Y|    14374|\n",
      "|     N|274766881|\n",
      "+------+---------+\n",
      "\n",
      "+-----------+---------+\n",
      "|spcl_trd_fl|    count|\n",
      "+-----------+---------+\n",
      "|       NULL|274515574|\n",
      "|          Y|   265681|\n",
      "+-----------+---------+\n",
      "\n",
      "+-----------+---------+\n",
      "|lckd_in_ind|    count|\n",
      "+-----------+---------+\n",
      "|       NULL|269001182|\n",
      "|          Y|  5780073|\n",
      "+-----------+---------+\n",
      "\n"
     ]
    }
   ],
   "source": [
    "for col in [\"wis_fl\", \"spcl_trd_fl\", \"lckd_in_ind\"]:\n",
    "    trace_df.groupBy(col).count().show()"
   ]
  },
  {
   "cell_type": "code",
   "execution_count": 159,
   "id": "5f96fa9a-fd67-4e2e-9ecd-da61ff32214f",
   "metadata": {},
   "outputs": [
    {
     "name": "stdout",
     "output_type": "stream",
     "text": [
      "+-------+-------------------+\n",
      "|summary|    days_to_sttl_ct|\n",
      "+-------+-------------------+\n",
      "|  count|           72400787|\n",
      "|   mean|0.12488955403205769|\n",
      "| stddev|  0.858996748297732|\n",
      "|    min|                  0|\n",
      "|    max|                 60|\n",
      "+-------+-------------------+\n",
      "\n"
     ]
    }
   ],
   "source": [
    "trace_df.select(\"days_to_sttl_ct\").describe().show()"
   ]
  },
  {
   "cell_type": "code",
   "execution_count": 15,
   "id": "80930ef2-4158-4485-bc36-e1472facb1d1",
   "metadata": {},
   "outputs": [
    {
     "data": {
      "text/plain": [
       "202380468"
      ]
     },
     "execution_count": 15,
     "metadata": {},
     "output_type": "execute_result"
    }
   ],
   "source": [
    "trace_df.select(F.sum(F.col(\"days_to_sttl_ct\").isNull().cast(\"int\"))).collect()[0][0]"
   ]
  },
  {
   "cell_type": "code",
   "execution_count": 21,
   "id": "8ae8ee5d-3ceb-4f27-a9eb-b30f87e7c9b0",
   "metadata": {},
   "outputs": [
    {
     "data": {
      "text/plain": [
       "202380468"
      ]
     },
     "execution_count": 21,
     "metadata": {},
     "output_type": "execute_result"
    }
   ],
   "source": [
    "trace_df_raw.select(F.sum(F.col(\"days_to_sttl_ct\").isNull().cast(\"int\"))).collect()[0][0]"
   ]
  },
  {
   "cell_type": "code",
   "execution_count": 18,
   "id": "14918590-2033-4b45-a94b-ac924e0010df",
   "metadata": {
    "scrolled": true
   },
   "outputs": [
    {
     "name": "stdout",
     "output_type": "stream",
     "text": [
      "+---------------+\n",
      "|days_to_sttl_ct|\n",
      "+---------------+\n",
      "|31             |\n",
      "|28             |\n",
      "|27             |\n",
      "|26             |\n",
      "|44             |\n",
      "|12             |\n",
      "|22             |\n",
      "|47             |\n",
      "|13             |\n",
      "|6              |\n",
      "|16             |\n",
      "|40             |\n",
      "|20             |\n",
      "|5              |\n",
      "|19             |\n",
      "|41             |\n",
      "|15             |\n",
      "|43             |\n",
      "|9              |\n",
      "|17             |\n",
      "|35             |\n",
      "|4              |\n",
      "|8              |\n",
      "|23             |\n",
      "|39             |\n",
      "|7              |\n",
      "|10             |\n",
      "|45             |\n",
      "|38             |\n",
      "|25             |\n",
      "|24             |\n",
      "|29             |\n",
      "|21             |\n",
      "|32             |\n",
      "|11             |\n",
      "|14             |\n",
      "|42             |\n",
      "|2              |\n",
      "|30             |\n",
      "|0              |\n",
      "|18             |\n",
      "|36             |\n",
      "|52             |\n",
      "|54             |\n",
      "|37             |\n",
      "|33             |\n",
      "|53             |\n",
      "|34             |\n",
      "|48             |\n",
      "|50             |\n",
      "|46             |\n",
      "|60             |\n",
      "|56             |\n",
      "|57             |\n",
      "|58             |\n",
      "|55             |\n",
      "|59             |\n",
      "|49             |\n",
      "|51             |\n",
      "|NULL           |\n",
      "+---------------+\n",
      "\n"
     ]
    }
   ],
   "source": [
    "trace_df.select(\"days_to_sttl_ct\").distinct().show(60, truncate=False)"
   ]
  },
  {
   "cell_type": "code",
   "execution_count": 161,
   "id": "1543def6-e942-4c8e-a134-cd575ac34060",
   "metadata": {},
   "outputs": [
    {
     "name": "stdout",
     "output_type": "stream",
     "text": [
      "+-------------+-----------+\n",
      "|Earliest Date|Latest Date|\n",
      "+-------------+-----------+\n",
      "|   2002-07-01| 2024-03-28|\n",
      "+-------------+-----------+\n",
      "\n"
     ]
    }
   ],
   "source": [
    "trace_df.select(F.min(\"trd_exctn_dt\").alias(\"Earliest Date\"),\n",
    "                F.max(\"trd_exctn_dt\").alias(\"Latest Date\")).show()"
   ]
  },
  {
   "cell_type": "code",
   "execution_count": 16,
   "id": "efa002ec-7a89-40b8-97a8-226043cf0d70",
   "metadata": {},
   "outputs": [
    {
     "data": {
      "text/plain": [
       "0"
      ]
     },
     "execution_count": 16,
     "metadata": {},
     "output_type": "execute_result"
    }
   ],
   "source": [
    "trace_df.select(F.sum(F.col(\"trd_exctn_dt\").isNull().cast(\"int\"))).collect()[0][0]"
   ]
  },
  {
   "cell_type": "code",
   "execution_count": 26,
   "id": "1229f6af-3dfe-454f-9845-f765630aa177",
   "metadata": {},
   "outputs": [
    {
     "name": "stdout",
     "output_type": "stream",
     "text": [
      "+-------------+-----------+\n",
      "|Earliest Date|Latest Date|\n",
      "+-------------+-----------+\n",
      "|   2008-10-07| 5018-04-22|\n",
      "+-------------+-----------+\n",
      "\n"
     ]
    }
   ],
   "source": [
    "trace_df.filter(F.col(\"stlmnt_dt\") != \"9999-12-31\").select(F.min(\"stlmnt_dt\").alias(\"Earliest Date\"),\n",
    "                                                           F.max(\"stlmnt_dt\").alias(\"Latest Date\")\n",
    "                                                          ).show()\n"
   ]
  },
  {
   "cell_type": "code",
   "execution_count": 25,
   "id": "4b9d8cca-2a18-42b3-8a67-c468424ba15e",
   "metadata": {},
   "outputs": [
    {
     "name": "stdout",
     "output_type": "stream",
     "text": [
      "+-------------+-----------+\n",
      "|Earliest Date|Latest Date|\n",
      "+-------------+-----------+\n",
      "|   2008-10-07| 9999-12-31|\n",
      "+-------------+-----------+\n",
      "\n"
     ]
    }
   ],
   "source": [
    "trace_df.select(F.min(\"stlmnt_dt\").alias(\"Earliest Date\"),\n",
    "                F.max(\"stlmnt_dt\").alias(\"Latest Date\")).show()"
   ]
  },
  {
   "cell_type": "code",
   "execution_count": 27,
   "id": "8805abd9-24d5-4b8d-88bc-d7957286ce67",
   "metadata": {},
   "outputs": [
    {
     "name": "stdout",
     "output_type": "stream",
     "text": [
      "+----------+\n",
      "|stlmnt_dt |\n",
      "+----------+\n",
      "|5018-04-22|\n",
      "|3021-10-12|\n",
      "|2929-12-21|\n",
      "|2916-12-28|\n",
      "|2520-06-05|\n",
      "|2222-12-19|\n",
      "|2217-08-18|\n",
      "|2202-10-23|\n",
      "|2202-06-02|\n",
      "|2202-05-22|\n",
      "+----------+\n",
      "only showing top 10 rows\n",
      "\n"
     ]
    }
   ],
   "source": [
    "trace_df.filter(F.col(\"stlmnt_dt\") != \"9999-12-31\") \\\n",
    "       .select(\"stlmnt_dt\") \\\n",
    "       .distinct() \\\n",
    "       .orderBy(F.desc(\"stlmnt_dt\")) \\\n",
    "       .show(10, False)\n"
   ]
  },
  {
   "cell_type": "code",
   "execution_count": 24,
   "id": "7bc8bbcf-1ef1-4404-86e8-c1058813fc00",
   "metadata": {},
   "outputs": [
    {
     "data": {
      "text/plain": [
       "72400787"
      ]
     },
     "execution_count": 24,
     "metadata": {},
     "output_type": "execute_result"
    }
   ],
   "source": [
    "trace_df.select(F.sum(F.col(\"stlmnt_dt\").isNull().cast(\"int\"))).collect()[0][0]"
   ]
  },
  {
   "cell_type": "code",
   "execution_count": 57,
   "id": "2b11a785-8a58-45d5-bfe8-3c70e80ce15e",
   "metadata": {},
   "outputs": [
    {
     "name": "stdout",
     "output_type": "stream",
     "text": [
      "+-------------+---------+\n",
      "|scrty_type_cd|count    |\n",
      "+-------------+---------+\n",
      "|E            |1176390  |\n",
      "|C            |71224397 |\n",
      "|NULL         |202380468|\n",
      "+-------------+---------+\n",
      "\n"
     ]
    }
   ],
   "source": [
    "trace_df.groupBy(\"scrty_type_cd\").count().show(60, truncate=False)"
   ]
  },
  {
   "cell_type": "code",
   "execution_count": 58,
   "id": "5f6ec14e-3460-40aa-96fa-a6267d9af39b",
   "metadata": {},
   "outputs": [
    {
     "name": "stdout",
     "output_type": "stream",
     "text": [
      "+-----------+---------+\n",
      "|trdg_mkt_cd|count    |\n",
      "+-----------+---------+\n",
      "|P1         |18352267 |\n",
      "|S1         |256428988|\n",
      "+-----------+---------+\n",
      "\n"
     ]
    }
   ],
   "source": [
    "trace_df.groupBy(\"trdg_mkt_cd\").count().show(60, truncate=False)"
   ]
  },
  {
   "cell_type": "code",
   "execution_count": 90,
   "id": "46463a60-9e55-4782-85f1-e421e49a6208",
   "metadata": {},
   "outputs": [
    {
     "name": "stdout",
     "output_type": "stream",
     "text": [
      "+---------+---------+\n",
      "|dissem_fl|count    |\n",
      "+---------+---------+\n",
      "|Y        |242753067|\n",
      "|N        |32028188 |\n",
      "+---------+---------+\n",
      "\n"
     ]
    }
   ],
   "source": [
    "trace_df.groupBy(\"dissem_fl\").count().show(60, truncate=False)"
   ]
  },
  {
   "cell_type": "markdown",
   "id": "3670ea91-5f60-4936-a025-d7b095e98305",
   "metadata": {},
   "source": [
    "### TRACE Data Filtering"
   ]
  },
  {
   "cell_type": "code",
   "execution_count": 22,
   "id": "391304d3-006d-41a2-8486-ef1b701929c4",
   "metadata": {},
   "outputs": [],
   "source": [
    "when_issued_filter = F.col(\"wis_fl\") != \"Y\"\n",
    "special_filter = (F.col(\"spcl_trd_fl\") != \"Y\") | F.col(\"spcl_trd_fl\").isNull()\n",
    "locked_in_filter = (F.col(\"lckd_in_ind\") != \"Y\") | F.col(\"lckd_in_ind\").isNull()\n",
    "pre_2012_sub_filter = F.year(\"trd_exctn_dt\") < 2012\n",
    "days_to_settle_sub_filter = (F.col(\"days_to_sttl_ct\") > 2) & F.col(\"days_to_sttl_ct\").isNotNull()\n",
    "pre_2012_days_to_settle_filter = ~(pre_2012_sub_filter & days_to_settle_sub_filter)\n",
    "corporate_bond_filter = ~((F.col(\"scrty_type_cd\")==\"E\") & F.col(\"scrty_type_cd\").isNotNull())\n",
    "secondary_market_filter = F.col(\"trdg_mkt_cd\")==\"S1\"\n",
    "disseminated_filter = F.col(\"dissem_fl\")==\"Y\""
   ]
  },
  {
   "cell_type": "raw",
   "id": "82a65c08-bc5e-4eef-96d5-3756803aa1c2",
   "metadata": {
    "jupyter": {
     "source_hidden": true
    }
   },
   "source": [
    "trace_df_filtered = trace_df\n",
    "print(\"Initial Count:\", trace_df_filtered.count())\n",
    "\n",
    "for filter_ in [when_issued_filter, special_filter, locked_in_filter, pre_2012_days_to_settle_filter]:\n",
    "\n",
    "    trace_df_filtered = trace_df_filtered.filter(filter_)\n",
    "    print(f\"After {filter_}:\", trace_df_filtered.count())\n"
   ]
  },
  {
   "cell_type": "code",
   "execution_count": 23,
   "id": "9605c17c-f2f6-4596-8365-d08380997546",
   "metadata": {},
   "outputs": [],
   "source": [
    "trace_df_filtered = trace_df.filter(\n",
    "    when_issued_filter &\n",
    "    special_filter &\n",
    "    locked_in_filter &\n",
    "    pre_2012_days_to_settle_filter &\n",
    "    corporate_bond_filter &\n",
    "    secondary_market_filter &\n",
    "    disseminated_filter\n",
    ")"
   ]
  },
  {
   "cell_type": "markdown",
   "id": "734c4cb8-657b-49e4-a602-a28736c2d46e",
   "metadata": {},
   "source": [
    "### Statistics of Mergent features"
   ]
  },
  {
   "cell_type": "code",
   "execution_count": 28,
   "id": "1d0b71b1-cf8c-4359-b64e-d6987ca16a0e",
   "metadata": {},
   "outputs": [
    {
     "data": {
      "text/plain": [
       "652658"
      ]
     },
     "execution_count": 28,
     "metadata": {},
     "output_type": "execute_result"
    }
   ],
   "source": [
    "mergent_df.count()"
   ]
  },
  {
   "cell_type": "code",
   "execution_count": 31,
   "id": "190eb809-b836-48a8-afc5-c3ee073cb505",
   "metadata": {
    "scrolled": true
   },
   "outputs": [
    {
     "name": "stdout",
     "output_type": "stream",
     "text": [
      "+----------------+------+\n",
      "|country_domicile|count |\n",
      "+----------------+------+\n",
      "|POL             |39    |\n",
      "|JAM             |20    |\n",
      "|BRA             |538   |\n",
      "|FRA             |3165  |\n",
      "|URY             |37    |\n",
      "|ITA             |249   |\n",
      "|IOT             |2     |\n",
      "|HRV             |12    |\n",
      "|BHS             |134   |\n",
      "|GBR             |77439 |\n",
      "|ROM             |24    |\n",
      "|NULL            |1005  |\n",
      "|BMU             |476   |\n",
      "|AUS             |1297  |\n",
      "|MLT             |7     |\n",
      "|MEX             |629   |\n",
      "|SVK             |8     |\n",
      "|HUN             |27    |\n",
      "|NZL             |91    |\n",
      "|THA             |52    |\n",
      "|NOR             |1189  |\n",
      "|VEN             |72    |\n",
      "|FIN             |167   |\n",
      "|PER             |109   |\n",
      "|NLD             |4138  |\n",
      "|PAK             |14    |\n",
      "|LUX             |754   |\n",
      "|CYM             |2067  |\n",
      "|TUR             |182   |\n",
      "|AUT             |174   |\n",
      "|USA             |495300|\n",
      "|OMN             |22    |\n",
      "|PAN             |152   |\n",
      "|LBR             |35    |\n",
      "|KOR             |587   |\n",
      "|ZAF             |118   |\n",
      "|ISR             |414   |\n",
      "|UMI             |4     |\n",
      "|PRT             |18    |\n",
      "|TUN             |8     |\n",
      "|TWN             |38    |\n",
      "|MYS             |51    |\n",
      "|CHL             |234   |\n",
      "|CAN             |37616 |\n",
      "|COL             |144   |\n",
      "|AIA             |1     |\n",
      "|RUS             |98    |\n",
      "|ARG             |340   |\n",
      "|DNK             |101   |\n",
      "|TTO             |16    |\n",
      "|ESP             |243   |\n",
      "|LBN             |30    |\n",
      "|IRL             |497   |\n",
      "|SWE             |1059  |\n",
      "|ANT             |55    |\n",
      "|SVN             |8     |\n",
      "|ECU             |13    |\n",
      "|GRC             |63    |\n",
      "|SGP             |177   |\n",
      "|IND             |103   |\n",
      "+----------------+------+\n",
      "only showing top 60 rows\n",
      "\n",
      "+------------+------+\n",
      "|asset_backed|count |\n",
      "+------------+------+\n",
      "|Y           |1090  |\n",
      "|N           |650553|\n",
      "|NULL        |1015  |\n",
      "+------------+------+\n",
      "\n",
      "+-----------+------+\n",
      "|convertible|count |\n",
      "+-----------+------+\n",
      "|Y          |6267  |\n",
      "|N          |645379|\n",
      "|NULL       |1012  |\n",
      "+-----------+------+\n",
      "\n",
      "+-----------+------+\n",
      "|coupon_type|count |\n",
      "+-----------+------+\n",
      "|F          |317012|\n",
      "|V          |195818|\n",
      "|Z          |139797|\n",
      "|NULL       |31    |\n",
      "+-----------+------+\n",
      "\n",
      "+-----------------+------+\n",
      "|private_placement|count |\n",
      "+-----------------+------+\n",
      "|Y                |2480  |\n",
      "|N                |649274|\n",
      "|NULL             |904   |\n",
      "+-----------------+------+\n",
      "\n",
      "+---------+------+\n",
      "|rule_144a|count |\n",
      "+---------+------+\n",
      "|Y        |32769 |\n",
      "|N        |619889|\n",
      "+---------+------+\n",
      "\n",
      "+-------------+------+\n",
      "|sec_reg_type1|count |\n",
      "+-------------+------+\n",
      "|S-16         |2     |\n",
      "|S-9          |4     |\n",
      "|F-3          |1084  |\n",
      "|NA           |15907 |\n",
      "|F-2          |4     |\n",
      "|S-2          |164   |\n",
      "|S-11         |40    |\n",
      "|F-1          |130   |\n",
      "|R-1          |19    |\n",
      "|S-1          |797   |\n",
      "|S-10         |1     |\n",
      "|F-9          |140   |\n",
      "|NR           |249437|\n",
      "|S-8          |42    |\n",
      "|S-7          |5     |\n",
      "|F-10         |148   |\n",
      "|S-14         |1     |\n",
      "|RBNA         |364445|\n",
      "|S-3          |12369 |\n",
      "|S-4          |4166  |\n",
      "|F-8          |7     |\n",
      "|F-4          |546   |\n",
      "|SB-2         |12    |\n",
      "|NULL         |9     |\n",
      "|NULL         |2265  |\n",
      "|RS           |899   |\n",
      "|S-13         |1     |\n",
      "|RB           |1     |\n",
      "|F-6          |12    |\n",
      "|S-5          |1     |\n",
      "+-------------+------+\n",
      "\n",
      "+-------------+------+\n",
      "|sec_reg_type2|count |\n",
      "+-------------+------+\n",
      "|F-3          |1     |\n",
      "|NA           |643033|\n",
      "|NULL         |9416  |\n",
      "|S-1          |1     |\n",
      "|NR           |186   |\n",
      "|F-10         |2     |\n",
      "|A            |1     |\n",
      "|S-3          |15    |\n",
      "|NULL         |3     |\n",
      "+-------------+------+\n",
      "\n"
     ]
    }
   ],
   "source": [
    "for col in [\"country_domicile\",\"asset_backed\",\"convertible\",\"coupon_type\",\"private_placement\", \"rule_144a\", \"sec_reg_type1\",\"sec_reg_type2\"]:\n",
    "    mergent_df.groupBy(col).count().show(60, truncate=False)"
   ]
  },
  {
   "cell_type": "code",
   "execution_count": 117,
   "id": "268ec6ea-b99d-4ed0-b3c0-6c442748176a",
   "metadata": {},
   "outputs": [
    {
     "name": "stdout",
     "output_type": "stream",
     "text": [
      "+-------+------------------+-----------------+\n",
      "|summary|        naics_code|         sic_code|\n",
      "+-------+------------------+-----------------+\n",
      "|  count|            641191|           644130|\n",
      "|   mean|308310.54020252934|5948.802502600407|\n",
      "| stddev|227883.56665440486|843.0790110473203|\n",
      "|    min|             11119|              100|\n",
      "|    max|            928110|             9999|\n",
      "+-------+------------------+-----------------+\n",
      "\n"
     ]
    }
   ],
   "source": [
    "mergent_df.select(\"naics_code\",\"sic_code\").describe().show()"
   ]
  },
  {
   "cell_type": "code",
   "execution_count": 28,
   "id": "d4535ed6-9f54-4be1-b263-bd727d464c7f",
   "metadata": {},
   "outputs": [
    {
     "data": {
      "text/plain": [
       "11467"
      ]
     },
     "execution_count": 28,
     "metadata": {},
     "output_type": "execute_result"
    }
   ],
   "source": [
    "mergent_df.select(F.sum(F.col(\"naics_code\").isNull().cast(\"int\"))).collect()[0][0]"
   ]
  },
  {
   "cell_type": "code",
   "execution_count": 29,
   "id": "10aed8dc-3184-4628-8bb1-3f0fc47ff70f",
   "metadata": {},
   "outputs": [
    {
     "data": {
      "text/plain": [
       "8528"
      ]
     },
     "execution_count": 29,
     "metadata": {},
     "output_type": "execute_result"
    }
   ],
   "source": [
    "mergent_df.select(F.sum(F.col(\"sic_code\").isNull().cast(\"int\"))).collect()[0][0]"
   ]
  },
  {
   "cell_type": "code",
   "execution_count": 18,
   "id": "8400d387-b637-4379-888b-a13dcf12d29a",
   "metadata": {
    "scrolled": true
   },
   "outputs": [
    {
     "name": "stdout",
     "output_type": "stream",
     "text": [
      "+--------+------+\n",
      "|currency|count |\n",
      "+--------+------+\n",
      "|NZD     |65    |\n",
      "|GBP     |643   |\n",
      "|CZK     |87    |\n",
      "|NULL    |645739|\n",
      "|ARS     |8     |\n",
      "|CAD     |2104  |\n",
      "|ZAR     |109   |\n",
      "|AUD     |121   |\n",
      "|JPY     |347   |\n",
      "|FRF     |5     |\n",
      "|HKD     |31    |\n",
      "|PHP     |3     |\n",
      "|MXN     |13    |\n",
      "|GRD     |20    |\n",
      "|DEM     |57    |\n",
      "|ITL     |51    |\n",
      "|DKK     |19    |\n",
      "|CHF     |77    |\n",
      "|RUB     |31    |\n",
      "|EUR     |2766  |\n",
      "|PTE     |2     |\n",
      "|NOK     |90    |\n",
      "|CLP     |4     |\n",
      "|LUF     |2     |\n",
      "|PLN     |89    |\n",
      "|SKK     |17    |\n",
      "|SEK     |18    |\n",
      "|SGD     |16    |\n",
      "|HUF     |19    |\n",
      "|NLG     |2     |\n",
      "|LTL     |2     |\n",
      "|COP     |5     |\n",
      "|UYU     |9     |\n",
      "|TRL     |1     |\n",
      "|SIT     |1     |\n",
      "|BRL     |53    |\n",
      "|USD     |1     |\n",
      "|EGP     |3     |\n",
      "|ISK     |1     |\n",
      "|INR     |5     |\n",
      "|IDR     |4     |\n",
      "|CNY     |3     |\n",
      "|GHC     |1     |\n",
      "|XEU     |9     |\n",
      "|DOP     |1     |\n",
      "|PEN     |1     |\n",
      "|UZS     |1     |\n",
      "|JMD     |2     |\n",
      "+--------+------+\n",
      "\n"
     ]
    }
   ],
   "source": [
    "mergent_df.groupBy(\"currency\").count().show(60, truncate=False)"
   ]
  },
  {
   "cell_type": "code",
   "execution_count": 19,
   "id": "ed94fe93-d948-498d-93b5-43559f866757",
   "metadata": {
    "scrolled": true
   },
   "outputs": [
    {
     "name": "stdout",
     "output_type": "stream",
     "text": [
      "+------------+-----+\n",
      "|denomination|count|\n",
      "+------------+-----+\n",
      "|25/1        |599  |\n",
      "|1.254/1.2   |6    |\n",
      "|100/5       |23204|\n",
      "|200/1       |3659 |\n",
      "|5000/5000   |4    |\n",
      "|100/50      |7    |\n",
      "|300/1       |5    |\n",
      "|NULL        |672  |\n",
      "|150/1       |386  |\n",
      "|100/25      |1    |\n",
      "|100/10      |102  |\n",
      "|50/1        |706  |\n",
      "|250/50      |52   |\n",
      "|101/1       |2    |\n",
      "|8/1         |1    |\n",
      "|1000/10     |1    |\n",
      "|10/10       |299  |\n",
      "|1000/1000   |24   |\n",
      "|5/5         |2819 |\n",
      "|100/100     |242  |\n",
      "|100000/1    |5    |\n",
      "|1000/1      |35   |\n",
      "|10/5        |86251|\n",
      "|.5/.001     |1    |\n",
      "|5000/100    |4    |\n",
      "|25/5        |1    |\n",
      "|15/1        |8    |\n",
      "|1000/500    |1    |\n",
      "|50/5        |7    |\n",
      "|3/1         |3    |\n",
      "|2/2         |31   |\n",
      "|110/1       |4    |\n",
      "|500/1       |41   |\n",
      "|250/250     |45   |\n",
      "|10/1        |13487|\n",
      "|.1/.1       |9    |\n",
      "|250/5       |34   |\n",
      "|250/1       |699  |\n",
      "|5/2         |1    |\n",
      "|250/10      |18   |\n",
      "|100/2       |53   |\n",
      "|.025/.025   |2    |\n",
      "|100/1       |57253|\n",
      "|1000/100    |7    |\n",
      "|2/.25       |14   |\n",
      "|125/1       |3    |\n",
      "|25/25       |27   |\n",
      "|10000/500   |2    |\n",
      "|1000/5      |7    |\n",
      "|5000/1000   |1    |\n",
      "|20/5        |4    |\n",
      "|2/1         |21538|\n",
      "|300/25      |1    |\n",
      "|5/1         |9140 |\n",
      "|1/          |1    |\n",
      "|.5/.5       |3    |\n",
      "|500/100     |1    |\n",
      "|20/20       |18   |\n",
      "|1/.1        |1    |\n",
      "|50/50       |36   |\n",
      "+------------+-----+\n",
      "only showing top 60 rows\n",
      "\n"
     ]
    }
   ],
   "source": [
    "mergent_df.groupBy(\"denomination\").count().show(60, truncate=False)"
   ]
  },
  {
   "cell_type": "code",
   "execution_count": 20,
   "id": "64aefa79-0590-4a20-bebc-df13538085b1",
   "metadata": {},
   "outputs": [
    {
     "name": "stdout",
     "output_type": "stream",
     "text": [
      "+--------------+------+\n",
      "|security_level|count |\n",
      "+--------------+------+\n",
      "|SEN           |531982|\n",
      "|NON           |97157 |\n",
      "|JUNS          |390   |\n",
      "|SENS          |9212  |\n",
      "|SS            |10785 |\n",
      "|SUB           |2629  |\n",
      "|NULL          |487   |\n",
      "|JUN           |16    |\n",
      "+--------------+------+\n",
      "\n"
     ]
    }
   ],
   "source": [
    "mergent_df.groupBy(\"security_level\").count().show(60, truncate=False)"
   ]
  },
  {
   "cell_type": "code",
   "execution_count": 22,
   "id": "42fbdd39-5114-449c-a0ef-601f53b90cf6",
   "metadata": {},
   "outputs": [
    {
     "name": "stdout",
     "output_type": "stream",
     "text": [
      "+------------------+------+\n",
      "|interest_frequency|count |\n",
      "+------------------+------+\n",
      "|-1                |179   |\n",
      "|0                 |139372|\n",
      "|99                |8660  |\n",
      "|NULL              |1443  |\n",
      "|1                 |6331  |\n",
      "|4                 |120817|\n",
      "|12                |82309 |\n",
      "|13                |52    |\n",
      "|2                 |291381|\n",
      "|14                |1332  |\n",
      "|15                |758   |\n",
      "|16                |24    |\n",
      "+------------------+------+\n",
      "\n"
     ]
    }
   ],
   "source": [
    "mergent_df.groupBy(\"interest_frequency\").count().show(60, truncate=False)"
   ]
  },
  {
   "cell_type": "code",
   "execution_count": 23,
   "id": "08b59511-9e46-4e9d-ab55-fdd9daf63bdf",
   "metadata": {},
   "outputs": [
    {
     "name": "stdout",
     "output_type": "stream",
     "text": [
      "+-----------+------+\n",
      "|pay_in_kind|count |\n",
      "+-----------+------+\n",
      "|Y          |546   |\n",
      "|N          |441813|\n",
      "|NULL       |210299|\n",
      "+-----------+------+\n",
      "\n"
     ]
    }
   ],
   "source": [
    "mergent_df.groupBy(\"pay_in_kind\").count().show(60, truncate=False)"
   ]
  },
  {
   "cell_type": "code",
   "execution_count": 24,
   "id": "2085155f-dc78-4aec-bbe2-7a11ed67cbc2",
   "metadata": {},
   "outputs": [
    {
     "name": "stdout",
     "output_type": "stream",
     "text": [
      "+---------------+------+\n",
      "|day_count_basis|count |\n",
      "+---------------+------+\n",
      "|30/360         |590664|\n",
      "|NULL           |4436  |\n",
      "|ACT/360        |44554 |\n",
      "|ACT/365        |2889  |\n",
      "|ACT/ACT        |10088 |\n",
      "|ACT/366        |27    |\n",
      "+---------------+------+\n",
      "\n"
     ]
    }
   ],
   "source": [
    "mergent_df.groupBy(\"day_count_basis\").count().show(60, truncate=False)"
   ]
  },
  {
   "cell_type": "code",
   "execution_count": 27,
   "id": "1a06c47a-3e71-40e2-9f01-704a771e50c3",
   "metadata": {
    "scrolled": true
   },
   "outputs": [
    {
     "name": "stdout",
     "output_type": "stream",
     "text": [
      "+---------+------+\n",
      "|bond_type|count |\n",
      "+---------+------+\n",
      "|CMTZ     |114732|\n",
      "|FGOV     |7277  |\n",
      "|USNT     |1450  |\n",
      "|TPCS     |1376  |\n",
      "|PS       |1571  |\n",
      "|PSTK     |1999  |\n",
      "|IIDX     |106   |\n",
      "|USSI     |1023  |\n",
      "|CZ       |355   |\n",
      "|USBL     |1968  |\n",
      "|CCOV     |6186  |\n",
      "|CLOC     |2     |\n",
      "|USSP     |1362  |\n",
      "|ASPZ     |3935  |\n",
      "|ADEB     |157266|\n",
      "|TXMU     |51    |\n",
      "|USBN     |9594  |\n",
      "|USBD     |178   |\n",
      "|USTC     |126   |\n",
      "|MBS      |77    |\n",
      "|CMTN     |189969|\n",
      "|UCID     |499   |\n",
      "|CPIK     |392   |\n",
      "|AMTN     |39904 |\n",
      "|CDEB     |62381 |\n",
      "|CCUR     |2730  |\n",
      "|EMTN     |2450  |\n",
      "|CPAS     |1778  |\n",
      "|ADNT     |8734  |\n",
      "|CTBD     |158   |\n",
      "|BBON     |34    |\n",
      "|RNT      |26118 |\n",
      "|FGS      |130   |\n",
      "|ARNT     |5865  |\n",
      "|CS       |63    |\n",
      "|CCPI     |3     |\n",
      "|CTBL     |752   |\n",
      "|ABS      |32    |\n",
      "|EBON     |6     |\n",
      "|O3Y      |3     |\n",
      "|O4W      |3     |\n",
      "|O5Y      |2     |\n",
      "|O13W     |1     |\n",
      "|O52W     |1     |\n",
      "|CP       |15    |\n",
      "|O26W     |1     |\n",
      "+---------+------+\n",
      "\n"
     ]
    }
   ],
   "source": [
    "mergent_df.groupBy(\"bond_type\").count().show(60, truncate=False)"
   ]
  },
  {
   "cell_type": "code",
   "execution_count": 28,
   "id": "30b1830f-dabd-4bf8-880d-d980eae78283",
   "metadata": {},
   "outputs": [
    {
     "name": "stdout",
     "output_type": "stream",
     "text": [
      "+-------------+-----------+\n",
      "|Earliest Date|Latest Date|\n",
      "+-------------+-----------+\n",
      "|   1894-10-02| 2030-06-29|\n",
      "+-------------+-----------+\n",
      "\n"
     ]
    }
   ],
   "source": [
    "mergent_df.select(F.min(\"offering_date\").alias(\"Earliest Date\"),\n",
    "                F.max(\"offering_date\").alias(\"Latest Date\")).show()"
   ]
  },
  {
   "cell_type": "code",
   "execution_count": 29,
   "id": "9f5b7c0d-daa4-44bd-81c3-dc2fec2bd99a",
   "metadata": {},
   "outputs": [
    {
     "data": {
      "text/plain": [
       "12863"
      ]
     },
     "execution_count": 29,
     "metadata": {},
     "output_type": "execute_result"
    }
   ],
   "source": [
    "mergent_df.select(F.sum(F.col(\"offering_date\").isNull().cast(\"int\"))).collect()[0][0]"
   ]
  },
  {
   "cell_type": "code",
   "execution_count": 30,
   "id": "f9bd5c04-5311-41e2-8bd1-5fb2258622b6",
   "metadata": {},
   "outputs": [
    {
     "name": "stdout",
     "output_type": "stream",
     "text": [
      "+-------------+-----------+\n",
      "|Earliest Date|Latest Date|\n",
      "+-------------+-----------+\n",
      "|   1990-01-01| 2203-07-02|\n",
      "+-------------+-----------+\n",
      "\n"
     ]
    }
   ],
   "source": [
    "mergent_df.select(F.min(\"maturity\").alias(\"Earliest Date\"),\n",
    "                F.max(\"maturity\").alias(\"Latest Date\")).show()"
   ]
  },
  {
   "cell_type": "code",
   "execution_count": 31,
   "id": "e518cd5b-d0b4-4b76-bf1d-7cc8d553e272",
   "metadata": {},
   "outputs": [
    {
     "data": {
      "text/plain": [
       "2368"
      ]
     },
     "execution_count": 31,
     "metadata": {},
     "output_type": "execute_result"
    }
   ],
   "source": [
    "mergent_df.select(F.sum(F.col(\"maturity\").isNull().cast(\"int\"))).collect()[0][0]"
   ]
  },
  {
   "cell_type": "code",
   "execution_count": 32,
   "id": "bbae928c-326b-41ce-9252-950e057ea274",
   "metadata": {},
   "outputs": [
    {
     "name": "stdout",
     "output_type": "stream",
     "text": [
      "+-------------+-----------+\n",
      "|Earliest Date|Latest Date|\n",
      "+-------------+-----------+\n",
      "|   1894-07-01| 2030-11-13|\n",
      "+-------------+-----------+\n",
      "\n"
     ]
    }
   ],
   "source": [
    "mergent_df.select(F.min(\"dated_date\").alias(\"Earliest Date\"),\n",
    "                F.max(\"dated_date\").alias(\"Latest Date\")).show()"
   ]
  },
  {
   "cell_type": "code",
   "execution_count": 33,
   "id": "2ee4a895-19f9-473c-86ea-ff4d76c6801c",
   "metadata": {},
   "outputs": [
    {
     "data": {
      "text/plain": [
       "17828"
      ]
     },
     "execution_count": 33,
     "metadata": {},
     "output_type": "execute_result"
    }
   ],
   "source": [
    "mergent_df.select(F.sum(F.col(\"dated_date\").isNull().cast(\"int\"))).collect()[0][0]"
   ]
  },
  {
   "cell_type": "code",
   "execution_count": 114,
   "id": "6ebbc756-a1c6-42e3-b034-52d95f5893f2",
   "metadata": {},
   "outputs": [
    {
     "name": "stdout",
     "output_type": "stream",
     "text": [
      "+--------------------+------+\n",
      "|soft_call_make_whole|count |\n",
      "+--------------------+------+\n",
      "|NULL                |607755|\n",
      "|N                   |44833 |\n",
      "|Y                   |70    |\n",
      "+--------------------+------+\n",
      "\n"
     ]
    }
   ],
   "source": [
    "mergent_df.groupBy(\"soft_call_make_whole\").count().show(60, truncate=False)"
   ]
  },
  {
   "cell_type": "code",
   "execution_count": 115,
   "id": "4ba267d7-b79a-4624-8dfa-327f4554083d",
   "metadata": {
    "scrolled": true
   },
   "outputs": [
    {
     "name": "stdout",
     "output_type": "stream",
     "text": [
      "+---------------+------+\n",
      "|convert_on_call|count |\n",
      "+---------------+------+\n",
      "|NULL           |607361|\n",
      "|Y              |810   |\n",
      "|N              |44487 |\n",
      "+---------------+------+\n",
      "\n"
     ]
    }
   ],
   "source": [
    "mergent_df.groupBy(\"convert_on_call\").count().show(60, truncate=False)"
   ]
  },
  {
   "cell_type": "code",
   "execution_count": 116,
   "id": "d92fac95-1028-4511-9d1b-54522d8e9383",
   "metadata": {},
   "outputs": [
    {
     "name": "stdout",
     "output_type": "stream",
     "text": [
      "+---------------------+------+\n",
      "|conv_redemp_exception|count |\n",
      "+---------------------+------+\n",
      "|NULL                 |606329|\n",
      "|Y                    |1257  |\n",
      "|N                    |45072 |\n",
      "+---------------------+------+\n",
      "\n"
     ]
    }
   ],
   "source": [
    "mergent_df.groupBy(\"conv_redemp_exception\").count().show(60, truncate=False)"
   ]
  },
  {
   "cell_type": "code",
   "execution_count": 117,
   "id": "b6e43f06-98f3-419f-abd7-649d6c18602b",
   "metadata": {},
   "outputs": [
    {
     "name": "stdout",
     "output_type": "stream",
     "text": [
      "+----------------+------+\n",
      "|conv_period_spec|count |\n",
      "+----------------+------+\n",
      "|NULL            |606352|\n",
      "|Y               |1327  |\n",
      "|N               |44979 |\n",
      "+----------------+------+\n",
      "\n"
     ]
    }
   ],
   "source": [
    "mergent_df.groupBy(\"conv_period_spec\").count().show(60, truncate=False)"
   ]
  },
  {
   "cell_type": "code",
   "execution_count": 121,
   "id": "012be83a-a680-4a56-b4e0-3956ec72300a",
   "metadata": {},
   "outputs": [
    {
     "name": "stdout",
     "output_type": "stream",
     "text": [
      "+-----+------+\n",
      "|percs|count |\n",
      "+-----+------+\n",
      "|NULL |607823|\n",
      "|N    |44830 |\n",
      "|Y    |5     |\n",
      "+-----+------+\n",
      "\n"
     ]
    }
   ],
   "source": [
    "mergent_df.groupBy(\"percs\").count().show(60, truncate=False)"
   ]
  },
  {
   "cell_type": "code",
   "execution_count": 122,
   "id": "d32895ed-ad3f-4483-bc24-3a24c13fd11a",
   "metadata": {},
   "outputs": [
    {
     "name": "stdout",
     "output_type": "stream",
     "text": [
      "+----+------+\n",
      "|peps|count |\n",
      "+----+------+\n",
      "|NULL|607731|\n",
      "|Y   |173   |\n",
      "|N   |44754 |\n",
      "+----+------+\n",
      "\n"
     ]
    }
   ],
   "source": [
    "mergent_df.groupBy(\"peps\").count().show(60, truncate=False)"
   ]
  },
  {
   "cell_type": "code",
   "execution_count": 123,
   "id": "40cbe652-6cd1-4cc2-bb62-02743578a7c6",
   "metadata": {},
   "outputs": [
    {
     "name": "stdout",
     "output_type": "stream",
     "text": [
      "+-------------------+------+\n",
      "|dilution_protection|count |\n",
      "+-------------------+------+\n",
      "|NULL               |586163|\n",
      "|Y                  |66406 |\n",
      "|N                  |89    |\n",
      "+-------------------+------+\n",
      "\n"
     ]
    }
   ],
   "source": [
    "mergent_df.groupBy(\"dilution_protection\").count().show(60, truncate=False)"
   ]
  },
  {
   "cell_type": "code",
   "execution_count": 124,
   "id": "75e721c1-3d90-438b-a8cd-c67e0b872f82",
   "metadata": {},
   "outputs": [
    {
     "name": "stdout",
     "output_type": "stream",
     "text": [
      "+----------------------+------+\n",
      "|conditional_conv_terms|count |\n",
      "+----------------------+------+\n",
      "|NULL                  |606696|\n",
      "|N                     |43927 |\n",
      "|Y                     |2035  |\n",
      "+----------------------+------+\n",
      "\n"
     ]
    }
   ],
   "source": [
    "mergent_df.groupBy(\"conditional_conv_terms\").count().show(60, truncate=False)"
   ]
  },
  {
   "cell_type": "code",
   "execution_count": 125,
   "id": "f1484deb-d478-40b2-838d-624c28eb1be8",
   "metadata": {},
   "outputs": [
    {
     "name": "stdout",
     "output_type": "stream",
     "text": [
      "+--------------------+------+\n",
      "|date_subj_adjustment|count |\n",
      "+--------------------+------+\n",
      "|NULL                |652628|\n",
      "|Y                   |11    |\n",
      "|N                   |19    |\n",
      "+--------------------+------+\n",
      "\n"
     ]
    }
   ],
   "source": [
    "mergent_df.groupBy(\"date_subj_adjustment\").count().show(60, truncate=False)"
   ]
  },
  {
   "cell_type": "code",
   "execution_count": 126,
   "id": "2887708b-7630-4e51-a211-e8a8c621f50e",
   "metadata": {},
   "outputs": [
    {
     "name": "stdout",
     "output_type": "stream",
     "text": [
      "+----+------+\n",
      "|esop|count |\n",
      "+----+------+\n",
      "|NULL|66    |\n",
      "|Y   |603   |\n",
      "|N   |651989|\n",
      "+----+------+\n",
      "\n"
     ]
    }
   ],
   "source": [
    "mergent_df.groupBy(\"esop\").count().show(60, truncate=False)"
   ]
  },
  {
   "cell_type": "code",
   "execution_count": 127,
   "id": "1ff3a600-a8ff-4121-9cac-7741671ce9b2",
   "metadata": {},
   "outputs": [
    {
     "name": "stdout",
     "output_type": "stream",
     "text": [
      "+----------+------+\n",
      "|greater_of|count |\n",
      "+----------+------+\n",
      "|NULL      |499979|\n",
      "|Y         |37    |\n",
      "|N         |152642|\n",
      "+----------+------+\n",
      "\n"
     ]
    }
   ],
   "source": [
    "mergent_df.groupBy(\"greater_of\").count().show(60, truncate=False)"
   ]
  },
  {
   "cell_type": "code",
   "execution_count": 128,
   "id": "67ef34c5-e1ca-4dda-b56d-568771829ccb",
   "metadata": {},
   "outputs": [
    {
     "name": "stdout",
     "output_type": "stream",
     "text": [
      "+---------+------+\n",
      "|lesser_of|count |\n",
      "+---------+------+\n",
      "|NULL     |499979|\n",
      "|Y        |11    |\n",
      "|N        |152668|\n",
      "+---------+------+\n",
      "\n"
     ]
    }
   ],
   "source": [
    "mergent_df.groupBy(\"lesser_of\").count().show(60, truncate=False)"
   ]
  },
  {
   "cell_type": "code",
   "execution_count": 144,
   "id": "d0aeab0e-eec5-4f7d-966e-f57952d26d90",
   "metadata": {},
   "outputs": [
    {
     "name": "stdout",
     "output_type": "stream",
     "text": [
      "+--------------+------+\n",
      "|announced_call|count |\n",
      "+--------------+------+\n",
      "|NULL          |868   |\n",
      "|N             |651644|\n",
      "|Y             |146   |\n",
      "+--------------+------+\n",
      "\n"
     ]
    }
   ],
   "source": [
    "mergent_df.groupBy(\"announced_call\").count().show(60, truncate=False)"
   ]
  },
  {
   "cell_type": "code",
   "execution_count": 148,
   "id": "739b6259-d90c-49f9-a8eb-39a0d4ffd010",
   "metadata": {},
   "outputs": [
    {
     "name": "stdout",
     "output_type": "stream",
     "text": [
      "+-------+------+\n",
      "|putable|count |\n",
      "+-------+------+\n",
      "|Y      |2984  |\n",
      "|N      |648506|\n",
      "|NULL   |1168  |\n",
      "+-------+------+\n",
      "\n"
     ]
    }
   ],
   "source": [
    "mergent_df.groupBy(\"putable\").count().show(60, truncate=False)"
   ]
  },
  {
   "cell_type": "code",
   "execution_count": 149,
   "id": "4011b89b-447b-4720-9d2b-d85f7e46c5a6",
   "metadata": {},
   "outputs": [
    {
     "name": "stdout",
     "output_type": "stream",
     "text": [
      "+----------+------+\n",
      "|redeemable|count |\n",
      "+----------+------+\n",
      "|Y         |389475|\n",
      "|N         |263108|\n",
      "|NULL      |75    |\n",
      "+----------+------+\n",
      "\n"
     ]
    }
   ],
   "source": [
    "mergent_df.groupBy(\"redeemable\").count().show(60, truncate=False)"
   ]
  },
  {
   "cell_type": "code",
   "execution_count": 23,
   "id": "18cafb06-6e31-42da-b3fa-9b20c13174c1",
   "metadata": {
    "scrolled": true
   },
   "outputs": [
    {
     "name": "stdout",
     "output_type": "stream",
     "text": [
      "+---------+------+\n",
      "|bond_type|count |\n",
      "+---------+------+\n",
      "|CMTZ     |114732|\n",
      "|FGOV     |7277  |\n",
      "|USNT     |1450  |\n",
      "|TPCS     |1376  |\n",
      "|PS       |1571  |\n",
      "|PSTK     |1999  |\n",
      "|IIDX     |106   |\n",
      "|USSI     |1023  |\n",
      "|CZ       |355   |\n",
      "|USBL     |1968  |\n",
      "|CCOV     |6186  |\n",
      "|CLOC     |2     |\n",
      "|USSP     |1362  |\n",
      "|ASPZ     |3935  |\n",
      "|ADEB     |157266|\n",
      "|TXMU     |51    |\n",
      "|USBN     |9594  |\n",
      "|USBD     |178   |\n",
      "|USTC     |126   |\n",
      "|MBS      |77    |\n",
      "|CMTN     |189969|\n",
      "|UCID     |499   |\n",
      "|CPIK     |392   |\n",
      "|AMTN     |39904 |\n",
      "|CDEB     |62381 |\n",
      "|CCUR     |2730  |\n",
      "|EMTN     |2450  |\n",
      "|CPAS     |1778  |\n",
      "|ADNT     |8734  |\n",
      "|CTBD     |158   |\n",
      "|BBON     |34    |\n",
      "|RNT      |26118 |\n",
      "|FGS      |130   |\n",
      "|ARNT     |5865  |\n",
      "|CS       |63    |\n",
      "|CCPI     |3     |\n",
      "|CTBL     |752   |\n",
      "|ABS      |32    |\n",
      "|EBON     |6     |\n",
      "|O3Y      |3     |\n",
      "|O4W      |3     |\n",
      "|O5Y      |2     |\n",
      "|O13W     |1     |\n",
      "|O52W     |1     |\n",
      "|CP       |15    |\n",
      "|O26W     |1     |\n",
      "+---------+------+\n",
      "\n"
     ]
    }
   ],
   "source": [
    "mergent_df.groupBy(\"bond_type\").count().show(60, truncate=False)"
   ]
  },
  {
   "cell_type": "markdown",
   "id": "1fb6d048-e4f4-4420-b671-1908b842aef5",
   "metadata": {},
   "source": [
    "#### Fixing NAICS cols"
   ]
  },
  {
   "cell_type": "code",
   "execution_count": 24,
   "id": "5796b7d7-475e-40a2-a4e3-648a12598ef2",
   "metadata": {},
   "outputs": [
    {
     "name": "stdout",
     "output_type": "stream",
     "text": [
      "+-------+-----------------+\n",
      "|summary|       naics_code|\n",
      "+-------+-----------------+\n",
      "|  count|           641191|\n",
      "|   mean|509025.0714623256|\n",
      "| stddev| 74510.3199017901|\n",
      "|    min|           111140|\n",
      "|    max|           928110|\n",
      "+-------+-----------------+\n",
      "\n"
     ]
    }
   ],
   "source": [
    "def fix_naics_to_int(naics):\n",
    "    if naics is None:\n",
    "        return None\n",
    "    naics_str = str(naics)\n",
    "    if len(naics_str) < 6:\n",
    "        naics_str = naics_str.ljust(6, \"0\")\n",
    "    return int(naics_str)\n",
    "    \n",
    "fix_naics_to_int_udf = udf(fix_naics_to_int, IntegerType())\n",
    "mergent_df = mergent_df.withColumn(\"naics_code\", fix_naics_to_int_udf(F.col(\"naics_code\")))\n",
    "\n",
    "mergent_df.select(\"naics_code\").describe().show()"
   ]
  },
  {
   "cell_type": "markdown",
   "id": "2d1cb044-148b-4fa0-a27d-6369bf2e9a23",
   "metadata": {},
   "source": [
    "### Mergent Data Filtering"
   ]
  },
  {
   "cell_type": "code",
   "execution_count": 25,
   "id": "20027167-1d14-43fc-a829-a76e90d56e23",
   "metadata": {},
   "outputs": [],
   "source": [
    "us_issuer_filter = (F.col(\"country_domicile\") == \"USA\") & F.col(\"country_domicile\").isNotNull()\n",
    "rule_144a_filter = F.col(\"rule_144a\") == \"N\"\n",
    "#bond_type_filter = F.col(\"bond_type\").isNotNull() & F.col(\"bond_type\").isin([\"CDEB\", \"RNT\", \"CMTN\", \"UCID\"])\n",
    "private_placement_filter = (F.col(\"private_placement\")==\"N\") & F.col(\"private_placement\").isNotNull()\n",
    "asset_backed_filter = (F.col(\"asset_backed\") == \"N\") & F.col(\"asset_backed\").isNotNull()\n",
    "convertible_filter = (F.col(\"convertible\") == \"N\") & F.col(\"convertible\").isNotNull()\n",
    "coupon_type_filter = (F.col(\"coupon_type\") == \"F\") & F.col(\"coupon_type\").isNotNull()\n",
    "naics_null_filter = F.col(\"naics_code\").isNotNull()\n",
    "financials_naics_filter = (~F.col(\"naics_code\").between(521000,525990))\n",
    "utilities_naics_filter = (~F.col(\"naics_code\").between(221000,221399))\n",
    "public_naics_filter = (~F.col(\"naics_code\").between(920000,929999))\n",
    "education_naics_filter = (~F.col(\"naics_code\").between(611000, 611999))\n",
    "nonprofit_naics_filter = (~F.col(\"naics_code\").between(813000, 813999))\n",
    "senior_debt_filter = (F.col(\"security_level\").isin([\"SEN\",\"SS\"])) & F.col(\"security_level\").isNotNull()\n",
    "semi_annual_filter = (F.col(\"interest_frequency\") == \"2\") & F.col(\"interest_frequency\").isNotNull()\n",
    "pay_in_kind_filter = ~((F.col(\"pay_in_kind\") == \"Y\") & F.col(\"pay_in_kind\").isNotNull())\n",
    "day_count_filter = (F.col(\"day_count_basis\") == \"30/360\") & F.col(\"day_count_basis\").isNotNull()\n",
    "#offering_date_filter = F.col(\"offering_date\").between(\"1972-07-01\",\"2024-03-28\") & F.col(\"offering_date\").isNotNull()\n",
    "#maturity_date_filter = F.col(\"maturity\").between(\"2002-07-01\",\"2054-03-28\") & F.col(\"maturity\").isNotNull()\n",
    "soft_call_make_whole_filter = ~((F.col(\"soft_call_make_whole\") == \"Y\") & F.col(\"soft_call_make_whole\").isNotNull())\n",
    "convert_on_call_filter = ~((F.col(\"convert_on_call\") == \"Y\") & F.col(\"convert_on_call\").isNotNull())\n",
    "conv_redemp_exception_filter = ~((F.col(\"conv_redemp_exception\") == \"Y\") & F.col(\"conv_redemp_exception\").isNotNull())\n",
    "conv_period_spec_filter = ~((F.col(\"conv_period_spec\") == \"Y\") & F.col(\"conv_period_spec\").isNotNull())\n",
    "percs_filter = ~((F.col(\"percs\") == \"Y\") & F.col(\"percs\").isNotNull())\n",
    "peps_filter = ~((F.col(\"peps\") == \"Y\") & F.col(\"peps\").isNotNull())\n",
    "dilution_protection_filter = ~((F.col(\"dilution_protection\") == \"Y\") & F.col(\"dilution_protection\").isNotNull())\n",
    "conditional_conv_terms_filter = ~((F.col(\"conditional_conv_terms\") == \"Y\") & F.col(\"conditional_conv_terms\").isNotNull())\n",
    "date_subj_adjustment_filter = ~((F.col(\"date_subj_adjustment\") == \"Y\") & F.col(\"date_subj_adjustment\").isNotNull())\n",
    "esop_filter = ~((F.col(\"esop\") == \"Y\") & F.col(\"esop\").isNotNull()) \n",
    "greater_of_filter = ~((F.col(\"greater_of\") == \"Y\") & F.col(\"greater_of\").isNotNull())\n",
    "lesser_of_filter = ~((F.col(\"lesser_of\") == \"Y\") & F.col(\"lesser_of\").isNotNull())\n",
    "#announced_call_filter = ~((F.col(\"announced_call\") == \"Y\") & F.col(\"announced_call\").isNotNull())"
   ]
  },
  {
   "cell_type": "raw",
   "id": "2b76f667-f3da-4a85-b9f2-6a37b26ad6aa",
   "metadata": {
    "jupyter": {
     "source_hidden": true
    },
    "scrolled": true
   },
   "source": [
    "mergent_df_filtered = mergent_df\n",
    "print(\"Initial Count:\", mergent_df_filtered.count())\n",
    "\n",
    "mergent_filter_names =[\"us_issuer_filter\", \"rule_144a_filter\", \"private_placement_filter\", \"asset_backed_filter\", \"convertible_filter\",\n",
    "               \"coupon_type_filter\", \"naics_null_filter\", \"sic_null_filter\", \"financials_naics_filter\", \"financials_sic_filter\",\n",
    "               \"utilities_naics_filter\", \"utilities_sic_filter\", \"public_naics_filter\", \"public_sic_filter\", \"senior_debt_filter\",\n",
    "               \"semi_annual_filter\", \"pay_in_kind_filter\", \"day_count_filter\", \"offering_date_filter\",\"maturity_date_filter\",\n",
    "               \"soft_call_make_whole_filter\", \"convert_on_call_filter\", \"conv_redemp_exception_filter\", \"conv_period_spec_filter\",\n",
    "               \"percs_filter\", \"peps_filter\", \"dilution_protection_filter\", \"conditional_conv_terms_filter\", \"date_subj_adjustment_filter\", \n",
    "               \"esop_filter\", 'greater_of_filter', \"lesser_of_filter\", \"announced_call_filter\"]\n",
    "mergent_filters = [us_issuer_filter, rule_144a_filter, private_placement_filter, asset_backed_filter, convertible_filter,\n",
    "               coupon_type_filter, naics_null_filter, sic_null_filter, financials_naics_filter, financials_sic_filter,\n",
    "               utilities_naics_filter, utilities_sic_filter, public_naics_filter, public_sic_filter, senior_debt_filter,\n",
    "               semi_annual_filter, pay_in_kind_filter, day_count_filter, offering_date_filter,maturity_date_filter,\n",
    "               soft_call_make_whole_filter, convert_on_call_filter, conv_redemp_exception_filter, conv_period_spec_filter,\n",
    "               percs_filter, peps_filter, dilution_protection_filter, conditional_conv_terms_filter, date_subj_adjustment_filter, \n",
    "               esop_filter, greater_of_filter, lesser_of_filter, announced_call_filter]\n",
    "\n",
    "for i in range(len(mergent_filters)):\n",
    "    mergent_df_filtered = mergent_df_filtered.filter(mergent_filters[i])\n",
    "    print(f\"After {mergent_filter_names[i]}:\", mergent_df_filtered.count())\n"
   ]
  },
  {
   "cell_type": "code",
   "execution_count": 26,
   "id": "b3562e5b-ffac-4171-b706-29593636831e",
   "metadata": {},
   "outputs": [],
   "source": [
    "mergent_df_filtered = mergent_df.filter(\n",
    "    us_issuer_filter &\n",
    "    rule_144a_filter &\n",
    "    private_placement_filter &\n",
    "    asset_backed_filter &\n",
    "    convertible_filter &\n",
    "    coupon_type_filter &\n",
    "    naics_null_filter &\n",
    "    financials_naics_filter &\n",
    "    utilities_naics_filter &\n",
    "    public_naics_filter &\n",
    "    education_naics_filter &\n",
    "    nonprofit_naics_filter &\n",
    "    senior_debt_filter &\n",
    "    semi_annual_filter &\n",
    "    pay_in_kind_filter &\n",
    "    day_count_filter &\n",
    "    soft_call_make_whole_filter &\n",
    "    convert_on_call_filter &\n",
    "    conv_redemp_exception_filter &\n",
    "    conv_period_spec_filter &\n",
    "    percs_filter &\n",
    "    peps_filter &\n",
    "    dilution_protection_filter &\n",
    "    conditional_conv_terms_filter &\n",
    "    date_subj_adjustment_filter &\n",
    "    esop_filter &\n",
    "    greater_of_filter &\n",
    "    lesser_of_filter\n",
    ")"
   ]
  },
  {
   "cell_type": "markdown",
   "id": "8055e4d6-a360-4fe4-9153-b95268ee29bc",
   "metadata": {},
   "source": [
    "## Merging Filtered TRACE and Mergent"
   ]
  },
  {
   "cell_type": "code",
   "execution_count": 27,
   "id": "50f43303-5e5f-40da-a5ea-46977cc8fd1a",
   "metadata": {},
   "outputs": [],
   "source": [
    "merged_trace_and_mergent_df = trace_df_filtered.join(\n",
    "    mergent_df_filtered,\n",
    "    trace_df_filtered[\"cusip_id\"] == mergent_df_filtered[\"complete_cusip\"],\n",
    "    \"inner\"\n",
    ")"
   ]
  },
  {
   "cell_type": "code",
   "execution_count": 28,
   "id": "a9bfdbb1-f686-464d-b1f3-f979c3443931",
   "metadata": {},
   "outputs": [],
   "source": [
    "mergent_cols_identifiers = [\"issue_cusip\",\"issuer_cusip\", \"complete_cusip\",\"issue_id\",\"issuer_id\",\"cusip_name\"]\n",
    "\n",
    "trace_cols_to_keep = [\"trd_exctn_dt\", \"trd_exctn_tm\", \"trd_rpt_dt\", \"pr_trd_dt\", \"stlmnt_dt\", \n",
    "                      \"rptd_pr\",\"yld_pt\", \"entrd_vol_qt\"]\n",
    "\n",
    "\n",
    "mergent_cols_to_keep = [\"coupon\", \"principal_amt\", \"dated_date\", \"first_interest_date\", \"last_interest_date\", \n",
    "                        \"offering_date\", \"maturity\", \"naics_code\", \"sic_code\", \"denomination\", \"bond_type\"]\n",
    "\n",
    "mergent_cols_special = [\"defaulted\", \"redeemable\", \"putable\", \"soft_call_make_whole\", \"announced_call\", \"greater_of\",\n",
    "                        \"lesser_of\", \"date_subj_adjustment\", \"esop\"]\n",
    "\n",
    "merged_trace_and_mergent_df_cols_to_keep = mergent_cols_identifiers + trace_cols_to_keep + mergent_cols_to_keep + mergent_cols_special"
   ]
  },
  {
   "cell_type": "code",
   "execution_count": 29,
   "id": "53c842d3-b8cd-4317-8a94-4bc607230ce8",
   "metadata": {},
   "outputs": [],
   "source": [
    "merged_trace_and_mergent_df = merged_trace_and_mergent_df.select(merged_trace_and_mergent_df_cols_to_keep)"
   ]
  },
  {
   "cell_type": "code",
   "execution_count": 30,
   "id": "17ebec13-c279-4792-8f3c-725be561004f",
   "metadata": {},
   "outputs": [
    {
     "name": "stdout",
     "output_type": "stream",
     "text": [
      "MERGED DATA SAVED AS PARQUET\n"
     ]
    }
   ],
   "source": [
    "output_dir = \"merged_trace_and_mergent_data_temp\"\n",
    "merged_trace_and_mergent_df.repartition(1).write.mode(\"overwrite\").parquet(output_dir)\n",
    "parquet_files = [file for file in os.listdir(output_dir) if file.endswith(\".parquet\")]\n",
    "if parquet_files:\n",
    "    os.rename(f\"{output_dir}/{parquet_files[0]}\", \"merged_trace_and_mergent_data.parquet\")\n",
    "shutil.rmtree(output_dir)\n",
    "\n",
    "print(\"MERGED DATA SAVED AS PARQUET\")"
   ]
  },
  {
   "cell_type": "code",
   "execution_count": 65,
   "id": "dd0c38a0-0abf-493e-a5d0-46205d776f9e",
   "metadata": {
    "scrolled": true
   },
   "outputs": [
    {
     "data": {
      "text/plain": [
       "236445895"
      ]
     },
     "execution_count": 65,
     "metadata": {},
     "output_type": "execute_result"
    }
   ],
   "source": [
    "trace_df_filtered.count()"
   ]
  },
  {
   "cell_type": "code",
   "execution_count": 66,
   "id": "d1794dca-35e9-494c-bf24-2eb445302e14",
   "metadata": {
    "scrolled": true
   },
   "outputs": [
    {
     "data": {
      "text/plain": [
       "20231"
      ]
     },
     "execution_count": 66,
     "metadata": {},
     "output_type": "execute_result"
    }
   ],
   "source": [
    "mergent_df_filtered.count()"
   ]
  },
  {
   "cell_type": "code",
   "execution_count": 67,
   "id": "1b8c325f-ba59-48ad-8eea-0e94824a1d62",
   "metadata": {},
   "outputs": [
    {
     "data": {
      "text/plain": [
       "34"
      ]
     },
     "execution_count": 67,
     "metadata": {},
     "output_type": "execute_result"
    }
   ],
   "source": [
    "len(merged_trace_and_mergent_df.columns)"
   ]
  },
  {
   "cell_type": "code",
   "execution_count": 68,
   "id": "a7df6434-607e-4689-8393-d7ac9467cd5e",
   "metadata": {},
   "outputs": [
    {
     "data": {
      "text/plain": [
       "94436107"
      ]
     },
     "execution_count": 68,
     "metadata": {},
     "output_type": "execute_result"
    }
   ],
   "source": [
    "merged_trace_and_mergent_df.count()"
   ]
  },
  {
   "cell_type": "markdown",
   "id": "12c7525e-c999-4735-8497-5c04099043c4",
   "metadata": {},
   "source": [
    "# Historical Duration Adjusted Bond Returns"
   ]
  },
  {
   "cell_type": "markdown",
   "id": "72778c2f-2e74-4394-9fd6-a0ec0eb94e91",
   "metadata": {},
   "source": [
    "## Data Preparation"
   ]
  },
  {
   "cell_type": "markdown",
   "id": "8186ebfc-e3a8-41cc-8e9e-8be6b267b42a",
   "metadata": {},
   "source": [
    "### Obtaining Schema for and Loading Merged Data "
   ]
  },
  {
   "cell_type": "code",
   "execution_count": 39,
   "id": "3517ed43-e18e-42b2-ae4f-04018d6df74f",
   "metadata": {},
   "outputs": [],
   "source": [
    "merged_df_temp = spark.read.format(\"parquet\").load(\"merged_trace_and_mergent_data.parquet\")\n",
    "merged_df_schema, merged_df_cols_by_dataset = get_spark_schema_2(merged_df_temp.columns,True)\n",
    "del merged_df_temp\n",
    "merged_df = spark.read.format(\"parquet\").schema(merged_df_schema).load(\"merged_trace_and_mergent_data.parquet\")"
   ]
  },
  {
   "cell_type": "code",
   "execution_count": 40,
   "id": "da81d7d8-4b1a-4ae9-9a43-d1f8fd33528a",
   "metadata": {},
   "outputs": [
    {
     "data": {
      "text/plain": [
       "StructType([StructField('issue_cusip', StringType(), True), StructField('issuer_cusip', StringType(), True), StructField('complete_cusip', StringType(), True), StructField('issue_id', FloatType(), True), StructField('issuer_id', FloatType(), True), StructField('cusip_name', StringType(), True), StructField('trd_exctn_dt', DateType(), True), StructField('trd_exctn_tm', TimestampType(), True), StructField('trd_rpt_dt', DateType(), True), StructField('pr_trd_dt', DateType(), True), StructField('stlmnt_dt', DateType(), True), StructField('rptd_pr', FloatType(), True), StructField('yld_pt', FloatType(), True), StructField('entrd_vol_qt', FloatType(), True), StructField('coupon', FloatType(), True), StructField('principal_amt', FloatType(), True), StructField('dated_date', DateType(), True), StructField('first_interest_date', DateType(), True), StructField('last_interest_date', DateType(), True), StructField('offering_date', DateType(), True), StructField('maturity', DateType(), True), StructField('naics_code', IntegerType(), True), StructField('sic_code', StringType(), True), StructField('denomination', StringType(), True), StructField('bond_type', StringType(), True), StructField('defaulted', StringType(), True), StructField('redeemable', StringType(), True), StructField('putable', StringType(), True), StructField('soft_call_make_whole', StringType(), True), StructField('announced_call', StringType(), True), StructField('greater_of', StringType(), True), StructField('lesser_of', StringType(), True), StructField('date_subj_adjustment', StringType(), True), StructField('esop', StringType(), True)])"
      ]
     },
     "execution_count": 40,
     "metadata": {},
     "output_type": "execute_result"
    }
   ],
   "source": [
    "merged_df_schema"
   ]
  },
  {
   "cell_type": "code",
   "execution_count": 41,
   "id": "ae6b7ada-f758-403d-b21c-bd9e49510fbb",
   "metadata": {},
   "outputs": [
    {
     "data": {
      "text/plain": [
       "{'trace': ['trd_rpt_dt',\n",
       "  'trd_exctn_dt',\n",
       "  'trd_exctn_tm',\n",
       "  'rptd_pr',\n",
       "  'entrd_vol_qt',\n",
       "  'pr_trd_dt',\n",
       "  'yld_pt',\n",
       "  'stlmnt_dt'],\n",
       " 'mergent': ['date_subj_adjustment',\n",
       "  'first_interest_date',\n",
       "  'redeemable',\n",
       "  'issue_id',\n",
       "  'offering_date',\n",
       "  'cusip_name',\n",
       "  'bond_type',\n",
       "  'greater_of',\n",
       "  'dated_date',\n",
       "  'coupon',\n",
       "  'sic_code',\n",
       "  'maturity',\n",
       "  'denomination',\n",
       "  'issuer_cusip',\n",
       "  'last_interest_date',\n",
       "  'naics_code',\n",
       "  'announced_call',\n",
       "  'defaulted',\n",
       "  'soft_call_make_whole',\n",
       "  'lesser_of',\n",
       "  'issue_cusip',\n",
       "  'putable',\n",
       "  'principal_amt',\n",
       "  'issuer_id',\n",
       "  'complete_cusip',\n",
       "  'esop']}"
      ]
     },
     "execution_count": 41,
     "metadata": {},
     "output_type": "execute_result"
    }
   ],
   "source": [
    "merged_df_cols_by_dataset"
   ]
  },
  {
   "cell_type": "markdown",
   "id": "f19dcca9-fc7f-4879-9aec-ba4c557995e9",
   "metadata": {},
   "source": [
    "### Initial Statistics for Features in Merged Data"
   ]
  },
  {
   "cell_type": "code",
   "execution_count": 42,
   "id": "c2adb494-770a-472c-960d-1ddf32d8954f",
   "metadata": {},
   "outputs": [
    {
     "name": "stdout",
     "output_type": "stream",
     "text": [
      "Column: pr_trd_dt, Null Count Ratio: 0.995\n",
      "Column: stlmnt_dt, Null Count Ratio: 0.212\n",
      "Column: yld_pt, Null Count Ratio: 0.035\n",
      "Column: last_interest_date, Null Count Ratio: 0.000\n",
      "Column: offering_date, Null Count Ratio: 0.000\n",
      "Column: sic_code, Null Count Ratio: 0.000\n",
      "Column: putable, Null Count Ratio: 0.000\n",
      "Column: soft_call_make_whole, Null Count Ratio: 1.000\n",
      "Column: greater_of, Null Count Ratio: 1.000\n",
      "Column: lesser_of, Null Count Ratio: 1.000\n",
      "Column: date_subj_adjustment, Null Count Ratio: 1.000\n",
      "Column: esop, Null Count Ratio: 0.000\n"
     ]
    }
   ],
   "source": [
    "row_count_1 = merged_df.count()\n",
    "for col in merged_df.columns:\n",
    "    temp_null_count = merged_df.select(F.sum(F.col(col).isNull().cast(\"int\"))).collect()[0][0]\n",
    "    if temp_null_count != 0:\n",
    "        print(f\"Column: {col}, Null Count Ratio: {temp_null_count/row_count_1:.3f}\")"
   ]
  },
  {
   "cell_type": "code",
   "execution_count": 43,
   "id": "c09b6467-5daa-457e-8e4a-9e93d8fbe016",
   "metadata": {},
   "outputs": [],
   "source": [
    "initial_merged_df_count = merged_df.count()"
   ]
  },
  {
   "cell_type": "code",
   "execution_count": 44,
   "id": "9173ac0e-639e-469b-8ad6-20f9adcadee0",
   "metadata": {},
   "outputs": [
    {
     "name": "stdout",
     "output_type": "stream",
     "text": [
      "+-------+------------------+\n",
      "|summary|           rptd_pr|\n",
      "+-------+------------------+\n",
      "|  count|          99243036|\n",
      "|   mean| 99.97559905017782|\n",
      "| stddev|13.286501454414692|\n",
      "|    min|         -0.434444|\n",
      "|    max|            6347.0|\n",
      "+-------+------------------+\n",
      "\n"
     ]
    }
   ],
   "source": [
    "merged_df.select(\"rptd_pr\").describe().show()"
   ]
  },
  {
   "cell_type": "code",
   "execution_count": 45,
   "id": "80db4431-3b41-413c-95eb-f261209dd747",
   "metadata": {},
   "outputs": [
    {
     "name": "stdout",
     "output_type": "stream",
     "text": [
      "+-------+------------------+\n",
      "|summary|     principal_amt|\n",
      "+-------+------------------+\n",
      "|  count|          99243036|\n",
      "|   mean|1021.7321779535241|\n",
      "| stddev| 1215.424271214306|\n",
      "|    min|               0.0|\n",
      "|    max|          250000.0|\n",
      "+-------+------------------+\n",
      "\n"
     ]
    }
   ],
   "source": [
    "merged_df.select(\"principal_amt\").describe().show()"
   ]
  },
  {
   "cell_type": "code",
   "execution_count": 46,
   "id": "2120d632-2d6e-4639-af1f-9aa12239629c",
   "metadata": {},
   "outputs": [
    {
     "name": "stdout",
     "output_type": "stream",
     "text": [
      "+-------+------------------+\n",
      "|summary|      entrd_vol_qt|\n",
      "+-------+------------------+\n",
      "|  count|          99243036|\n",
      "|   mean|449053.60056237556|\n",
      "| stddev|2594240.5739374557|\n",
      "|    min|               0.1|\n",
      "|    max|           7.445E9|\n",
      "+-------+------------------+\n",
      "\n"
     ]
    }
   ],
   "source": [
    "merged_df.select(\"entrd_vol_qt\").describe().show()"
   ]
  },
  {
   "cell_type": "code",
   "execution_count": 47,
   "id": "586e7285-b56e-4950-aa89-0887ed1a6974",
   "metadata": {
    "scrolled": true
   },
   "outputs": [
    {
     "name": "stdout",
     "output_type": "stream",
     "text": [
      "+------------+--------+\n",
      "|denomination|count   |\n",
      "+------------+--------+\n",
      "|25/1        |12822   |\n",
      "|200/1       |43160   |\n",
      "|100/50      |265     |\n",
      "|50/1        |11871   |\n",
      "|10/10       |5781    |\n",
      "|5/5         |17024   |\n",
      "|100/100     |852     |\n",
      "|10/1        |104873  |\n",
      "|2000/10     |531     |\n",
      "|250/1       |3572    |\n",
      "|100/1       |566332  |\n",
      "|75/1        |1804    |\n",
      "|2/1         |69005164|\n",
      "|5/1         |339719  |\n",
      "|1/1         |29129158|\n",
      "|`           |108     |\n",
      "+------------+--------+\n",
      "\n"
     ]
    }
   ],
   "source": [
    "merged_df.groupBy(\"denomination\").count().show(60, truncate=False)"
   ]
  },
  {
   "cell_type": "markdown",
   "id": "ee9f80d8-ec2e-4904-83a0-775e2e67e8e4",
   "metadata": {},
   "source": [
    "### Additional Filters"
   ]
  },
  {
   "cell_type": "code",
   "execution_count": 48,
   "id": "e8d01ab5-7ad7-4e1f-8b10-2e0416472416",
   "metadata": {},
   "outputs": [],
   "source": [
    "# remove rows will null values for important cols\n",
    "rptd_pr_null_filter = F.col(\"rptd_pr\").isNotNull()\n",
    "yld_pt_null_filter = F.col(\"yld_pt\").isNotNull()\n",
    "entrd_vol_qty_null_filter = F.col(\"entrd_vol_qt\").isNotNull()\n",
    "last_interest_date_null_filter = F.col(\"last_interest_date\").isNotNull()\n",
    "\n",
    "# remove rows with strange price values (not in percentage terms of face value)\n",
    "negative_price_filter = F.col(\"rptd_pr\") > 0\n",
    "\n",
    "# extreme value filters\n",
    "#price_q1, price_q99 = merged_df.approxQuantile(\"rptd_pr\", [0.00, 0.90], 0.05)\n",
    "#price_filter = F.col(\"rptd_pr\").between(price_q1, price_q99)\n",
    "\n",
    "#principal_q1, principal_q99 = merged_df.approxQuantile(\"principal_amt\", [0.10, 0.90], 0.05)\n",
    "#principal_filter = F.col(\"principal_amt\").between(principal_q1, principal_q99)\n",
    "\n",
    "#volume_q1, volume_q99 = merged_df.approxQuantile(\"entrd_vol_qt\", [0.00, 0.90], 0.05)\n",
    "#volume_filter = F.col(\"entrd_vol_qt\").between(volume_q1, volume_q99)\n",
    "\n",
    "#minimum volume filter (>10000)\n",
    "min_volume_filter = F.col(\"entrd_vol_qt\") > 10000\n",
    "\n",
    "# remove rows where days to settlement is greater than 2\n",
    "days_to_settle_filter_2 = ~((F.col(\"trd_exctn_dt\").isNotNull()) &\\\n",
    "                         (F.col(\"stlmnt_dt\").isNotNull()) &\\\n",
    "                         (F.datediff(F.col(\"stlmnt_dt\"),F.col(\"trd_exctn_dt\")) > 2) &\\\n",
    "                         (F.year(F.col(\"stlmnt_dt\"))<2012))\n",
    "\n",
    "\n",
    "# remove rows where traded notional is greater than $10,000\n",
    "traded_notional_filter = (F.col(\"entrd_vol_qt\") * (F.col(\"rptd_pr\")/100) * F.col(\"principal_amt\")) > 10000\n",
    "\n",
    "#remove rows where years to maturity is not between 1 - 30 years (using 30/360 daycount basis)\n",
    "years_to_maturity = (((F.year(F.col(\"maturity\")) - F.year(F.col(\"trd_exctn_dt\"))) * 360 + \\\n",
    "                    (F.month(F.col(\"maturity\")) - F.month(F.col(\"trd_exctn_dt\"))) * 30 + \\\n",
    "                    (F.dayofmonth(F.col(\"maturity\")) - F.dayofmonth(F.col(\"trd_exctn_dt\")))) / 360)\n",
    "years_to_maturity_filter = years_to_maturity.between(1,30)"
   ]
  },
  {
   "cell_type": "code",
   "execution_count": 49,
   "id": "8db0dbf2-df94-4b38-8c7d-f0273ac4808c",
   "metadata": {},
   "outputs": [],
   "source": [
    "merged_df_2 = merged_df.filter(\n",
    "    rptd_pr_null_filter &\n",
    "    yld_pt_null_filter &\n",
    "    entrd_vol_qty_null_filter &\n",
    "    last_interest_date_null_filter &\n",
    "    negative_price_filter &\n",
    "    days_to_settle_filter_2 &\n",
    "    years_to_maturity_filter &\n",
    "    min_volume_filter\n",
    "    #price_filter &\n",
    "    #principal_filter &\n",
    "    #volume_filter\n",
    ")"
   ]
  },
  {
   "cell_type": "code",
   "execution_count": 50,
   "id": "0fa9860d-c858-49c9-b9d3-2ab851261cbc",
   "metadata": {},
   "outputs": [
    {
     "name": "stdout",
     "output_type": "stream",
     "text": [
      "+-------+------------------+\n",
      "|summary|      entrd_vol_qt|\n",
      "+-------+------------------+\n",
      "|  count|          60351669|\n",
      "|   mean| 638207.8609670926|\n",
      "| stddev|3053530.8489947924|\n",
      "|    min|           10002.0|\n",
      "|    max|           7.445E9|\n",
      "+-------+------------------+\n",
      "\n"
     ]
    }
   ],
   "source": [
    "merged_df_2.select(\"entrd_vol_qt\").describe().show()"
   ]
  },
  {
   "cell_type": "code",
   "execution_count": 51,
   "id": "2d5c7621-13c5-4a59-8f46-4c1686e6077f",
   "metadata": {},
   "outputs": [
    {
     "name": "stdout",
     "output_type": "stream",
     "text": [
      "+-------+------------------+\n",
      "|summary|     principal_amt|\n",
      "+-------+------------------+\n",
      "|  count|          60351669|\n",
      "|   mean|1018.2700878578851|\n",
      "| stddev|1293.6017746361094|\n",
      "|    min|               0.0|\n",
      "|    max|          250000.0|\n",
      "+-------+------------------+\n",
      "\n"
     ]
    }
   ],
   "source": [
    "merged_df_2.select(\"principal_amt\").describe().show()"
   ]
  },
  {
   "cell_type": "code",
   "execution_count": 52,
   "id": "36404d25-e9de-46d9-a40a-dfe3e2db2e84",
   "metadata": {},
   "outputs": [
    {
     "name": "stdout",
     "output_type": "stream",
     "text": [
      "+-------+------------------+\n",
      "|summary|           rptd_pr|\n",
      "+-------+------------------+\n",
      "|  count|          60351669|\n",
      "|   mean| 100.3394766528903|\n",
      "| stddev|12.612910353369179|\n",
      "|    min|            1.0E-6|\n",
      "|    max|            6347.0|\n",
      "+-------+------------------+\n",
      "\n"
     ]
    }
   ],
   "source": [
    "merged_df_2.select(\"rptd_pr\").describe().show()"
   ]
  },
  {
   "cell_type": "code",
   "execution_count": 53,
   "id": "5491366b-bca4-43b2-a314-7623f9bf2233",
   "metadata": {},
   "outputs": [
    {
     "name": "stdout",
     "output_type": "stream",
     "text": [
      "Column: pr_trd_dt, Null Count Ratio: 0.994\n",
      "Column: stlmnt_dt, Null Count Ratio: 0.217\n",
      "Column: offering_date, Null Count Ratio: 0.000\n",
      "Column: sic_code, Null Count Ratio: 0.000\n",
      "Column: putable, Null Count Ratio: 0.000\n",
      "Column: soft_call_make_whole, Null Count Ratio: 1.000\n",
      "Column: greater_of, Null Count Ratio: 1.000\n",
      "Column: lesser_of, Null Count Ratio: 1.000\n",
      "Column: date_subj_adjustment, Null Count Ratio: 1.000\n",
      "Column: esop, Null Count Ratio: 0.000\n"
     ]
    }
   ],
   "source": [
    "row_count_1 = merged_df_2.count()\n",
    "for col in merged_df.columns:\n",
    "    temp_null_count = merged_df_2.select(F.sum(F.col(col).isNull().cast(\"int\"))).collect()[0][0]\n",
    "    if temp_null_count != 0:\n",
    "        print(f\"Column: {col}, Null Count Ratio: {temp_null_count/row_count_1:.3f}\")"
   ]
  },
  {
   "cell_type": "code",
   "execution_count": 54,
   "id": "aaf0888e-7b2d-424d-86f9-627b22779a2f",
   "metadata": {},
   "outputs": [
    {
     "data": {
      "text/plain": [
       "0.6081199390151668"
      ]
     },
     "execution_count": 54,
     "metadata": {},
     "output_type": "execute_result"
    }
   ],
   "source": [
    "portion_of_merged_df_retained = merged_df_2.count() / initial_merged_df_count\n",
    "portion_of_merged_df_retained"
   ]
  },
  {
   "cell_type": "code",
   "execution_count": 55,
   "id": "1035c2ea-1d1a-468b-8939-ea2974c422aa",
   "metadata": {},
   "outputs": [
    {
     "data": {
      "text/plain": [
       "10885"
      ]
     },
     "execution_count": 55,
     "metadata": {},
     "output_type": "execute_result"
    }
   ],
   "source": [
    "estimated_transactions_per_day = merged_df_2.count()/(22*252)\n",
    "int(estimated_transactions_per_day)"
   ]
  },
  {
   "cell_type": "markdown",
   "id": "c578d087-fa6b-489a-a917-76a70ff5375e",
   "metadata": {},
   "source": [
    "### Saving Filtered Merged DF"
   ]
  },
  {
   "cell_type": "code",
   "execution_count": 56,
   "id": "a416b7ee-0be6-47db-afc6-fe5fe85829c4",
   "metadata": {},
   "outputs": [
    {
     "name": "stdout",
     "output_type": "stream",
     "text": [
      "MERGED DATA SAVED AS PARQUET\n"
     ]
    }
   ],
   "source": [
    "output_dir = \"merged_trace_and_mergent_data_temp\"\n",
    "merged_df_2.repartition(1).write.mode(\"overwrite\").parquet(output_dir)\n",
    "parquet_files = [file for file in os.listdir(output_dir) if file.endswith(\".parquet\")]\n",
    "if parquet_files:\n",
    "    os.rename(f\"{output_dir}/{parquet_files[0]}\", \"total_bond_transaction_data.parquet\")\n",
    "shutil.rmtree(output_dir)\n",
    "\n",
    "print(\"MERGED DATA SAVED AS PARQUET\")"
   ]
  },
  {
   "cell_type": "markdown",
   "id": "c411bc72-71f2-43b8-ac58-a0c715ebd27e",
   "metadata": {},
   "source": [
    "## Monthly Bond Return Calculation"
   ]
  },
  {
   "cell_type": "markdown",
   "id": "d51edffb-1a4f-479a-930b-9dd83d3aab47",
   "metadata": {},
   "source": [
    "### Daily Price Calculation"
   ]
  },
  {
   "cell_type": "markdown",
   "id": "b4857423-ce96-40ae-ac5c-0f765bfeac3f",
   "metadata": {},
   "source": [
    "#### Loading Filtered Merged DF"
   ]
  },
  {
   "cell_type": "code",
   "execution_count": 57,
   "id": "0a7cf2bd-0df4-4581-895c-8506e7e81da0",
   "metadata": {},
   "outputs": [],
   "source": [
    "trade_df_temp = spark.read.format(\"parquet\").load(\"total_bond_transaction_data.parquet\")\n",
    "trade_df_schema, trade_df_cols_by_dataset = get_spark_schema_2(trade_df_temp.columns,True)\n",
    "del trade_df_temp\n",
    "trade_df = spark.read.format(\"parquet\").schema(trade_df_schema).load(\"total_bond_transaction_data.parquet\")"
   ]
  },
  {
   "cell_type": "code",
   "execution_count": 58,
   "id": "e8caf2b9-3f6e-4c46-9989-4695e57e2078",
   "metadata": {
    "scrolled": true
   },
   "outputs": [
    {
     "data": {
      "text/plain": [
       "{'trace': ['trd_rpt_dt',\n",
       "  'trd_exctn_dt',\n",
       "  'trd_exctn_tm',\n",
       "  'rptd_pr',\n",
       "  'entrd_vol_qt',\n",
       "  'pr_trd_dt',\n",
       "  'yld_pt',\n",
       "  'stlmnt_dt'],\n",
       " 'mergent': ['date_subj_adjustment',\n",
       "  'first_interest_date',\n",
       "  'redeemable',\n",
       "  'issue_id',\n",
       "  'offering_date',\n",
       "  'cusip_name',\n",
       "  'bond_type',\n",
       "  'greater_of',\n",
       "  'dated_date',\n",
       "  'coupon',\n",
       "  'sic_code',\n",
       "  'maturity',\n",
       "  'denomination',\n",
       "  'issuer_cusip',\n",
       "  'last_interest_date',\n",
       "  'naics_code',\n",
       "  'announced_call',\n",
       "  'defaulted',\n",
       "  'soft_call_make_whole',\n",
       "  'lesser_of',\n",
       "  'issue_cusip',\n",
       "  'putable',\n",
       "  'principal_amt',\n",
       "  'issuer_id',\n",
       "  'complete_cusip',\n",
       "  'esop']}"
      ]
     },
     "execution_count": 58,
     "metadata": {},
     "output_type": "execute_result"
    }
   ],
   "source": [
    "trade_df_cols_by_dataset"
   ]
  },
  {
   "cell_type": "markdown",
   "id": "18ec5382-af93-4494-a855-42bde26d20a1",
   "metadata": {},
   "source": [
    "#### Daily Aggregation"
   ]
  },
  {
   "cell_type": "code",
   "execution_count": 59,
   "id": "7265c937-88f6-40a9-ad59-e64801101b13",
   "metadata": {},
   "outputs": [],
   "source": [
    "agg_dict_1 = {}\n",
    "agg_dict_1[\"daily_price\"] = F.sum(F.col(\"rptd_pr\") * F.col(\"entrd_vol_qt\")) / F.sum(F.col(\"entrd_vol_qt\"))\n",
    "agg_dict_1[\"daily_volume\"] = F.sum(F.col(\"entrd_vol_qt\"))\n",
    "agg_dict_1[\"trace_yield\"] = F.first(F.col(\"yld_pt\"))\n",
    "for col in list(set(trade_df_cols_by_dataset[\"mergent\"]) - set([\"complete_cusip\"])):\n",
    "    agg_dict_1[col] = F.first(F.col(col))\n",
    "daily_trade_df = trade_df.groupBy(\"complete_cusip\",\"trd_exctn_dt\").agg(\n",
    "    *[func.alias(col) for col,func in agg_dict_1.items()]\n",
    ")"
   ]
  },
  {
   "cell_type": "markdown",
   "id": "b5dde23d-d3c3-45de-bbe1-a7f12696699b",
   "metadata": {},
   "source": [
    "#### Saving Daily Trade Data"
   ]
  },
  {
   "cell_type": "code",
   "execution_count": 60,
   "id": "77cf9196-253f-4b0a-9f31-dea3aa51b3d6",
   "metadata": {},
   "outputs": [
    {
     "name": "stdout",
     "output_type": "stream",
     "text": [
      "DAILY DATA SAVED AS PARQUET\n"
     ]
    }
   ],
   "source": [
    "output_dir = \"daily_trade_data_temp\"\n",
    "daily_trade_df.repartition(1).write.mode(\"overwrite\").parquet(output_dir)\n",
    "parquet_files = [file for file in os.listdir(output_dir) if file.endswith(\".parquet\")]\n",
    "if parquet_files:\n",
    "    os.rename(f\"{output_dir}/{parquet_files[0]}\", \"daily_bond_trade_data.parquet\")\n",
    "shutil.rmtree(output_dir)\n",
    "\n",
    "print(\"DAILY DATA SAVED AS PARQUET\")"
   ]
  },
  {
   "cell_type": "markdown",
   "id": "361d6de3-8f78-406b-9464-abc3ec67d975",
   "metadata": {},
   "source": [
    "### Monthly Price Calculation"
   ]
  },
  {
   "cell_type": "markdown",
   "id": "dfe0c6f3-32b2-49e5-a8f0-99a8bcc3a1dc",
   "metadata": {},
   "source": [
    "#### ReLoading Daily Price Data (Pandas)"
   ]
  },
  {
   "cell_type": "code",
   "execution_count": 61,
   "id": "81694652-ce8a-4393-b69a-3fa522b81373",
   "metadata": {},
   "outputs": [],
   "source": [
    "daily_trade_df = pd.read_parquet(\"daily_bond_trade_data.parquet\")"
   ]
  },
  {
   "cell_type": "code",
   "execution_count": 62,
   "id": "bd61575d-dc1f-4747-8d51-945e88b14694",
   "metadata": {
    "scrolled": true
   },
   "outputs": [
    {
     "name": "stdout",
     "output_type": "stream",
     "text": [
      "<class 'pandas.core.frame.DataFrame'>\n",
      "RangeIndex: 10327114 entries, 0 to 10327113\n",
      "Data columns (total 30 columns):\n",
      " #   Column                Dtype  \n",
      "---  ------                -----  \n",
      " 0   complete_cusip        object \n",
      " 1   trd_exctn_dt          object \n",
      " 2   daily_price           float64\n",
      " 3   daily_volume          float64\n",
      " 4   trace_yield           float32\n",
      " 5   date_subj_adjustment  object \n",
      " 6   maturity              object \n",
      " 7   first_interest_date   object \n",
      " 8   denomination          object \n",
      " 9   issuer_cusip          object \n",
      " 10  last_interest_date    object \n",
      " 11  naics_code            int32  \n",
      " 12  announced_call        object \n",
      " 13  defaulted             object \n",
      " 14  redeemable            object \n",
      " 15  issue_id              float32\n",
      " 16  offering_date         object \n",
      " 17  soft_call_make_whole  object \n",
      " 18  cusip_name            object \n",
      " 19  lesser_of             object \n",
      " 20  bond_type             object \n",
      " 21  greater_of            object \n",
      " 22  dated_date            object \n",
      " 23  coupon                float32\n",
      " 24  issue_cusip           object \n",
      " 25  putable               object \n",
      " 26  principal_amt         float32\n",
      " 27  issuer_id             float32\n",
      " 28  sic_code              object \n",
      " 29  esop                  object \n",
      "dtypes: float32(5), float64(2), int32(1), object(22)\n",
      "memory usage: 2.1+ GB\n"
     ]
    }
   ],
   "source": [
    "daily_trade_df.info()"
   ]
  },
  {
   "cell_type": "markdown",
   "id": "92c12474-781e-464d-b931-30929cd5311c",
   "metadata": {},
   "source": [
    "#### Adjusting Dtypes"
   ]
  },
  {
   "cell_type": "code",
   "execution_count": 63,
   "id": "539f7e9f-509e-48b1-b040-801a9d1dbceb",
   "metadata": {},
   "outputs": [],
   "source": [
    "daily_trade_df_pandas_dtypes = {\n",
    "    \"complete_cusip\": \"string\",\n",
    "    \"trd_exctn_dt\": \"datetime64[ns]\",\n",
    "    \"daily_price\": \"float64\",\n",
    "    \"daily_volume\": \"float64\",\n",
    "    \"trace_yield\": \"float64\",\n",
    "    \"esop\": \"string\",\n",
    "    \"last_interest_date\": \"datetime64[ns]\",\n",
    "    \"principal_amt\": \"float32\",\n",
    "    \"offering_date\": \"datetime64[ns]\",\n",
    "    \"announced_call\": \"string\",\n",
    "    \"issuer_cusip\": \"string\",\n",
    "    \"denomination\": \"string\",\n",
    "    \"bond_type\": \"string\",\n",
    "    \"date_subj_adjustment\": \"string\",\n",
    "    \"naics_code\": \"int32\",\n",
    "    \"putable\": \"string\",\n",
    "    \"defaulted\": \"string\",\n",
    "    \"soft_call_make_whole\": \"string\",\n",
    "    \"maturity\": \"datetime64[ns]\",\n",
    "    \"cusip_name\": \"string\",\n",
    "    \"issuer_id\": \"float32\",\n",
    "    \"dated_date\": \"datetime64[ns]\",\n",
    "    \"lesser_of\": \"string\",\n",
    "    \"greater_of\": \"string\",\n",
    "    \"coupon\": \"float32\",\n",
    "    \"issue_cusip\": \"string\",\n",
    "    \"first_interest_date\": \"datetime64[ns]\",\n",
    "    \"issue_id\": \"float32\",\n",
    "    \"redeemable\": \"string\",\n",
    "}"
   ]
  },
  {
   "cell_type": "code",
   "execution_count": 64,
   "id": "84c5cfe8-4179-4c0e-81de-00aeab5e5ec9",
   "metadata": {
    "scrolled": true
   },
   "outputs": [
    {
     "name": "stdout",
     "output_type": "stream",
     "text": [
      "complete_cusip\n",
      "trd_exctn_dt\n",
      "daily_price\n",
      "daily_volume\n",
      "trace_yield\n",
      "esop\n",
      "last_interest_date\n",
      "principal_amt\n",
      "offering_date\n",
      "announced_call\n",
      "issuer_cusip\n",
      "denomination\n",
      "bond_type\n",
      "date_subj_adjustment\n",
      "naics_code\n",
      "putable\n",
      "defaulted\n",
      "soft_call_make_whole\n",
      "maturity\n",
      "cusip_name\n",
      "issuer_id\n",
      "dated_date\n",
      "lesser_of\n",
      "greater_of\n",
      "coupon\n",
      "issue_cusip\n",
      "first_interest_date\n",
      "issue_id\n",
      "redeemable\n"
     ]
    }
   ],
   "source": [
    "for col, dtype in daily_trade_df_pandas_dtypes.items():\n",
    "    print(col)\n",
    "    daily_trade_df[col] = daily_trade_df[col].astype(dtype)"
   ]
  },
  {
   "cell_type": "markdown",
   "id": "53ab5bd9-345f-47ad-a55e-efdc9810cb14",
   "metadata": {},
   "source": [
    "#### Monthly Aggregation 1 - Daily to Monthly"
   ]
  },
  {
   "cell_type": "raw",
   "id": "f8a06197-2ca5-4485-9f3a-90d5e0ab2673",
   "metadata": {},
   "source": [
    "ray.init(ignore_reinit_error=True)"
   ]
  },
  {
   "cell_type": "raw",
   "id": "acdb4d2c-bd7d-48ff-a8a8-00538738f59c",
   "metadata": {},
   "source": [
    "swifter.config.compute_method = \"dask\" "
   ]
  },
  {
   "cell_type": "raw",
   "id": "e67f214d-29e4-48d4-b29e-3881a3cda53e",
   "metadata": {},
   "source": [
    "print(swifter.config.compute_method)"
   ]
  },
  {
   "cell_type": "raw",
   "id": "2edf20d0-533c-4178-b3bd-98963fad4cbd",
   "metadata": {},
   "source": [
    "swifter.config.progress_bar = False"
   ]
  },
  {
   "cell_type": "raw",
   "id": "ebe0be8f-e69d-4df3-917a-e520b01ff25c",
   "metadata": {},
   "source": [
    "from dask.distributed import Client\n",
    "client = Client()\n",
    "print(client.dashboard_link)"
   ]
  },
  {
   "cell_type": "code",
   "execution_count": 65,
   "id": "07c0ece6-81ff-4ddf-90be-f0a2550977f4",
   "metadata": {},
   "outputs": [],
   "source": [
    "def get_holiday_list(year):\n",
    "    if year > 2020:\n",
    "        market_holidays = [\n",
    "            f\"{year}-01-01\", f\"{year}-01-15\", f\"{year}-02-19\", f\"{year}-05-27\",\n",
    "            f\"{year}-06-19\", f\"{year}-07-04\", f\"{year}-09-02\", f\"{year}-11-28\", f\"{year}-12-25\"\n",
    "        ]\n",
    "    else:\n",
    "        market_holidays = [\n",
    "            f\"{year}-01-01\", f\"{year}-01-15\", f\"{year}-02-19\", f\"{year}-05-27\",\n",
    "            f\"{year}-07-04\", f\"{year}-09-02\", f\"{year}-11-28\", f\"{year}-12-25\"\n",
    "        ]\n",
    "    return market_holidays"
   ]
  },
  {
   "cell_type": "code",
   "execution_count": 66,
   "id": "60777879-25c4-45c2-a9ce-12f0507e054c",
   "metadata": {
    "scrolled": true
   },
   "outputs": [],
   "source": [
    "holiday_dict = {year: get_holiday_list(year) for year in range(2002,2025)}\n",
    "holiday_list = [*holiday_dict[2002], *holiday_dict[2003], *holiday_dict[2004],\n",
    "                *holiday_dict[2005], *holiday_dict[2006], *holiday_dict[2007],\n",
    "                *holiday_dict[2008], *holiday_dict[2009], *holiday_dict[2010],\n",
    "                *holiday_dict[2011], *holiday_dict[2012], *holiday_dict[2013],\n",
    "                *holiday_dict[2014], *holiday_dict[2015], *holiday_dict[2016],\n",
    "                *holiday_dict[2017], *holiday_dict[2018], *holiday_dict[2019],\n",
    "                *holiday_dict[2020], *holiday_dict[2021], *holiday_dict[2022],\n",
    "                *holiday_dict[2023], *holiday_dict[2024]\n",
    "               ]\n",
    "trading_bdays = CustomBusinessDay(holidays=holiday_list)"
   ]
  },
  {
   "cell_type": "code",
   "execution_count": 67,
   "id": "ca1c36fe-01d8-4465-9d37-99a629086493",
   "metadata": {},
   "outputs": [],
   "source": [
    "daily_trade_df[\"month_end_date\"] = daily_trade_df[\"trd_exctn_dt\"] + MonthEnd(0)\n",
    "valid_trade_df_bdays = pd.bdate_range(start=daily_trade_df[\"month_end_date\"].min(),\n",
    "                                      end=daily_trade_df[\"month_end_date\"].max(),\n",
    "                                      freq=trading_bdays\n",
    "                                     )\n",
    "non_trade_df_bdays_mask = ~daily_trade_df[\"month_end_date\"].isin(valid_trade_df_bdays)\n",
    "daily_trade_df.loc[non_trade_df_bdays_mask, \"month_end_date\"] = daily_trade_df.loc[non_trade_df_bdays_mask, \"month_end_date\"].apply(trading_bdays.rollback)"
   ]
  },
  {
   "cell_type": "code",
   "execution_count": 68,
   "id": "c894beb3-cf7b-48ea-aed1-2a7f9111f536",
   "metadata": {},
   "outputs": [],
   "source": [
    "daily_trade_df_columns = daily_trade_df.columns\n",
    "daily_trade_df_apply_first_agg_cols = list(set(daily_trade_df_columns) - set([\"trd_exctn_dt\",\"daily_price\", \"daily_volume\",\"trace_yield\", \"month_end_date\",\"complete_cusip\"]))"
   ]
  },
  {
   "cell_type": "code",
   "execution_count": 69,
   "id": "a351e050-7d2c-4d3c-b180-7216f29635ca",
   "metadata": {},
   "outputs": [],
   "source": [
    "from functools import partial\n",
    "\n",
    "def monthly_agg_1(group, apply_first_cols):\n",
    "\n",
    "    first_row = group.iloc[0]\n",
    "    last_row = group.iloc[-1]\n",
    "    \n",
    "    end_of_month_bday = first_row[\"month_end_date\"]\n",
    "    start_of_month_bday = trading_bdays.rollforward(end_of_month_bday - MonthBegin(1))\n",
    "    \n",
    "    last_5_bdays = frozenset(pd.bdate_range(end=end_of_month_bday, periods=5, freq=trading_bdays))\n",
    "    first_5_bdays = frozenset(pd.bdate_range(start=start_of_month_bday, periods=5, freq=trading_bdays))\n",
    "    \n",
    "    return_dict = dict(\n",
    "        price_last_5_bdays = np.nan,\n",
    "        volume_last_5_bdays = np.nan,\n",
    "        trace_yield_last_5_bdays = np.nan,\n",
    "        trd_exctn_dt_last_5_bdays = np.nan,\n",
    "        price_first_5_bdays = np.nan,\n",
    "        volume_first_5_bdays = np.nan,\n",
    "        trace_yield_first_5_bdays = np.nan,\n",
    "        trd_exctn_dt_first_5_bdays = np.nan,\n",
    "    )\n",
    "\n",
    "    if last_row[\"trd_exctn_dt\"] in last_5_bdays:\n",
    "        return_dict[\"price_last_5_bdays\"] = last_row[\"daily_price\"]\n",
    "        return_dict[\"volume_last_5_bdays\"] = last_row[\"daily_volume\"]\n",
    "        return_dict[\"trace_yield_last_5_bdays\"] = last_row[\"trace_yield\"]\n",
    "        return_dict[\"trd_exctn_dt_last_5_bdays\"] = last_row[\"trd_exctn_dt\"]\n",
    "        \n",
    "    if first_row[\"trd_exctn_dt\"] in first_5_bdays:\n",
    "        return_dict[\"price_first_5_bdays\"] = first_row[\"daily_price\"]\n",
    "        return_dict[\"volume_first_5_bdays\"] = first_row[\"daily_volume\"]\n",
    "        return_dict[\"trace_yield_first_5_bdays\"] = last_row[\"trace_yield\"]\n",
    "        return_dict[\"trd_exctn_dt_first_5_bdays\"] = first_row[\"trd_exctn_dt\"]\n",
    "\n",
    "    return_dict.update(first_row[apply_first_cols].to_dict())\n",
    "\n",
    "    return pd.Series(return_dict)\n",
    "\n",
    "monthly_agg_1_with_cols = partial(monthly_agg_1, apply_first_cols=daily_trade_df_apply_first_agg_cols)"
   ]
  },
  {
   "cell_type": "code",
   "execution_count": 70,
   "id": "d7658d58-799f-401a-8deb-b478493e0f4e",
   "metadata": {},
   "outputs": [
    {
     "name": "stderr",
     "output_type": "stream",
     "text": [
      "C:\\Users\\wvill\\AppData\\Local\\Temp\\ipykernel_17788\\2924205844.py:1: DeprecationWarning: DataFrameGroupBy.apply operated on the grouping columns. This behavior is deprecated, and in a future version of pandas the grouping columns will be excluded from the operation. Either pass `include_groups=False` to exclude the groupings or explicitly select the grouping columns after groupby to silence this warning.\n",
      "  monthly_trade_df = daily_trade_df.groupby([\"complete_cusip\", \"month_end_date\"]).apply(\n"
     ]
    }
   ],
   "source": [
    "monthly_trade_df = daily_trade_df.groupby([\"complete_cusip\", \"month_end_date\"]).apply(\n",
    "    monthly_agg_1_with_cols\n",
    ").reset_index()"
   ]
  },
  {
   "cell_type": "markdown",
   "id": "c8168d6e-cb49-40ec-87d3-8b9aae127091",
   "metadata": {},
   "source": [
    "#### Saving Monthly Aggregation 1"
   ]
  },
  {
   "cell_type": "code",
   "execution_count": 71,
   "id": "1d128bca-b3ca-445a-bfe0-06b0cd582105",
   "metadata": {},
   "outputs": [],
   "source": [
    "monthly_trade_df.to_parquet(\"monthly_bond_trade_data_1.parquet\", index=False)"
   ]
  },
  {
   "cell_type": "markdown",
   "id": "d05cf2b4-5497-4677-b2e1-98a6997c85a1",
   "metadata": {},
   "source": [
    "#### ReLoading Monthly Price Data 1"
   ]
  },
  {
   "cell_type": "code",
   "execution_count": 67,
   "id": "1eaf325d-ded2-46d3-82e3-0c210573ec0d",
   "metadata": {},
   "outputs": [],
   "source": [
    "monthly_trade_df = pd.read_parquet(\"monthly_bond_trade_data_1.parquet\")"
   ]
  },
  {
   "cell_type": "markdown",
   "id": "f0135c33-0a6f-49b5-aaf2-d92e259dad39",
   "metadata": {},
   "source": [
    "#### Monthly Aggregation 2 & 3 - Choosing Representative Month End Price"
   ]
  },
  {
   "cell_type": "code",
   "execution_count": 73,
   "id": "01a8a671-c23e-4c2a-97d5-4ba406c219d3",
   "metadata": {},
   "outputs": [],
   "source": [
    "monthly_trade_df_cols = list(monthly_trade_df.columns)"
   ]
  },
  {
   "cell_type": "code",
   "execution_count": 74,
   "id": "528d4516-5361-49f6-a828-d18f28ec1b6e",
   "metadata": {
    "scrolled": true
   },
   "outputs": [
    {
     "data": {
      "text/plain": [
       "['complete_cusip',\n",
       " 'month_end_date',\n",
       " 'price_last_5_bdays',\n",
       " 'volume_last_5_bdays',\n",
       " 'trace_yield_last_5_bdays',\n",
       " 'trd_exctn_dt_last_5_bdays',\n",
       " 'price_first_5_bdays',\n",
       " 'volume_first_5_bdays',\n",
       " 'trace_yield_first_5_bdays',\n",
       " 'trd_exctn_dt_first_5_bdays',\n",
       " 'date_subj_adjustment',\n",
       " 'maturity',\n",
       " 'first_interest_date',\n",
       " 'denomination',\n",
       " 'issuer_cusip',\n",
       " 'last_interest_date',\n",
       " 'naics_code',\n",
       " 'announced_call',\n",
       " 'defaulted',\n",
       " 'redeemable',\n",
       " 'issue_id',\n",
       " 'offering_date',\n",
       " 'soft_call_make_whole',\n",
       " 'cusip_name',\n",
       " 'lesser_of',\n",
       " 'bond_type',\n",
       " 'greater_of',\n",
       " 'dated_date',\n",
       " 'coupon',\n",
       " 'issue_cusip',\n",
       " 'putable',\n",
       " 'principal_amt',\n",
       " 'issuer_id',\n",
       " 'sic_code',\n",
       " 'esop']"
      ]
     },
     "execution_count": 74,
     "metadata": {},
     "output_type": "execute_result"
    }
   ],
   "source": [
    "monthly_trade_df_cols"
   ]
  },
  {
   "cell_type": "code",
   "execution_count": 75,
   "id": "c8833765-6359-46db-ae6e-02f72058d2d2",
   "metadata": {},
   "outputs": [],
   "source": [
    "monthly_trade_df_nonstatic_cols_1 = frozenset([\"price_last_5_bdays\", \"volume_last_5_bdays\", \"trace_yield_last_5_bdays\", \"trd_exctn_dt_last_5_bdays\",\n",
    "                                               \"price_first_5_bdays\", \"volume_first_5_bdays\", \"trace_yield_first_5_bdays\", \"trd_exctn_dt_first_5_bdays\",\n",
    "                                              ])\n",
    "monthly_trade_df_nonstatic_cols_2 = frozenset([\"price_last_5_bdays\", \"volume_last_5_bdays\", \"trace_yield_last_5_bdays\", \"trd_exctn_dt_last_5_bdays\",\n",
    "                                               \"price_first_5_bdays\", \"volume_first_5_bdays\", \"trace_yield_first_5_bdays\", \"trd_exctn_dt_first_5_bdays\",\n",
    "                                               \"complete_cusip\", \"month_end_date\"\n",
    "                                              ])\n",
    "monthly_trade_df_static_cols_1 = [x for x in monthly_trade_df_cols if x not in monthly_trade_df_nonstatic_cols_1]\n",
    "monthly_trade_df_static_cols_2 = [x for x in monthly_trade_df_cols if x not in monthly_trade_df_nonstatic_cols_2]"
   ]
  },
  {
   "cell_type": "code",
   "execution_count": 76,
   "id": "29c3b072-c666-49d7-8fac-f29e27a90ee5",
   "metadata": {},
   "outputs": [],
   "source": [
    "#groupby complete_cusip only\n",
    "def monthly_agg_2(group, apply_ffill_cols):\n",
    "    \n",
    "    start_date = group[\"month_end_date\"].iloc[0]\n",
    "    end_date = group[\"month_end_date\"].iloc[-1]\n",
    "    group = group.set_index(\"month_end_date\")\n",
    "    full_date_index = pd.DatetimeIndex(pd.Series(pd.date_range(start=start_date, \n",
    "                                                               end=end_date, \n",
    "                                                               freq=\"ME\")).apply(trading_bdays.rollback))\n",
    "    group_reindexed = group.reindex(full_date_index)\n",
    "    group_reindexed = group_reindexed.reset_index().rename(columns={\"index\":\"month_end_date\"})\n",
    "    group_reindexed.loc[:, apply_ffill_cols] = group_reindexed[apply_ffill_cols].fillna(method=\"ffill\")\n",
    "    \n",
    "    group_reindexed.loc[:,\"price_first_5_bdays\"] = group_reindexed[\"price_first_5_bdays\"].shift(-1)\n",
    "    group_reindexed.loc[:,\"volume_first_5_bdays\"] = group_reindexed[\"volume_first_5_bdays\"].shift(-1)\n",
    "    group_reindexed.loc[:,\"trace_yield_first_5_bdays\"] = group_reindexed[\"trace_yield_first_5_bdays\"].shift(-1)\n",
    "    group_reindexed.loc[:,\"trd_exctn_dt_first_5_bdays\"] = group_reindexed[\"trd_exctn_dt_first_5_bdays\"].shift(-1)\n",
    "    \n",
    "    return group_reindexed\n",
    "\n",
    "monthly_agg_2_with_cols = partial(monthly_agg_2, apply_ffill_cols=monthly_trade_df_static_cols_1)\n",
    "\n",
    "#groupby complete_cusip and month_end_date\n",
    "def monthly_agg_3(group, apply_first_cols):\n",
    "\n",
    "    group_row = group.iloc[0]\n",
    "    return_dict = dict(\n",
    "        price = np.nan,\n",
    "        volume = np.nan,\n",
    "        trace_yield = np.nan,\n",
    "        actual_exctn_dt = np.nan\n",
    "    )\n",
    "    \n",
    "    month_end_date = group_row[\"month_end_date\"]\n",
    "    next_month_end_date = month_end_date + pd.DateOffset(months=1)\n",
    "    next_month_exctn_dt = group_row[\"trd_exctn_dt_first_5_bdays\"]\n",
    "    curr_month_exctn_dt = group_row[\"trd_exctn_dt_last_5_bdays\"]\n",
    "    \n",
    "    if curr_month_exctn_dt != np.nan:\n",
    "        \n",
    "        return_dict[\"price\"] = group_row[\"price_last_5_bdays\"]\n",
    "        return_dict[\"volume\"] = group_row[\"volume_last_5_bdays\"]\n",
    "        return_dict[\"trace_yield\"] = group_row[\"trace_yield_last_5_bdays\"]\n",
    "        return_dict[\"actual_exctn_dt\"] = group_row[\"trd_exctn_dt_last_5_bdays\"]\n",
    "        \n",
    "    else:\n",
    "        \n",
    "        if next_month_exctn_dt != np.nan:\n",
    "            \n",
    "            next_month_exctn_dt_is_subsequent = ((next_month_end_date.month == next_month_exctn_dt.month) & \n",
    "                                                 (next_month_end_date.year == next_month_exctn_dt.year))\n",
    "            if next_month_exctn_dt_is_subsequent:\n",
    "                \n",
    "                return_dict[\"price\"] = group_row[\"price_first_5_bdays\"]\n",
    "                return_dict[\"volume\"] = group_row[\"volume_first_5_bdays\"]\n",
    "                return_dict[\"trace_yield\"] = group_row[\"trace_yield_first_5_bdays\"]\n",
    "                return_dict[\"actual_exctn_dt\"] = group_row[\"trd_exctn_dt_first_5_bdays\"]\n",
    "\n",
    "    return_dict.update(group_row[apply_first_cols].to_dict())\n",
    "\n",
    "    return pd.Series(return_dict)\n",
    "\n",
    "monthly_agg_3_with_cols = partial(monthly_agg_3, apply_first_cols=monthly_trade_df_static_cols_2)\n",
    "        "
   ]
  },
  {
   "cell_type": "code",
   "execution_count": 77,
   "id": "13f62826-92fc-4fd2-b607-d458752feb70",
   "metadata": {},
   "outputs": [
    {
     "name": "stderr",
     "output_type": "stream",
     "text": [
      "C:\\Users\\wvill\\AppData\\Local\\Temp\\ipykernel_17788\\1036509494.py:1: DeprecationWarning: DataFrameGroupBy.apply operated on the grouping columns. This behavior is deprecated, and in a future version of pandas the grouping columns will be excluded from the operation. Either pass `include_groups=False` to exclude the groupings or explicitly select the grouping columns after groupby to silence this warning.\n",
      "  monthly_trade_df_2 = monthly_trade_df.groupby(\"complete_cusip\").apply(\n"
     ]
    }
   ],
   "source": [
    "monthly_trade_df_2 = monthly_trade_df.groupby(\"complete_cusip\").apply(\n",
    "    monthly_agg_2_with_cols\n",
    ").reset_index(drop=True)"
   ]
  },
  {
   "cell_type": "code",
   "execution_count": 78,
   "id": "3b523786-b841-4785-89fa-e195bbf635d4",
   "metadata": {},
   "outputs": [
    {
     "name": "stderr",
     "output_type": "stream",
     "text": [
      "C:\\Users\\wvill\\AppData\\Local\\Temp\\ipykernel_17788\\2202267793.py:1: DeprecationWarning: DataFrameGroupBy.apply operated on the grouping columns. This behavior is deprecated, and in a future version of pandas the grouping columns will be excluded from the operation. Either pass `include_groups=False` to exclude the groupings or explicitly select the grouping columns after groupby to silence this warning.\n",
      "  monthly_trade_df_3 = monthly_trade_df_2.groupby([\"complete_cusip\", \"month_end_date\"]).apply(\n"
     ]
    }
   ],
   "source": [
    "monthly_trade_df_3 = monthly_trade_df_2.groupby([\"complete_cusip\", \"month_end_date\"]).apply(\n",
    "    monthly_agg_3_with_cols\n",
    ").reset_index()"
   ]
  },
  {
   "cell_type": "markdown",
   "id": "a6c65a09-72be-4596-8f57-942c2ec4bb2f",
   "metadata": {},
   "source": [
    "#### Saving Monthly Aggregation 2 & 3"
   ]
  },
  {
   "cell_type": "code",
   "execution_count": 79,
   "id": "a30aa0ce-b0cf-43f1-ba0c-9ad46809367e",
   "metadata": {},
   "outputs": [],
   "source": [
    "monthly_trade_df_3.to_parquet(\"monthly_bond_trade_data_2.parquet\", index=False)"
   ]
  },
  {
   "cell_type": "code",
   "execution_count": 80,
   "id": "10a589a3-f82c-46c4-b016-12b535112a0b",
   "metadata": {
    "scrolled": true
   },
   "outputs": [
    {
     "data": {
      "text/plain": [
       "month_end_date                     0\n",
       "complete_cusip                     0\n",
       "price_last_5_bdays            743116\n",
       "volume_last_5_bdays           743116\n",
       "trace_yield_last_5_bdays      743116\n",
       "trd_exctn_dt_last_5_bdays     743116\n",
       "price_first_5_bdays           735588\n",
       "volume_first_5_bdays          735588\n",
       "trace_yield_first_5_bdays     735588\n",
       "trd_exctn_dt_first_5_bdays    735588\n",
       "date_subj_adjustment          994123\n",
       "maturity                           0\n",
       "first_interest_date                0\n",
       "denomination                       0\n",
       "issuer_cusip                       0\n",
       "last_interest_date                 0\n",
       "naics_code                         0\n",
       "announced_call                     0\n",
       "defaulted                          0\n",
       "redeemable                         0\n",
       "issue_id                           0\n",
       "offering_date                    109\n",
       "soft_call_make_whole          994062\n",
       "cusip_name                         0\n",
       "lesser_of                     994047\n",
       "bond_type                          0\n",
       "greater_of                    994047\n",
       "dated_date                         0\n",
       "coupon                             0\n",
       "issue_cusip                        0\n",
       "putable                           23\n",
       "principal_amt                      0\n",
       "issuer_id                          0\n",
       "sic_code                         275\n",
       "esop                             819\n",
       "dtype: int64"
      ]
     },
     "execution_count": 80,
     "metadata": {},
     "output_type": "execute_result"
    }
   ],
   "source": [
    "monthly_trade_df_2.isna().sum()"
   ]
  },
  {
   "cell_type": "code",
   "execution_count": 81,
   "id": "bf6b0eb3-a286-425e-b7a4-7756cd58db4b",
   "metadata": {
    "scrolled": true
   },
   "outputs": [
    {
     "data": {
      "text/plain": [
       "complete_cusip               0\n",
       "month_end_date               0\n",
       "price                   743116\n",
       "volume                  743116\n",
       "trace_yield             743116\n",
       "actual_exctn_dt         743116\n",
       "date_subj_adjustment    994123\n",
       "maturity                     0\n",
       "first_interest_date          0\n",
       "denomination                 0\n",
       "issuer_cusip                 0\n",
       "last_interest_date           0\n",
       "naics_code                   0\n",
       "announced_call               0\n",
       "defaulted                    0\n",
       "redeemable                   0\n",
       "issue_id                     0\n",
       "offering_date              109\n",
       "soft_call_make_whole    994062\n",
       "cusip_name                   0\n",
       "lesser_of               994047\n",
       "bond_type                    0\n",
       "greater_of              994047\n",
       "dated_date                   0\n",
       "coupon                       0\n",
       "issue_cusip                  0\n",
       "putable                     23\n",
       "principal_amt                0\n",
       "issuer_id                    0\n",
       "sic_code                   275\n",
       "esop                       819\n",
       "dtype: int64"
      ]
     },
     "execution_count": 81,
     "metadata": {},
     "output_type": "execute_result"
    }
   ],
   "source": [
    "monthly_trade_df_3.isna().sum()"
   ]
  },
  {
   "cell_type": "markdown",
   "id": "c41fa8a0-16b6-41f0-af24-ce6e794eeb34",
   "metadata": {},
   "source": [
    "### Monthly Dirty Price Calculation (Accrued Interest + Coupon)"
   ]
  },
  {
   "cell_type": "markdown",
   "id": "ae4aac54-00ca-4771-ad0e-5c7667ba8923",
   "metadata": {},
   "source": [
    "#### ReLoading Monthly Price Data 2"
   ]
  },
  {
   "cell_type": "code",
   "execution_count": 69,
   "id": "e4802214-b6bb-466f-9bc2-0806dfd38c37",
   "metadata": {},
   "outputs": [],
   "source": [
    "monthly_df = pd.read_parquet(\"monthly_bond_trade_data_2.parquet\")"
   ]
  },
  {
   "cell_type": "code",
   "execution_count": 26,
   "id": "85bc5ed1-544c-490b-a9fa-f1185a2d764d",
   "metadata": {
    "jupyter": {
     "source_hidden": true
    }
   },
   "outputs": [],
   "source": [
    "def get_holiday_list(year):\n",
    "    if year > 2020:\n",
    "        market_holidays = [\n",
    "            f\"{year}-01-01\", f\"{year}-01-15\", f\"{year}-02-19\", f\"{year}-05-27\",\n",
    "            f\"{year}-06-19\", f\"{year}-07-04\", f\"{year}-09-02\", f\"{year}-11-28\", f\"{year}-12-25\"\n",
    "        ]\n",
    "    else:\n",
    "        market_holidays = [\n",
    "            f\"{year}-01-01\", f\"{year}-01-15\", f\"{year}-02-19\", f\"{year}-05-27\",\n",
    "            f\"{year}-07-04\", f\"{year}-09-02\", f\"{year}-11-28\", f\"{year}-12-25\"\n",
    "        ]\n",
    "    return market_holidays\n",
    "\n",
    "holiday_dict = {year: get_holiday_list(year) for year in range(2002,2025)}\n",
    "holiday_list = [*holiday_dict[2002], *holiday_dict[2003], *holiday_dict[2004],\n",
    "                *holiday_dict[2005], *holiday_dict[2006], *holiday_dict[2007],\n",
    "                *holiday_dict[2008], *holiday_dict[2009], *holiday_dict[2010],\n",
    "                *holiday_dict[2011], *holiday_dict[2012], *holiday_dict[2013],\n",
    "                *holiday_dict[2014], *holiday_dict[2015], *holiday_dict[2016],\n",
    "                *holiday_dict[2017], *holiday_dict[2018], *holiday_dict[2019],\n",
    "                *holiday_dict[2020], *holiday_dict[2021], *holiday_dict[2022],\n",
    "                *holiday_dict[2023], *holiday_dict[2024]\n",
    "               ]\n",
    "trading_bdays = CustomBusinessDay(holidays=holiday_list)"
   ]
  },
  {
   "cell_type": "markdown",
   "id": "9ac7e949-5ded-4141-b101-91c35a7b6a15",
   "metadata": {},
   "source": [
    "#### Accrued Interest and Coupon Calculation"
   ]
  },
  {
   "cell_type": "code",
   "execution_count": 71,
   "id": "04f63b8f-751c-4381-b692-b54846e69cd7",
   "metadata": {},
   "outputs": [],
   "source": [
    "def accrued_interest_calculation(row, periodicity, asof_date_col):\n",
    "    \n",
    "    days_per_period_dict = {\n",
    "        2: 180,\n",
    "        4: 90,\n",
    "        6: 60,\n",
    "        12: 30\n",
    "    }\n",
    "    \n",
    "    acc_int = 0\n",
    "    \n",
    "    if (row[asof_date_col] > row[\"dated_date\"]) and (row[asof_date_col] <= row[\"maturity\"]):\n",
    "        \n",
    "        year_days_elapsed = (row[asof_date_col].year - row[\"dated_date\"].year) * 360\n",
    "        month_days_elapsed = (row[asof_date_col].month - row[\"dated_date\"].month) * 30\n",
    "        day_days_elapsed = (row[asof_date_col].day - row[\"dated_date\"].day)\n",
    "        prds_elapsed = (year_days_elapsed + month_days_elapsed + day_days_elapsed) / days_per_period_dict[periodicity]\n",
    "        whole_prds_elapsed = int(prds_elapsed)\n",
    "        frac_prds_elapsed = prds_elapsed - whole_prds_elapsed\n",
    "        acc_int = (row[\"coupon\"]/(periodicity*100)) * row[\"principal_amt\"]\n",
    "        \n",
    "        if frac_prds_elapsed != 0:\n",
    "            \n",
    "            days_since_last_pymnt = int(frac_prds_elapsed * days_per_period_dict[periodicity])\n",
    "            acc_int *= days_since_last_pymnt / days_per_period_dict[periodicity]\n",
    "            \n",
    "    return acc_int\n",
    "            "
   ]
  },
  {
   "cell_type": "code",
   "execution_count": 72,
   "id": "edb99c0a-b495-46ea-aad1-7c28aa3134af",
   "metadata": {},
   "outputs": [],
   "source": [
    "monthly_df.loc[:,\"clean_price\"] = monthly_df[\"price\"] * monthly_df[\"principal_amt\"] / 100"
   ]
  },
  {
   "cell_type": "code",
   "execution_count": 73,
   "id": "0f17b912-b0cb-4dad-a02f-990a57794489",
   "metadata": {
    "scrolled": true
   },
   "outputs": [],
   "source": [
    "monthly_df.loc[:,\"accrued_interest\"] = monthly_df.apply(\n",
    "    accrued_interest_calculation,\n",
    "    args=(2,\"month_end_date\"),\n",
    "    axis=1\n",
    ")"
   ]
  },
  {
   "cell_type": "raw",
   "id": "8fd36e51-7aa6-4b4a-bd63-5a6dbd7ffb50",
   "metadata": {},
   "source": [
    "monthly_df.loc[:,\"actual_exctn_dt_accrued_interest\"] = monthly_df.apply(\n",
    "    accrued_interest_calculation,\n",
    "    args=(2,\"actual_exctn_dt\"),\n",
    "    axis=1\n",
    ")"
   ]
  },
  {
   "cell_type": "code",
   "execution_count": 74,
   "id": "71382d12-3e7f-48bb-8073-8c31750108cd",
   "metadata": {},
   "outputs": [
    {
     "data": {
      "text/plain": [
       "count    994123.000000\n",
       "mean         16.356254\n",
       "std         102.973884\n",
       "min           0.000000\n",
       "25%           5.921528\n",
       "50%          12.266667\n",
       "75%          20.519444\n",
       "max       10242.187500\n",
       "Name: accrued_interest, dtype: float64"
      ]
     },
     "execution_count": 74,
     "metadata": {},
     "output_type": "execute_result"
    }
   ],
   "source": [
    "monthly_df[\"accrued_interest\"].describe()"
   ]
  },
  {
   "cell_type": "raw",
   "id": "9ceea248-c3c8-45c9-b959-54256b3a3dcf",
   "metadata": {},
   "source": [
    "monthly_df[\"actual_exctn_dt_accrued_interest\"].describe()"
   ]
  },
  {
   "cell_type": "markdown",
   "id": "31111c74-59e6-4c2e-8410-48adb275b84b",
   "metadata": {},
   "source": [
    "#### Dirty Price Calculation"
   ]
  },
  {
   "cell_type": "code",
   "execution_count": 75,
   "id": "99ed680b-6562-4d83-b58c-dd60e3e035b5",
   "metadata": {},
   "outputs": [],
   "source": [
    "monthly_df.loc[:, \"dirty_price\"] = monthly_df[\"clean_price\"] + monthly_df[\"accrued_interest\"]"
   ]
  },
  {
   "cell_type": "raw",
   "id": "f57a0052-1284-4d6a-82ef-9c5c5ffc6a61",
   "metadata": {},
   "source": [
    "monthly_df.loc[:, \"actual_exctn_dt_dirty_price\"] = monthly_df[\"clean_price\"] + monthly_df[\"actual_exctn_dt_accrued_interest\"]"
   ]
  },
  {
   "cell_type": "code",
   "execution_count": 76,
   "id": "5c7325a1-8522-4bdd-b071-20421e1593fd",
   "metadata": {},
   "outputs": [
    {
     "data": {
      "text/plain": [
       "bond_type\n",
       "CDEB    891309\n",
       "RNT      52248\n",
       "CMTN     47675\n",
       "UCID      1826\n",
       "FGOV       500\n",
       "CCOV       244\n",
       "ABS        146\n",
       "CPAS        96\n",
       "USBN        49\n",
       "ASPZ        30\n",
       "Name: count, dtype: int64"
      ]
     },
     "execution_count": 76,
     "metadata": {},
     "output_type": "execute_result"
    }
   ],
   "source": [
    "monthly_df[\"bond_type\"].value_counts()"
   ]
  },
  {
   "cell_type": "code",
   "execution_count": 77,
   "id": "8d566fc8-a182-4847-93d8-fe4497eea520",
   "metadata": {},
   "outputs": [
    {
     "data": {
      "text/plain": [
       "count    2.510070e+05\n",
       "mean     3.152631e+06\n",
       "std      1.001706e+07\n",
       "min      1.038450e+04\n",
       "25%      1.000000e+05\n",
       "50%      4.830000e+05\n",
       "75%      2.270000e+06\n",
       "max      6.668040e+08\n",
       "Name: volume, dtype: float64"
      ]
     },
     "execution_count": 77,
     "metadata": {},
     "output_type": "execute_result"
    }
   ],
   "source": [
    "monthly_df[\"volume\"].describe()"
   ]
  },
  {
   "cell_type": "code",
   "execution_count": 78,
   "id": "dab72932-3547-42e0-9749-cd3a6f217e43",
   "metadata": {},
   "outputs": [
    {
     "data": {
      "text/plain": [
       "count       708.000000\n",
       "mean      37423.542988\n",
       "std       72005.170669\n",
       "min           0.000000\n",
       "25%        2069.415905\n",
       "50%        4093.123994\n",
       "75%        6441.844783\n",
       "max      322994.791667\n",
       "Name: dirty_price, dtype: float64"
      ]
     },
     "execution_count": 78,
     "metadata": {},
     "output_type": "execute_result"
    }
   ],
   "source": [
    "monthly_df[(monthly_df[\"principal_amt\"]!=1000)][\"dirty_price\"].describe()"
   ]
  },
  {
   "cell_type": "code",
   "execution_count": 79,
   "id": "c6399254-f7ab-40eb-9b5c-3a401a0d632a",
   "metadata": {},
   "outputs": [
    {
     "data": {
      "text/plain": [
       "count    250299.000000\n",
       "mean       1046.865098\n",
       "std         144.052615\n",
       "min           3.224028\n",
       "25%         991.454623\n",
       "50%        1042.061388\n",
       "75%        1108.718387\n",
       "max        9757.737089\n",
       "Name: dirty_price, dtype: float64"
      ]
     },
     "execution_count": 79,
     "metadata": {},
     "output_type": "execute_result"
    }
   ],
   "source": [
    "monthly_df[(monthly_df[\"principal_amt\"]==1000)][\"dirty_price\"].describe()"
   ]
  },
  {
   "cell_type": "markdown",
   "id": "d16f511b-22bb-4734-859e-2a199b927a44",
   "metadata": {},
   "source": [
    "#### Interpolating Dirty Price by Time"
   ]
  },
  {
   "cell_type": "code",
   "execution_count": 143,
   "id": "a6467e03-f640-46df-86b7-6c8ce99a12ec",
   "metadata": {},
   "outputs": [],
   "source": [
    "def dirtyPriceInterpolation(group):\n",
    "    \n",
    "    group.loc[:,\"dirty_price\"] = group.set_index(\"month_end_date\")[\"dirty_price\"].interpolate(method=\"time\").values\n",
    "\n",
    "\n",
    "    return group"
   ]
  },
  {
   "cell_type": "code",
   "execution_count": 144,
   "id": "9134f79f-9c87-47a2-b4af-ac10f740e95c",
   "metadata": {},
   "outputs": [
    {
     "name": "stderr",
     "output_type": "stream",
     "text": [
      "C:\\Users\\wvill\\AppData\\Local\\Temp\\ipykernel_1152\\832415479.py:1: DeprecationWarning: DataFrameGroupBy.apply operated on the grouping columns. This behavior is deprecated, and in a future version of pandas the grouping columns will be excluded from the operation. Either pass `include_groups=False` to exclude the groupings or explicitly select the grouping columns after groupby to silence this warning.\n",
      "  interp_monthly_df = monthly_df.groupby(\"complete_cusip\", group_keys=False).apply(\n"
     ]
    }
   ],
   "source": [
    "interp_monthly_df = monthly_df.groupby(\"complete_cusip\", group_keys=False).apply(\n",
    "    dirtyPriceInterpolation\n",
    ")"
   ]
  },
  {
   "cell_type": "markdown",
   "id": "71f98e7d-75cc-4184-a830-cc5eea9194e5",
   "metadata": {},
   "source": [
    "#### Bond Return Calculation"
   ]
  },
  {
   "cell_type": "code",
   "execution_count": 145,
   "id": "221af828-ab65-4af9-a6ef-3bf88b8d8475",
   "metadata": {},
   "outputs": [],
   "source": [
    "interp_monthly_df[\"bond_return\"] = interp_monthly_df.groupby(\"complete_cusip\")[\"dirty_price\"].transform(\n",
    "    lambda col: (col / col.shift()) - 1\n",
    ")"
   ]
  },
  {
   "cell_type": "markdown",
   "id": "7e83f54f-58b9-49b3-89c3-9b91599bd7a5",
   "metadata": {},
   "source": [
    "#### Bond Type and Face Value Filtering"
   ]
  },
  {
   "cell_type": "code",
   "execution_count": 147,
   "id": "87b8bd6f-805e-4d84-a0fc-beb7e3be0ab5",
   "metadata": {},
   "outputs": [],
   "source": [
    "desired_bond_type_filter = interp_monthly_df[\"bond_type\"].isin([\"CDEB\", \"RNT\", \"CMTN\", \"UCID\"])\n",
    "face_value_filter = interp_monthly_df[\"principal_amt\"] == 1000"
   ]
  },
  {
   "cell_type": "code",
   "execution_count": 148,
   "id": "275c1528-1972-4445-b4b2-ce68460037b6",
   "metadata": {},
   "outputs": [],
   "source": [
    "filt1_monthly_df = interp_monthly_df[desired_bond_type_filter & face_value_filter].reset_index(drop=True)"
   ]
  },
  {
   "cell_type": "code",
   "execution_count": 149,
   "id": "428bedb8-40dd-438f-a778-e68e924dd91b",
   "metadata": {},
   "outputs": [
    {
     "data": {
      "text/plain": [
       "0.9956796090624601"
      ]
     },
     "execution_count": 149,
     "metadata": {},
     "output_type": "execute_result"
    }
   ],
   "source": [
    "len(filt1_monthly_df) / len(interp_monthly_df)"
   ]
  },
  {
   "cell_type": "code",
   "execution_count": 150,
   "id": "6c76cecf-bb9d-4389-9305-f969467679d3",
   "metadata": {},
   "outputs": [
    {
     "data": {
      "text/plain": [
       "260"
      ]
     },
     "execution_count": 150,
     "metadata": {},
     "output_type": "execute_result"
    }
   ],
   "source": [
    "avg_months_per_bond = int(filt1_monthly_df[filt1_monthly_df[\"dirty_price\"].notna()].groupby(\"complete_cusip\")[\"dirty_price\"].count().max())\n",
    "avg_months_per_bond"
   ]
  },
  {
   "cell_type": "code",
   "execution_count": 151,
   "id": "148e4f7f-ff4a-49d7-995b-1ea2bfe74628",
   "metadata": {},
   "outputs": [
    {
     "data": {
      "text/plain": [
       "count    941581.000000\n",
       "mean       1054.947253\n",
       "std         148.142736\n",
       "min           3.224028\n",
       "25%         994.337629\n",
       "50%        1047.289275\n",
       "75%        1119.968889\n",
       "max        9757.737089\n",
       "Name: dirty_price, dtype: float64"
      ]
     },
     "execution_count": 151,
     "metadata": {},
     "output_type": "execute_result"
    }
   ],
   "source": [
    "filt1_monthly_df[\"dirty_price\"].describe()"
   ]
  },
  {
   "cell_type": "code",
   "execution_count": 152,
   "id": "0e9679dc-1b14-402b-92f2-a5607f89998b",
   "metadata": {},
   "outputs": [
    {
     "data": {
      "text/plain": [
       "count    926538.000000\n",
       "mean         -0.000739\n",
       "std           0.023069\n",
       "min          -0.923953\n",
       "25%          -0.004694\n",
       "50%           0.000000\n",
       "75%           0.004313\n",
       "max           1.373822\n",
       "Name: bond_return, dtype: float64"
      ]
     },
     "execution_count": 152,
     "metadata": {},
     "output_type": "execute_result"
    }
   ],
   "source": [
    "filt1_monthly_df[\"bond_return\"].describe()"
   ]
  },
  {
   "cell_type": "markdown",
   "id": "60344234-a2ac-4fa0-9382-ab648a1005cf",
   "metadata": {},
   "source": [
    "#### Bullet Bond Only DF Filtering"
   ]
  },
  {
   "cell_type": "code",
   "execution_count": 153,
   "id": "fd450970-b7d1-429e-b5d7-58f83c0624d9",
   "metadata": {},
   "outputs": [],
   "source": [
    "filt2_redeemable_filter = filt1_monthly_df[\"redeemable\"] == \"N\"\n",
    "filt2_putable_filter = filt1_monthly_df[\"putable\"] == \"N\""
   ]
  },
  {
   "cell_type": "code",
   "execution_count": 154,
   "id": "8e897284-94a5-4736-88da-0a5ec8cad246",
   "metadata": {},
   "outputs": [],
   "source": [
    "filt2_monthly_df = filt1_monthly_df[(filt2_redeemable_filter &\n",
    "                                     filt2_putable_filter)].reset_index(drop=True)"
   ]
  },
  {
   "cell_type": "markdown",
   "id": "39ecb43f-60c3-4922-88c5-2fa69c23949b",
   "metadata": {},
   "source": [
    "#### Saving Bullet Bond Only DF"
   ]
  },
  {
   "cell_type": "code",
   "execution_count": 155,
   "id": "e8a0beeb-698f-40a3-bd91-7c5d3c6c2cc3",
   "metadata": {},
   "outputs": [],
   "source": [
    "filt2_monthly_df.to_csv(\"bullet_monthly_df.csv\", index=False)"
   ]
  },
  {
   "cell_type": "markdown",
   "id": "46f69431-ac2c-4a0c-bc40-b5ccd8536e39",
   "metadata": {},
   "source": [
    "#### Bonds w/ Option  Only DF Filtering"
   ]
  },
  {
   "cell_type": "code",
   "execution_count": 156,
   "id": "447d5310-a852-4e31-9276-4880d1e660fa",
   "metadata": {},
   "outputs": [],
   "source": [
    "filt3_monthly_df = filt1_monthly_df[(~filt2_redeemable_filter &\n",
    "                                     ~filt2_putable_filter)].reset_index(drop=True)"
   ]
  },
  {
   "cell_type": "markdown",
   "id": "344d4c1e-3343-42ac-9da9-61979eb4c314",
   "metadata": {},
   "source": [
    "#### Saving Bond w/ Option Only DF"
   ]
  },
  {
   "cell_type": "code",
   "execution_count": 157,
   "id": "703f8cbd-70de-471e-860d-a894031c1435",
   "metadata": {},
   "outputs": [],
   "source": [
    "filt3_monthly_df.to_csv(\"option_monthly_df.csv\", index=False)"
   ]
  },
  {
   "cell_type": "markdown",
   "id": "b3907e66-14f6-4052-b164-4b113247c1ac",
   "metadata": {},
   "source": [
    "### Monthly Yield Calculation - Bullet Bonds"
   ]
  },
  {
   "cell_type": "markdown",
   "id": "78884e8b-6650-4b00-b4ca-5a2803b3d34e",
   "metadata": {},
   "source": [
    "#### Bullet Bond Pricer for Yield Extraction - Overestimates Dirty Price (even at intraday transaction level)"
   ]
  },
  {
   "cell_type": "code",
   "execution_count": 99,
   "id": "a043ddbc-fdd3-4d16-b7b5-3a5801f193cc",
   "metadata": {},
   "outputs": [],
   "source": [
    "def bulletBondPricer(ytm, coupon, periodicity, face_value, asof_date, maturity_date):\n",
    "    \n",
    "    days_per_period_dict = {\n",
    "        2: 180,\n",
    "        4: 90,\n",
    "        6: 60,\n",
    "        12: 30\n",
    "    }\n",
    "    \n",
    "    #coupon divided by 100 to get percentage terms, then by 2 to get semi annual figure\n",
    "    cpn = coupon / (periodicity * 100)\n",
    "    yld = ytm / (periodicity * 100)\n",
    "    price = 0\n",
    "    \n",
    "    #periods left calculated using 30/360 day count basis based on asof_date and maturity_date\n",
    "    years_remaining = maturity_date.year - asof_date.year\n",
    "    year_days_remaining = (years_remaining) * 360\n",
    "    month_days_remaining = (maturity_date.month - asof_date.month) * 30\n",
    "    day_days_remaining = (maturity_date.day - asof_date.day)\n",
    "    prds_remaining = (year_days_remaining + month_days_remaining + day_days_remaining) / days_per_period_dict[periodicity]\n",
    "    whole_prds_remaining = int(prds_remaining)\n",
    "    frac_prds_remaining = prds_remaining - whole_prds_remaining\n",
    "\n",
    "    #add remaining discounted cash flows from current period to price\n",
    "    price += (cpn*face_value) * (1 + yld)**-frac_prds_remaining\n",
    "\n",
    "    #add discounted cash flows from remaining periods from period 1 to last_period-1 \n",
    "    for i in range(1,whole_prds_remaining):\n",
    "        price += (cpn*face_value) * (1 + yld)**-(i+frac_prds_remaining)\n",
    "\n",
    "    #add final discounted cash flow of coupon and face value to price for last period\n",
    "    price += ((cpn + 1) * face_value) * (1 + yld)**-(whole_prds_remaining + frac_prds_remaining)\n",
    "    \n",
    "    return price\n",
    "\n",
    "def bulletBondTargetPriceFunction(ytm, dirty_price, coupon, periodicity, face_value, asof_date, maturity_date):\n",
    "\n",
    "    return (bulletBondPricer(ytm, coupon, periodicity, face_value, asof_date, maturity_date) - dirty_price)**2\n",
    "\n",
    "def bulletBondYieldExtractor(dirty_price, coupon, periodicity, face_value, asof_date, maturity_date):\n",
    "\n",
    "    yield_sol = minimize_scalar(bulletBondTargetPriceFunction, bounds=(0.0,500), method=\"bounded\",args=(dirty_price, coupon, periodicity, face_value, asof_date, maturity_date)).x\n",
    "    \n",
    "    return yield_sol\n",
    "    "
   ]
  },
  {
   "cell_type": "code",
   "execution_count": 141,
   "id": "79144667-bacf-400d-85a8-5488d6f0cc17",
   "metadata": {},
   "outputs": [],
   "source": [
    "def svenssonZeroCouponYield(n_years, beta0, beta1, beta2, beta3, tau1, tau2):\n",
    "\n",
    "    terma = n_years/tau1\n",
    "    termb = n_years/tau2\n",
    "\n",
    "    #bounds to deal with numerical errors between the 0 and 1 yr to maturity interval\n",
    "    \n",
    "    if abs(terma) < 1e-8:\n",
    "        terma=1e-8\n",
    "    if abs(termb) < 1e-8:\n",
    "        termb=1e-8\n",
    "\n",
    "    if abs(terma) > 1e-8:\n",
    "        terma=1e-8\n",
    "    if abs(termb) > 1e-8:\n",
    "        termb=1e-8\n",
    "\n",
    "    term1 = beta0\n",
    "    term2 = beta1 * ((1-np.exp(-terma))/terma)\n",
    "    term3 = beta2 * (((1-np.exp(-terma))/terma)-np.exp(-terma))\n",
    "    term4 = beta3 * (((1-np.exp(-termb))/termb)-np.exp(-termb))\n",
    "\n",
    "    return term1 + term2 + term3 + term4"
   ]
  },
  {
   "cell_type": "code",
   "execution_count": 140,
   "id": "25e80146-2389-4b36-a71f-10eb915b9e6b",
   "metadata": {},
   "outputs": [],
   "source": [
    "def durationWeightedTreasuryReturn(ytm, dirty_price, coupon, periodicity, face_value, asof_date, maturity_date, b0, b1, b2, b3, t1, t2, asof_date_p, b0_p, b1_p, b2_p, b3_p, t1_p, t2_p):\n",
    "\n",
    "    #_p next to param signifies param from previous asof_date t-1 if current asof_date is t\n",
    "    \n",
    "    days_per_period_dict = {\n",
    "        2: 180,\n",
    "        4: 90,\n",
    "        6: 60,\n",
    "        12: 30\n",
    "    }\n",
    "\n",
    "    #asof_date difference, using actual/actual day count basis for zero coupon treasuries\n",
    "    asof_date_days_diff = (asof_date - asof_date_p).days\n",
    "    if asof_date.is_leap_year:\n",
    "        asof_date_yr_diff = asof_date_days_diff / 366\n",
    "    else:\n",
    "        asof_date_yr_diff = asof_date_days_diff / 365\n",
    "    \n",
    "    #periods left calculated using 30/360 day count basis based on asof_date and maturity_date\n",
    "    yrs_days_left = (maturity_date.year - asof_date.year) * 360\n",
    "    mth_days_left = (maturity_date.month - asof_date.month) * 30\n",
    "    day_days_left = (maturity_date.day - asof_date.day)\n",
    "    prds_left = (yrs_days_left + mth_days_left + day_days_left) / days_per_period_dict[periodicity]\n",
    "    whole_prds_left = int(prds_left)\n",
    "    frac_prds_left = prds_left - whole_prds_left\n",
    "\n",
    "    #coupon divided by 100 to get percentage terms, then by periodicity to get per-period figure\n",
    "    cpn = coupon / (periodicity * 100)\n",
    "    yld = ytm / (periodicity * 100)\n",
    "\n",
    "    #initialize weighted_return\n",
    "    weighted_return = 0\n",
    "\n",
    "    for k in range(0,whole_prds_left+1):\n",
    "\n",
    "        prds_to_kth_cf = k + frac_prds_left\n",
    "\n",
    "        if prds_to_kth_cf < (whole_prds_left + frac_prds_left):\n",
    "            kth_cf = cpn * face_value\n",
    "        else:\n",
    "            kth_cf = (cpn + 1) * face_value\n",
    "\n",
    "        temp_term = 1 / (periodicity * dirty_price)\n",
    "        temp_term *= kth_cf * ((1 + yld) ** -(prds_to_kth_cf + 1))\n",
    "\n",
    "        yrs_to_kth_cf = prds_to_kth_cf / periodicity\n",
    "        prev_yrs_to_kth_cf = yrs_to_kth_cf + asof_date_yr_diff\n",
    "\n",
    "        zc_trsy_yld = svenssonZeroCouponYield(yrs_to_kth_cf,b0,b1,b2,b3,t1,t2) / 100\n",
    "        prev_zc_trsy_yld = svenssonZeroCouponYield(prev_yrs_to_kth_cf,b0_p,b1_p,b2_p,b3_p,t1_p,t2_p) / 100\n",
    "\n",
    "        pv_zc_trsy_val = np.exp(- (yrs_to_kth_cf * zc_trsy_yld))\n",
    "        prev_pv_zc_trsy_val = np.exp(- (prev_yrs_to_kth_cf * prev_zc_trsy_yld))\n",
    "\n",
    "        if prev_pv_zc_trsy_val < 1e-8:\n",
    "            prev_pv_zc_trsy_val = 1e-8\n",
    "        # zero coupon treasury return\n",
    "        zc_trsy_ret = (pv_zc_trsy_val / prev_pv_zc_trsy_val) - 1\n",
    "\n",
    "        temp_term *= zc_trsy_ret\n",
    "\n",
    "        weighted_return += temp_term\n",
    "\n",
    "    return weighted_return"
   ]
  },
  {
   "cell_type": "markdown",
   "id": "ebb5ea90-b290-492b-bfb3-22b9aa7fb9b7",
   "metadata": {},
   "source": [
    "#### Loading Bullet Bond DF"
   ]
  },
  {
   "cell_type": "code",
   "execution_count": 6,
   "id": "90280c0d-2f36-4df9-aa4f-adc8de0e1f98",
   "metadata": {
    "scrolled": true
   },
   "outputs": [],
   "source": [
    "bullet_df = pd.read_csv(\"bullet_monthly_df.csv\")\n",
    "date_cols = [col for col in bullet_df.columns if (\"_dt\" in col) or (\"_date\" in col) or (col==\"maturity\")]\n",
    "bullet_df[date_cols] = bullet_df[date_cols].apply(pd.to_datetime)"
   ]
  },
  {
   "cell_type": "markdown",
   "id": "c4f90ff3-c667-4326-8eb6-5dc13a540640",
   "metadata": {},
   "source": [
    "#### Yield Extraction"
   ]
  },
  {
   "cell_type": "code",
   "execution_count": 114,
   "id": "c58178dd-1fef-4222-8cf9-9137c182cf47",
   "metadata": {},
   "outputs": [],
   "source": [
    "bullet_df.loc[:,\"yield\"] = bullet_df.apply(\n",
    "    lambda row: bulletBondYieldExtractor(row[\"dirty_price\"],\n",
    "                                         row[\"coupon\"],\n",
    "                                         2,\n",
    "                                         row[\"principal_amt\"],\n",
    "                                         row[\"month_end_date\"],\n",
    "                                         row[\"maturity\"]),\n",
    "    axis=1\n",
    ")"
   ]
  },
  {
   "cell_type": "markdown",
   "id": "93fa1630-a6e3-4737-8056-70ba725d8b64",
   "metadata": {},
   "source": [
    "### Monthly Duration-Based Weighting Calculation"
   ]
  },
  {
   "cell_type": "markdown",
   "id": "671380a3-767e-43c4-821c-a87e2494f77c",
   "metadata": {},
   "source": [
    "#### Merging Continuously Compounded Zero Coupon Yield Curve Params "
   ]
  },
  {
   "cell_type": "code",
   "execution_count": 90,
   "id": "b36af410-a3fe-46f9-908f-f8111f4c71f2",
   "metadata": {},
   "outputs": [],
   "source": [
    "yld_curve_params_df = pd.read_csv(\"svensson_yield_params.csv\")\n",
    "yld_curve_params_lowercase_cols = [col.lower() for col in yld_curve_params_df.columns]\n",
    "yld_curve_params_col_rename_map = dict(zip(yld_curve_params_df.columns,yld_curve_params_lowercase_cols))\n",
    "yld_curve_params_df.rename(columns=yld_curve_params_col_rename_map,inplace=True)\n",
    "yld_curve_params_df[\"month_end_date\"] = pd.to_datetime(yld_curve_params_df[\"date\"].apply(lambda x: f\"{x.split('/')[2]}-{x.split('/')[0]}-{x.split('/')[1]}\"))\n",
    "yld_curve_params_df = yld_curve_params_df[[\"month_end_date\",\"beta0\", \"beta1\", \"beta2\", \"beta3\", \"tau1\", \"tau2\"]]"
   ]
  },
  {
   "cell_type": "code",
   "execution_count": 115,
   "id": "be5b232b-23aa-41b3-99b0-bdf522d2a75b",
   "metadata": {},
   "outputs": [],
   "source": [
    "bullet_merged_df = bullet_df.merge(yld_curve_params_df,how=\"left\", on=\"month_end_date\")\n",
    "bullet_merged_df[[\"beta0_t-1\", \"beta1_t-1\", \"beta2_t-1\", \"beta3_t-1\", \"tau1_t-1\", \"tau2_t-1\"]] = bullet_merged_df[[\"beta0\", \"beta1\", \"beta2\", \"beta3\", \"tau1\", \"tau2\"]].shift()\n",
    "bullet_merged_df[\"month_end_date_t-1\"] = bullet_merged_df[\"month_end_date\"].shift()"
   ]
  },
  {
   "cell_type": "code",
   "execution_count": 116,
   "id": "73387970-6889-45b2-adc6-8534f7fd5115",
   "metadata": {},
   "outputs": [
    {
     "name": "stdout",
     "output_type": "stream",
     "text": [
      "Elapsed time: 29.1892 seconds\n"
     ]
    }
   ],
   "source": [
    "import time\n",
    "\n",
    "start = time.time()\n",
    "\n",
    "bullet_merged_df[\"duration_weighted_treasury_return\"] = bullet_merged_df.apply(\n",
    "    lambda row: durationWeightedTreasuryReturn(row[\"yield\"],\n",
    "                                               row[\"dirty_price\"], \n",
    "                                               row[\"coupon\"],\n",
    "                                               2,\n",
    "                                               row[\"principal_amt\"],\n",
    "                                               row[\"month_end_date\"],\n",
    "                                               row[\"maturity\"],\n",
    "                                               row[\"beta0\"],\n",
    "                                               row[\"beta1\"],\n",
    "                                               row[\"beta2\"],\n",
    "                                               row[\"beta3\"],\n",
    "                                               row[\"tau1\"],\n",
    "                                               row[\"tau2\"],\n",
    "                                               row[\"month_end_date_t-1\"],\n",
    "                                               row[\"beta0_t-1\"],\n",
    "                                               row[\"beta1_t-1\"],\n",
    "                                               row[\"beta2_t-1\"],\n",
    "                                               row[\"beta3_t-1\"],\n",
    "                                               row[\"tau1_t-1\"],\n",
    "                                               row[\"tau2_t-1\"],\n",
    "                                              ),\n",
    "    axis=1\n",
    ")\n",
    "\n",
    "end = time.time()\n",
    "print(f\"Elapsed time: {end - start:.4f} seconds\")\n"
   ]
  },
  {
   "cell_type": "code",
   "execution_count": 117,
   "id": "3cbd20d1-607a-4623-a79a-f0ff6dedf177",
   "metadata": {},
   "outputs": [
    {
     "data": {
      "text/plain": [
       "count    115016.000000\n",
       "mean          0.000435\n",
       "std           0.013868\n",
       "min          -0.329659\n",
       "25%          -0.001912\n",
       "50%           0.000273\n",
       "75%           0.002120\n",
       "max           1.187875\n",
       "Name: duration_weighted_treasury_return, dtype: float64"
      ]
     },
     "execution_count": 117,
     "metadata": {},
     "output_type": "execute_result"
    }
   ],
   "source": [
    "bullet_merged_df[\"duration_weighted_treasury_return\"].describe()"
   ]
  },
  {
   "cell_type": "code",
   "execution_count": 136,
   "id": "bf7fd23d-830b-41dd-94ba-0780043dd771",
   "metadata": {},
   "outputs": [
    {
     "data": {
      "text/plain": [
       "0.002219123884050777"
      ]
     },
     "execution_count": 136,
     "metadata": {},
     "output_type": "execute_result"
    }
   ],
   "source": [
    "len(bullet_merged_df[abs(bullet_merged_df[\"duration_weighted_treasury_return\"]) > .1][\"duration_weighted_treasury_return\"]) / len(bullet_merged_df)"
   ]
  },
  {
   "cell_type": "code",
   "execution_count": 118,
   "id": "4961fafb-c12a-42ab-98a2-d0653ee9d6d9",
   "metadata": {},
   "outputs": [
    {
     "data": {
      "text/plain": [
       "count    136991.000000\n",
       "mean         25.747316\n",
       "std          57.599073\n",
       "min           0.000006\n",
       "25%           4.157249\n",
       "50%           5.566157\n",
       "75%           7.347759\n",
       "max         499.999988\n",
       "Name: yield, dtype: float64"
      ]
     },
     "execution_count": 118,
     "metadata": {},
     "output_type": "execute_result"
    }
   ],
   "source": [
    "bullet_merged_df[\"yield\"].describe()"
   ]
  },
  {
   "cell_type": "code",
   "execution_count": 137,
   "id": "b9e5ad5d-5ee3-4728-885a-801fced5ccc9",
   "metadata": {},
   "outputs": [
    {
     "data": {
      "text/plain": [
       "0.1077443043703601"
      ]
     },
     "execution_count": 137,
     "metadata": {},
     "output_type": "execute_result"
    }
   ],
   "source": [
    "len(bullet_merged_df[bullet_merged_df[\"yield\"] > 100][\"yield\"]) / len(bullet_merged_df)"
   ]
  },
  {
   "cell_type": "code",
   "execution_count": 138,
   "id": "f598a85e-fc27-4f9f-b8c7-67884380bd65",
   "metadata": {
    "scrolled": true
   },
   "outputs": [
    {
     "data": {
      "text/plain": [
       "0.0037262872628726286"
      ]
     },
     "execution_count": 138,
     "metadata": {},
     "output_type": "execute_result"
    }
   ],
   "source": [
    "len(bullet_merged_df[(bullet_merged_df[\"yield\"]>100)&(bullet_merged_df[\"defaulted\"]==\"Y\")]) / len(bullet_merged_df[bullet_merged_df[\"yield\"]>100])"
   ]
  },
  {
   "cell_type": "code",
   "execution_count": null,
   "id": "9c82e181-351d-44a1-9ea6-866213cdb115",
   "metadata": {},
   "outputs": [],
   "source": []
  }
 ],
 "metadata": {
  "kernelspec": {
   "display_name": "Python 3 (ipykernel)",
   "language": "python",
   "name": "python3"
  },
  "language_info": {
   "codemirror_mode": {
    "name": "ipython",
    "version": 3
   },
   "file_extension": ".py",
   "mimetype": "text/x-python",
   "name": "python",
   "nbconvert_exporter": "python",
   "pygments_lexer": "ipython3",
   "version": "3.11.5"
  }
 },
 "nbformat": 4,
 "nbformat_minor": 5
}
